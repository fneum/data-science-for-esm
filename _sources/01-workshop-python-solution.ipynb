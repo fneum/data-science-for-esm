{
 "cells": [
  {
   "cell_type": "markdown",
   "metadata": {},
   "source": [
    "# Solutions `Python`"
   ]
  },
  {
   "cell_type": "markdown",
   "metadata": {},
   "source": [
    "**Task 1:** What is 5 to the power of 5 minus 5?"
   ]
  },
  {
   "cell_type": "code",
   "execution_count": null,
   "metadata": {
    "tags": [
     "hide-cell"
    ]
   },
   "outputs": [],
   "source": [
    "5**5 - 5"
   ]
  },
  {
   "cell_type": "markdown",
   "metadata": {},
   "source": [
    "**Task 2:** Create variables for the `efficiency` of 45% and the `input_energy` of 1000 MWh. Compute and print the `output_energy` using these variables."
   ]
  },
  {
   "cell_type": "code",
   "execution_count": null,
   "metadata": {},
   "outputs": [],
   "source": [
    "efficiency = 0.45\n",
    "input_energy = 1000  # MWh\n",
    "output_energy = efficiency * input_energy\n",
    "print(output_energy)"
   ]
  },
  {
   "cell_type": "markdown",
   "metadata": {},
   "source": [
    "**Task 3:** Split the following string into a list by splitting on the space character:"
   ]
  },
  {
   "cell_type": "code",
   "execution_count": null,
   "metadata": {
    "tags": [
     "hide-cell"
    ]
   },
   "outputs": [],
   "source": [
    "s = \"Data Science for Energy System Modelling\"\n",
    "s.split(\" \")"
   ]
  },
  {
   "cell_type": "markdown",
   "metadata": {},
   "source": [
    "**Task 4:** Create a list with the names of every planet in the solar system (in order).\n",
    "- Have Python tell you the name of the third planet.\n",
    "- Have Python tell you the total number of planets.\n",
    "- Have Python tell you whether \"Pluto\" is in the list of planets.\n",
    "- Iterate through your planets and print the planet name only if it has an \"s\" at the end.\n"
   ]
  },
  {
   "cell_type": "code",
   "execution_count": null,
   "metadata": {
    "tags": [
     "hide-cell"
    ]
   },
   "outputs": [],
   "source": [
    "planets = [\n",
    "    \"Mercury\",\n",
    "    \"Venus\",\n",
    "    \"Earth\",\n",
    "    \"Mars\",\n",
    "    \"Jupyter\",\n",
    "    \"Saturn\",\n",
    "    \"Uranus\",\n",
    "    \"Neptune\",\n",
    "]"
   ]
  },
  {
   "cell_type": "code",
   "execution_count": null,
   "metadata": {
    "tags": [
     "hide-cell"
    ]
   },
   "outputs": [],
   "source": [
    "planets[2]"
   ]
  },
  {
   "cell_type": "code",
   "execution_count": null,
   "metadata": {
    "tags": [
     "hide-cell"
    ]
   },
   "outputs": [],
   "source": [
    "len(planets)"
   ]
  },
  {
   "cell_type": "code",
   "execution_count": null,
   "metadata": {
    "tags": [
     "hide-cell"
    ]
   },
   "outputs": [],
   "source": [
    "for p in planets:\n",
    "    if p.endswith(\"s\"):\n",
    "        print(p)"
   ]
  },
  {
   "cell_type": "markdown",
   "metadata": {},
   "source": [
    "**Task 5:** Create a dictionary that contains the main facts about the [Reuter West power plant](https://powerplants.vattenfall.com/reuter-west/).\n",
    "\n",
    "- Have Python tell you the main fuel type used in the power plant.\n",
    "- Add the power plant's approximate latitude and longitude to the dictionary."
   ]
  },
  {
   "cell_type": "code",
   "execution_count": null,
   "metadata": {
    "tags": [
     "hide-cell"
    ]
   },
   "outputs": [],
   "source": [
    "rw = {\n",
    "    \"Country\": \"Germany\",\n",
    "    \"Electricity Capacity\": 564,\n",
    "    \"Heat Capacity\": 878,\n",
    "    \"Technology\": \"Combined heat and power (CHP)\",\n",
    "    \"Main Fuel\": \"Hard coal\",\n",
    "    \"Vattenfall ownership share\": \"100%\",\n",
    "    \"Status\": \"In Operation\",\n",
    "}"
   ]
  },
  {
   "cell_type": "code",
   "execution_count": null,
   "metadata": {
    "tags": [
     "hide-cell"
    ]
   },
   "outputs": [],
   "source": [
    "rw[\"Main Fuel\"]"
   ]
  },
  {
   "cell_type": "code",
   "execution_count": null,
   "metadata": {
    "tags": [
     "hide-cell"
    ]
   },
   "outputs": [],
   "source": [
    "rw[\"x\"] = 13.24\n",
    "rw[\"y\"] = 52.53"
   ]
  },
  {
   "cell_type": "markdown",
   "metadata": {},
   "source": [
    "**Task 6:** Write a function that converts units of energy from 'ktoe' to 'GWh'\n",
    "\n",
    "> https://www.iea.org/data-and-statistics/data-tools/unit-converter"
   ]
  },
  {
   "cell_type": "code",
   "execution_count": null,
   "metadata": {
    "tags": [
     "hide-cell"
    ]
   },
   "outputs": [],
   "source": [
    "def ktoe_to_gwh(x):\n",
    "    return 11.63 * x"
   ]
  },
  {
   "cell_type": "markdown",
   "metadata": {},
   "source": [
    "**Task 7:** Write a more general unit conversion function that converts between all units of energy listed under the link below. The function should take arguments: for the original value, the original unit and the target unit. Implement the function in a way that the default target unit is \"Wh\". Verify that function by converting 200 'toe' to 'Wh'.\n",
    "\n",
    "> https://www.iea.org/data-and-statistics/data-tools/unit-converter\n",
    "\n",
    ":::{note}\n",
    "You can also just pick three units to convert between if you don't feel like going through all combinations.\n",
    ":::"
   ]
  },
  {
   "cell_type": "code",
   "execution_count": null,
   "metadata": {
    "tags": [
     "hide-cell"
    ]
   },
   "outputs": [],
   "source": [
    "def to_joule(value, from_unit):\n",
    "    if from_unit.endswith(\"cal\"):\n",
    "        return value / 0.2390\n",
    "    elif from_unit.endswith(\"Btu\"):\n",
    "        return value / 0.0009478\n",
    "    elif from_unit.endswith(\"Wh\"):\n",
    "        return value / 0.0002778\n",
    "    elif from_unit.endswith(\"toe\"):\n",
    "        return value * 2.388e11\n",
    "    elif from_unit.endswith(\"tce\"):\n",
    "        return value * 3.412e11\n",
    "    else:\n",
    "        raise NotImplementedError()"
   ]
  },
  {
   "cell_type": "code",
   "execution_count": null,
   "metadata": {
    "tags": [
     "hide-cell"
    ]
   },
   "outputs": [],
   "source": [
    "def convert_unit(value, from_unit, to_unit=\"Wh\"):\n",
    "    x = to_joule(value, from_unit)\n",
    "    if to_unit.endswith(\"cal\"):\n",
    "        x *= 0.2390\n",
    "    elif to_unit.endswith(\"Btu\"):\n",
    "        x *= 0.0009478\n",
    "    elif to_unit.endswith(\"Wh\"):\n",
    "        x *= 0.0002778\n",
    "    elif to_unit.endswith(\"toe\"):\n",
    "        x /= 2.388e11\n",
    "    elif to_unit.endswith(\"tce\"):\n",
    "        x /= 3.412e11\n",
    "    else:\n",
    "        raise NotImplementedError()\n",
    "\n",
    "    return x"
   ]
  },
  {
   "cell_type": "code",
   "execution_count": null,
   "metadata": {
    "tags": [
     "hide-cell"
    ]
   },
   "outputs": [],
   "source": [
    "convert_unit(200, \"toe\")"
   ]
  },
  {
   "cell_type": "code",
   "execution_count": null,
   "metadata": {},
   "outputs": [],
   "source": []
  }
 ],
 "metadata": {
  "kernelspec": {
   "display_name": "esm-ws-25-26",
   "language": "python",
   "name": "python3"
  },
  "language_info": {
   "codemirror_mode": {
    "name": "ipython",
    "version": 3
   },
   "file_extension": ".py",
   "mimetype": "text/x-python",
   "name": "python",
   "nbconvert_exporter": "python",
   "pygments_lexer": "ipython3",
   "version": "3.12.12"
  }
 },
 "nbformat": 4,
 "nbformat_minor": 4
}

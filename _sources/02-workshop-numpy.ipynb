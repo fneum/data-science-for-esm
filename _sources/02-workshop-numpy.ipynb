{
 "cells": [
  {
   "cell_type": "markdown",
   "metadata": {},
   "source": [
    "# Introduction to `numpy` and `matplotlib`"
   ]
  },
  {
   "cell_type": "markdown",
   "metadata": {},
   "source": [
    ":::{note}\n",
    "This material is mostly adapted from the following resources:\n",
    "- [Earth and Environmental Data Science: Numpy and Matplotlib](https://earth-env-data-science.github.io/lectures/basic_scipy/numpy_and_matplotlib.html)\n",
    "- [Python Programming for Data Science: Chapter 5: Introduction to NumPy](https://www.tomasbeuzen.com/python-programming-for-data-science/chapters/chapter5-numpy.html)\n",
    ":::"
   ]
  },
  {
   "cell_type": "markdown",
   "metadata": {
    "tags": []
   },
   "source": [
    "This lecture will introduce NumPy and Matplotlib.\n",
    "**Numpy** and **Matplotlib** are two of the most fundamental parts of the scientific python ecosystem. Most of everything else is built on top of them.\n",
    "\n",
    "\n",
    "<img src=\"https://numpy.org/images/logo.svg\" width=\"100px\" />\n",
    "\n",
    "**Numpy**: _The fundamental package for scientific computing with Python. NumPy is the standard Python library used for working with arrays (i.e., vectors & matrices), linear algebra, and other numerical computations._\n",
    "\n",
    "- Website: <https://numpy.org/>\n",
    "- GitHub: <https://github.com/numpy/numpy>\n",
    "\n",
    ":::{note}\n",
    "Documentation for this package is available at https://numpy.org/doc/stable/index.html.\n",
    ":::\n",
    "\n",
    "<img src=\"https://matplotlib.org/stable/_images/sphx_glr_logos2_003_2_00x.png\" width=\"300px\" />\n",
    "\n",
    "**Matplotlib**: _Matplotlib is a comprehensive library for creating static and animated visualizations in Python._\n",
    "\n",
    "- Website: <https://matplotlib.org/>\n",
    "- GitHub: <https://github.com/matplotlib/matplotlib>\n",
    "\n",
    ":::{note}\n",
    "Documentation for this package is available at https://matplotlib.org/stable/index.html.\n",
    ":::"
   ]
  },
  {
   "cell_type": "markdown",
   "metadata": {
    "tags": []
   },
   "source": [
    ":::{note}\n",
    "If you have not yet set up Python on your computer, you can execute this tutorial in your browser via [Google Colab](https://colab.research.google.com/). Click on the rocket in the top right corner and launch \"Colab\". If that doesn't work download the `.ipynb` file and import it in [Google Colab](https://colab.research.google.com/)\n",
    "\n",
    "Then install `numpy` and `matplotlib` by executing the following command in a Jupyter cell at the top of the notebook.\n",
    "\n",
    "```sh\n",
    "!pip install matplotlib numpy\n",
    "```\n",
    ":::"
   ]
  },
  {
   "cell_type": "markdown",
   "metadata": {
    "tags": []
   },
   "source": [
    "## Importing Packages\n",
    "\n",
    "This will be our first experience with _importing_ package.\n",
    "\n",
    "Usually we import `numpy` with the _alias_ `np`.\n",
    "Matplotlib's plotting module is often imported with the alias `plt`."
   ]
  },
  {
   "cell_type": "code",
   "execution_count": null,
   "metadata": {},
   "outputs": [],
   "source": [
    "import numpy as np\n",
    "import matplotlib.pyplot as plt"
   ]
  },
  {
   "cell_type": "markdown",
   "metadata": {},
   "source": [
    "## NDArrays\n",
    "\n",
    "NDarrays (short for n-dimensional arrays) are a key data structure in `numpy`. NDarrays are similar to Python lists, but they allow for fast, efficient computations on large arrays and matrices of numerical data. NDarrays can have any number of dimensions, and are used for a wide range of numerical and scientific computing tasks.\n",
    "\n",
    "Thus, the main differences between a `numpy` array and a `list` are the following:\n",
    "- `numpy` arrays can have N dimensions (while lists only have 1)\n",
    "- `numpy` arrays hold values of the same datatype (e.g. `int`, `float`), while lists can contain anything.\n",
    "- `numpy` optimizes numerical operations on arrays for speed and efficiency."
   ]
  },
  {
   "cell_type": "markdown",
   "metadata": {},
   "source": [
    "<img src=\"https://predictivehacks.com/wp-content/uploads/2020/08/numpy_arrays.png\" width=\"720px\" />"
   ]
  },
  {
   "cell_type": "markdown",
   "metadata": {},
   "source": [
    "Numpy arrays can be created in several ways, for example from a Python list:"
   ]
  },
  {
   "cell_type": "code",
   "execution_count": null,
   "metadata": {},
   "outputs": [],
   "source": [
    "a = np.array([9, 0, 2, 1, 0])\n",
    "a\n"
   ]
  },
  {
   "cell_type": "code",
   "execution_count": null,
   "metadata": {},
   "outputs": [],
   "source": [
    "b = np.array([[5, 3, 1, 9], [9, 2, 3, 0]], dtype=np.float64)\n",
    "b"
   ]
  },
  {
   "cell_type": "markdown",
   "metadata": {},
   "source": [
    "Two key properties of numpy arrays are their **shape** and **datatype**. The shape of an array describes its dimensions (number of rows and columns), while the datatype describes the type of data stored in the array (e.g., integers, floats, etc.). You can check the shape and datatype of a numpy array using the `.shape` and `.dtype` attributes."
   ]
  },
  {
   "cell_type": "code",
   "execution_count": null,
   "metadata": {},
   "outputs": [],
   "source": [
    "a.dtype"
   ]
  },
  {
   "cell_type": "code",
   "execution_count": null,
   "metadata": {},
   "outputs": [],
   "source": [
    "a.shape"
   ]
  },
  {
   "cell_type": "code",
   "execution_count": null,
   "metadata": {},
   "outputs": [],
   "source": [
    "b.dtype"
   ]
  },
  {
   "cell_type": "code",
   "execution_count": null,
   "metadata": {},
   "outputs": [],
   "source": [
    "b.shape"
   ]
  },
  {
   "cell_type": "markdown",
   "metadata": {},
   "source": [
    "## Creating Arrays\n",
    "\n",
    "There are many different ways to create arrays, e.g., arrays with all zeros (`np.zeros()`), all ones (`np.ones()`), or random values (`np.random.rand()`), full arrays (`np.full()`), identity matrices (`np.eye()`), and more. `np.arange()` and `np.linspace()` are useful functions to create arrays with evenly spaced values."
   ]
  },
  {
   "cell_type": "code",
   "execution_count": null,
   "metadata": {},
   "outputs": [],
   "source": [
    "np.zeros((4, 4))"
   ]
  },
  {
   "cell_type": "code",
   "execution_count": null,
   "metadata": {},
   "outputs": [],
   "source": [
    "np.ones((2, 2, 3))"
   ]
  },
  {
   "cell_type": "code",
   "execution_count": null,
   "metadata": {},
   "outputs": [],
   "source": [
    "np.full((3, 2), np.pi)"
   ]
  },
  {
   "cell_type": "code",
   "execution_count": null,
   "metadata": {},
   "outputs": [],
   "source": [
    "np.random.rand(4, 2)"
   ]
  },
  {
   "cell_type": "code",
   "execution_count": null,
   "metadata": {},
   "outputs": [],
   "source": [
    "np.arange(10)"
   ]
  },
  {
   "cell_type": "code",
   "execution_count": null,
   "metadata": {},
   "outputs": [],
   "source": [
    "np.arange(2, 4, 0.25)"
   ]
  },
  {
   "cell_type": "code",
   "execution_count": null,
   "metadata": {},
   "outputs": [],
   "source": [
    "np.linspace(2, 4, 21)"
   ]
  },
  {
   "cell_type": "markdown",
   "metadata": {},
   "source": [
    "## Indexing and Slicing\n",
    "\n",
    "Basic indexing in `numpy` is similar to lists from standard Python. You can access individual elements of a numpy array using square brackets `[]` and the index of the element you want to access.\n",
    "\n",
    "To get a specific element of `b`, you can use:"
   ]
  },
  {
   "cell_type": "code",
   "execution_count": null,
   "metadata": {},
   "outputs": [],
   "source": [
    "b[1, 2]"
   ]
  },
  {
   "cell_type": "markdown",
   "metadata": {
    "scrolled": true
   },
   "source": [
    "To get a specific row of `b`, you can use:"
   ]
  },
  {
   "cell_type": "code",
   "execution_count": null,
   "metadata": {},
   "outputs": [],
   "source": [
    "b[0]"
   ]
  },
  {
   "cell_type": "markdown",
   "metadata": {},
   "source": [
    "To get a specific column of `b`, you can use:"
   ]
  },
  {
   "cell_type": "code",
   "execution_count": null,
   "metadata": {
    "scrolled": true
   },
   "outputs": [],
   "source": [
    "# get some whole columns\n",
    "b[:, 3]"
   ]
  },
  {
   "cell_type": "markdown",
   "metadata": {},
   "source": [
    "To get a specific range of `b`, so-called slicing, you can use:"
   ]
  },
  {
   "cell_type": "code",
   "execution_count": null,
   "metadata": {},
   "outputs": [],
   "source": [
    "b[0:2, 0:2]"
   ]
  },
  {
   "cell_type": "markdown",
   "metadata": {},
   "source": [
    "## Vectorized Operations\n",
    "\n",
    "Numpy arrays support vectorized operations, which means you can perform operations on entire arrays without the need for explicit loops. This makes computations faster and more efficient. For example, you can add, subtract, multiply, and divide arrays element-wise using standard arithmetic operators. It is particularly useful for mathematical operations on large datasets."
   ]
  },
  {
   "cell_type": "code",
   "execution_count": null,
   "metadata": {},
   "outputs": [],
   "source": [
    "b * 2"
   ]
  },
  {
   "cell_type": "markdown",
   "metadata": {},
   "source": [
    "You can also combine arrays element-wise using operations like addition, subtraction, multiplication, and division. For example:"
   ]
  },
  {
   "cell_type": "code",
   "execution_count": null,
   "metadata": {},
   "outputs": [],
   "source": [
    "c = np.array([[1, 2, 3, 4], [5, 6, 7, 8]], dtype=np.float64)\n",
    "\n",
    "b + c"
   ]
  },
  {
   "cell_type": "markdown",
   "metadata": {},
   "source": [
    "There is a range of different mathematical functions available in `numpy`, such as `np.sin()`, `np.cos()`, `np.exp()`, and more, which can be applied to entire arrays."
   ]
  },
  {
   "cell_type": "code",
   "execution_count": null,
   "metadata": {},
   "outputs": [],
   "source": [
    "np.sin(b)"
   ]
  },
  {
   "cell_type": "markdown",
   "metadata": {},
   "source": [
    "To illustrate the power of vectorized operations, consider the following example where we compute the square the the first 100 million integers.\n",
    "\n",
    "First, with a pure Python loop:"
   ]
  },
  {
   "cell_type": "code",
   "execution_count": null,
   "metadata": {},
   "outputs": [],
   "source": [
    "import time\n",
    "start = time.time()\n",
    "squares = [x**2 for x in range(100_000_000)]\n",
    "end = time.time()\n",
    "print(f\"Time taken with pure Python: {end - start:.4f} seconds\")"
   ]
  },
  {
   "cell_type": "markdown",
   "metadata": {},
   "source": [
    "Next, using `numpy` vectorized operations:"
   ]
  },
  {
   "cell_type": "code",
   "execution_count": null,
   "metadata": {},
   "outputs": [],
   "source": [
    "start = time.time()\n",
    "np.arange(100_000_000) ** 2\n",
    "end = time.time()\n",
    "print(f\"Time taken with NumPy: {end - start:.4f} seconds\")"
   ]
  },
  {
   "cell_type": "markdown",
   "metadata": {},
   "source": [
    "## Broadcasting\n",
    "\n",
    "Not all arrays have to be of the same shape to perform operations together. Numpy uses a powerful mechanism called **broadcasting** to make arrays with different shapes compatible for arithmetic operations. Broadcasting works by \"stretching\" the smaller array along the dimensions of the larger array so that they have compatible shapes, without actually copying any data.\n",
    "\n",
    "<img src=\"http://scipy-lectures.github.io/_images/numpy_broadcasting.png\" width=\"720px\" />"
   ]
  },
  {
   "cell_type": "code",
   "execution_count": null,
   "metadata": {},
   "outputs": [],
   "source": [
    "d = np.array([10, 20, 30, 40], dtype=np.float64)\n",
    "\n",
    "b + d"
   ]
  },
  {
   "cell_type": "markdown",
   "metadata": {},
   "source": [
    "Note that broadcasting follows specific rules to determine how arrays can be broadcast together.\n",
    "If one arrays has fewer dimensions, `numpy` pretends it has extra dimensions of size 1 to the left side (e.g. shape `(4,)` becomes `(1, 4)`). The comparison is then made from the right to left (i.e., the last dimension is compared first). Two dimensions are compatible if they are equal, or if one of them is 1. If the dimensions are not compatible, a `ValueError` is raised."
   ]
  },
  {
   "cell_type": "markdown",
   "metadata": {},
   "source": [
    "This example works:"
   ]
  },
  {
   "cell_type": "code",
   "execution_count": null,
   "metadata": {},
   "outputs": [],
   "source": [
    "x = np.ones((3, 4))\n",
    "y = np.array([1, 2, 3, 4])\n",
    "x + y"
   ]
  },
  {
   "cell_type": "markdown",
   "metadata": {},
   "source": [
    "This example does not work:"
   ]
  },
  {
   "cell_type": "code",
   "execution_count": null,
   "metadata": {},
   "outputs": [],
   "source": [
    "x = np.ones((3, 4))\n",
    "y = np.array([1, 2, 3])\n",
    "try:\n",
    "    x + y\n",
    "except ValueError as e:\n",
    "    print(e)"
   ]
  },
  {
   "cell_type": "markdown",
   "metadata": {},
   "source": [
    "## Reduction Operations\n",
    "\n",
    "Reduction operations are functions that reduce the dimensions of an array by performing a specific operation along a specified axis. Common reduction operations include `sum()`, `mean()`, `min()`, `max()`, and `std()` (standard deviation). By specifying the axis parameter, you can control whether the operation is performed across rows (`axis=0`) or columns (`axis=1`)."
   ]
  },
  {
   "cell_type": "code",
   "execution_count": null,
   "metadata": {},
   "outputs": [],
   "source": [
    "b"
   ]
  },
  {
   "cell_type": "code",
   "execution_count": null,
   "metadata": {},
   "outputs": [],
   "source": [
    "b.sum()"
   ]
  },
  {
   "cell_type": "code",
   "execution_count": null,
   "metadata": {},
   "outputs": [],
   "source": [
    "b.mean(axis=1)  # mean of each row"
   ]
  },
  {
   "cell_type": "code",
   "execution_count": null,
   "metadata": {},
   "outputs": [],
   "source": [
    "b.mean(axis=0)  # mean of each column"
   ]
  },
  {
   "cell_type": "markdown",
   "metadata": {},
   "source": [
    "## Boolean Masking\n",
    "\n",
    "Often, we want to select parts of an array that meet certain conditions. This can be done using boolean masking, where we create a boolean array that indicates which elements of the original array meet the condition, and then use this boolean array to index the original array.\n",
    "\n",
    "A comparison like `>`, `<`, or `==` produces a *boolean array* (True/False values) which we can use to filter the data."
   ]
  },
  {
   "cell_type": "code",
   "execution_count": null,
   "metadata": {},
   "outputs": [],
   "source": [
    "values = np.array([10, 20, 30, 40, 50])\n",
    "mask = values > 25"
   ]
  },
  {
   "cell_type": "code",
   "execution_count": null,
   "metadata": {},
   "outputs": [],
   "source": [
    "values[mask]"
   ]
  },
  {
   "cell_type": "markdown",
   "metadata": {
    "tags": []
   },
   "source": [
    "## Basic Plotting with Matplotlib"
   ]
  },
  {
   "cell_type": "markdown",
   "metadata": {
    "jp-MarkdownHeadingCollapsed": true,
    "tags": []
   },
   "source": [
    "Let's create some hypothetical electricity demand data for 6 hours:"
   ]
  },
  {
   "cell_type": "code",
   "execution_count": null,
   "metadata": {},
   "outputs": [],
   "source": [
    "demand = np.array([320, 340, 390, 410, 380, 360])\n",
    "hours = np.arange(6)"
   ]
  },
  {
   "cell_type": "markdown",
   "metadata": {},
   "source": [
    "For plotting such a 1D array as a line, we use the `plot` function."
   ]
  },
  {
   "cell_type": "code",
   "execution_count": null,
   "metadata": {},
   "outputs": [],
   "source": [
    "plt.plot(hours, demand)"
   ]
  },
  {
   "cell_type": "markdown",
   "metadata": {},
   "source": [
    "In many cases we would want to adjust the plot, for instance, by adding labels and a title, or by changing the line style or color.\n",
    "\n",
    ":::{note}\n",
    "As described in the [colors documentation](https://matplotlib.org/stable/api/colors_api.html), there are some special codes for commonly used colors. The same applies to line styles and markers (https://matplotlib.org/api/markers_api.html).\n",
    ":::"
   ]
  },
  {
   "cell_type": "code",
   "execution_count": null,
   "metadata": {},
   "outputs": [],
   "source": [
    "plt.plot(hours, demand, marker='o', linestyle='--', color='orange', label='Demand')\n",
    "plt.xlabel('Hours')\n",
    "plt.ylabel('Electricity Demand (MW)')\n",
    "plt.title('Electricity Demand Over 6 Hours')\n",
    "plt.ylim(0, 500)\n",
    "plt.legend()\n",
    "plt.grid()"
   ]
  },
  {
   "cell_type": "markdown",
   "metadata": {},
   "source": [
    "Potentially, we would also like to plot a bar chart instead of a line chart to visualize the electricity demand data."
   ]
  },
  {
   "cell_type": "code",
   "execution_count": null,
   "metadata": {},
   "outputs": [],
   "source": [
    "plt.bar(hours, demand, color='orange', label='Demand')\n",
    "plt.xlabel('Hours')\n",
    "plt.ylabel('Electricity Demand (MW)')\n",
    "plt.title('Electricity Demand Over 6 Hours')"
   ]
  },
  {
   "cell_type": "markdown",
   "metadata": {},
   "source": [
    "Suppose we want to make a scatter plot between demand data and temperature data.\n",
    "This can be done using the `scatter` function, which plots the respective data points as individual markers."
   ]
  },
  {
   "cell_type": "code",
   "execution_count": null,
   "metadata": {},
   "outputs": [],
   "source": [
    "temp = np.array([15, 17, 20, 22, 21, 19])\n",
    "plt.scatter(temp, demand, color='blue')"
   ]
  },
  {
   "cell_type": "markdown",
   "metadata": {},
   "source": [
    "## Two-Dimensional Plots\n",
    "\n",
    "For data depending on two variables, such as hour and temperature, we can use a combination of the `meshgrid` function to create a grid of coordinates, and the `pcolormesh` function to create a color-coded 2D plot."
   ]
  },
  {
   "cell_type": "code",
   "execution_count": null,
   "metadata": {},
   "outputs": [],
   "source": [
    "x = np.linspace(0, 24, 100)      # hours\n",
    "y = np.linspace(0, 25, 50)       # temperatures\n",
    "xx, yy = np.meshgrid(x, y)"
   ]
  },
  {
   "cell_type": "code",
   "execution_count": null,
   "metadata": {},
   "outputs": [],
   "source": [
    "pv_output = np.maximum(0, np.sin(np.pi * xx / 24) * (1 - 0.02 * (25 - yy)))\n",
    "\n",
    "plt.pcolormesh(xx, yy, pv_output, cmap=\"plasma\")\n",
    "plt.xlabel(\"Hour\")\n",
    "plt.ylabel(\"Temperature [°C]\")\n",
    "plt.title(\"PV Output\")\n",
    "plt.colorbar(label=\"Relative Power [per-unit]\")"
   ]
  },
  {
   "cell_type": "markdown",
   "metadata": {},
   "source": [
    ":::{note}\n",
    "There are many different colormaps available in `matplotlib`: https://matplotlib.org/stable/tutorials/colors/colormaps.html\n",
    ":::"
   ]
  },
  {
   "cell_type": "markdown",
   "metadata": {},
   "source": [
    "## Figures and Axes\n",
    "\n",
    "Every plot created with `matplotlib` is contained within a **figure** and one or more **axes**.\n",
    "Each axis represents a single plot within the figure, and can contain multiple elements such as lines, markers, and labels. Think of it as the canvas (figure) and the individual paintings (axes) on that canvas.\n",
    "\n",
    "To create a figure with one axis, run:"
   ]
  },
  {
   "cell_type": "code",
   "execution_count": null,
   "metadata": {},
   "outputs": [],
   "source": [
    "fig, ax = plt.subplots()\n",
    "ax.plot([0, 1, 2], [10, 20, 25])\n",
    "ax.plot([0, 1, 2], [15, 18, 22])"
   ]
  },
  {
   "cell_type": "markdown",
   "metadata": {},
   "source": [
    "A figure can also contain multiple axes (subplots). This can be useful for comparing multiple plots side by side or in a grid layout. You can create multiple subplots using the `subplots` function and specifying the number of rows and columns."
   ]
  },
  {
   "cell_type": "code",
   "execution_count": null,
   "metadata": {},
   "outputs": [],
   "source": [
    "fig, axes = plt.subplots(1, 2, figsize=(10, 4), sharey=True)\n",
    "axes[0].plot([0, 1, 2], [10, 20, 25])\n",
    "axes[0].set_title('First Plot')\n",
    "axes[1].plot([0, 1, 2], [15, 18, 22])\n",
    "axes[1].set_title('Second Plot')"
   ]
  },
  {
   "cell_type": "markdown",
   "metadata": {},
   "source": [
    "## Exercises\n",
    "\n",
    "1. Create an array with hourly demands 200, 220, 240, 260, 280, and 300 MW. Print its shape and datatype.\n",
    "2. Create ten evenly spaced temperature values between 15 and 25 degrees Celsius using `np.linspace()`.\n",
    "3. Print the first 3 values and the last 3 values of the following array:\n",
    "\n",
    "    ```python\n",
    "    demand = np.array([300, 320, 340, 360, 380, 400, 420, 440, 460, 480])\n",
    "    ```\n",
    "\n",
    "4. Convert the following `temperature` array to a heating energy demand using the formula demand = 1000 - 20 * temperature.\n",
    "\n",
    "    ```python\n",
    "    temperature = np.array([10, 12, 15, 20, 25])\n",
    "    ```\n",
    "\n",
    "5. You have daily demand demand data for 3 days and 3 hours\n",
    "\n",
    "    ```python\n",
    "    demand = np.array([[300, 320, 340],\n",
    "                       [280, 300, 310],\n",
    "                       [260, 270, 290]])\n",
    "    ```\n",
    "\n",
    "    Multiply each hour (columns) by scaling factors 0.9, 1.0, and 1.1 respectively using broadcasting.\n",
    "    What are the dimensions and values of the resulting array? What do the new values represent?\n",
    "\n",
    "6. Consider the following values of hourly wind speeds in m/s.\n",
    "\n",
    "    ```python\n",
    "    wind_speeds = np.array([5, 10, 15, 20, 25])\n",
    "    ```\n",
    "\n",
    "    Calculate the average wind speed, minimum wind speed, and maximum wind speed using reduction operations.\n",
    "\n",
    "7. Consider the following values for demand and generation for 8 hours.\n",
    "\n",
    "    ```python\n",
    "    demand = np.array([400, 420, 450, 480, 500, 520, 550, 580])\n",
    "    generation = np.array([300, 350, 400, 450, 480, 500, 530, 600])\n",
    "    ```\n",
    "\n",
    "    Create two line plots on the same figure showing both demand and generation over time. Add appropriate labels and a legend.\n",
    "\n",
    "8. Sometimes we want to compare two different variables side by side. Use subplots to visualize the following demand and price time series over six hours.\n",
    "\n",
    "    ```python\n",
    "    demand = np.array([300, 320, 340, 360, 380, 400])\n",
    "    price = np.array([50, 55, 60, 65, 70, 75])\n",
    "    ```\n",
    "\n",
    "    Create one figure with two subplots arranged in one row and two columns. The first subplot should show demand over time, and the second subplot should show price over time. Add appropriate titles and labels to each subplot and enable grid lines."
   ]
  },
  {
   "cell_type": "code",
   "execution_count": null,
   "metadata": {},
   "outputs": [],
   "source": []
  }
 ],
 "metadata": {
  "kernelspec": {
   "display_name": "dsesm-pinned",
   "language": "python",
   "name": "python3"
  },
  "language_info": {
   "codemirror_mode": {
    "name": "ipython",
    "version": 3
   },
   "file_extension": ".py",
   "mimetype": "text/x-python",
   "name": "python",
   "nbconvert_exporter": "python",
   "pygments_lexer": "ipython3",
   "version": "3.12.12"
  }
 },
 "nbformat": 4,
 "nbformat_minor": 4
}

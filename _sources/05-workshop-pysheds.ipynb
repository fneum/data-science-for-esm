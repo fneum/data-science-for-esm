{
 "cells": [
  {
   "cell_type": "markdown",
   "metadata": {},
   "source": [
    "# Introduction to `pysheds`"
   ]
  },
  {
   "cell_type": "markdown",
   "metadata": {},
   "source": [
    "In this tutorial, we're going to cover a new Python package one can use to determine the catchment area and resource of a potential run-of-river power plant:\n",
    "\n",
    "**pysheds: Simple and fast watershed delineation in python**\n",
    "\n",
    "> Pysheds is an open-source library designed to help with processing of digital elevation models (DEMs), particularly for hydrologic analysis. Pysheds performs many of the basic hydrologic functions, including catchment delineation and accumulation computation.\n",
    "\n",
    ":::{note}\n",
    "Documentation for `pysheds` is available at http://mattbartos.com/pysheds/.\n",
    ":::\n",
    "\n",
    ":::{note}\n",
    "If you have not yet set up Python on your computer, you can execute this tutorial in your browser via [Google Colab](https://colab.research.google.com/). Click on the rocket in the top right corner and launch \"Colab\". If that doesn't work download the `.ipynb` file and import it in [Google Colab](https://colab.research.google.com/).\n",
    "\n",
    "Then install the following packages by executing the following command in a Jupyter cell at the top of the notebook.\n",
    "\n",
    "```sh\n",
    "!pip install pysheds matplotlib\n",
    "```\n",
    ":::\n",
    "\n",
    ":::{note}\n",
    "The following tutorial is based on the following resources:\n",
    "- http://mattbartos.com/pysheds/\n",
    "- [https://medium.com/@ilmachairas/basin-delineation-on-python](https://medium.com/@ilmachairas/basin-delineation-on-python-**5e9da00a3534**)\n",
    ":::"
   ]
  },
  {
   "cell_type": "markdown",
   "metadata": {},
   "source": [
    "## Data Downloads"
   ]
  },
  {
   "cell_type": "markdown",
   "metadata": {},
   "source": [
    "Before we can run this tutorial, we have to download a few input data files to your local filesystem. The cell below uses some Python utility packages to automate the retrieval of the required files."
   ]
  },
  {
   "cell_type": "code",
   "execution_count": null,
   "metadata": {},
   "outputs": [],
   "source": [
    "from urllib.request import urlretrieve\n",
    "from os.path import basename\n",
    "\n",
    "url = \"https://tubcloud.tu-berlin.de/s/ZPiZjX3Nzc6R6RX/download/output_COP30.tif\"\n",
    "urlretrieve(url, basename(url))"
   ]
  },
  {
   "cell_type": "markdown",
   "metadata": {},
   "source": [
    "## Imports"
   ]
  },
  {
   "cell_type": "markdown",
   "metadata": {},
   "source": [
    "First, let's bring in the `Grid` class from the `pysheds` library, which will be our primary tool for managing and analyzing grid-based spatial data like elevation models in our hydrological computations..."
   ]
  },
  {
   "cell_type": "code",
   "execution_count": null,
   "metadata": {},
   "outputs": [],
   "source": [
    "from pysheds.grid import Grid"
   ]
  },
  {
   "cell_type": "markdown",
   "metadata": {},
   "source": [
    "... alongside a few additional Python packages you already know from previous tutorials."
   ]
  },
  {
   "cell_type": "code",
   "execution_count": null,
   "metadata": {},
   "outputs": [],
   "source": [
    "import matplotlib.pyplot as plt\n",
    "from matplotlib.colors import LogNorm\n",
    "import numpy as np\n",
    "import cartopy.crs as ccrs\n",
    "import cartopy.feature as cfeature"
   ]
  },
  {
   "cell_type": "markdown",
   "metadata": {},
   "source": [
    "## Read Digital Elevation Model (DEM)\n",
    "\n",
    "A **Digital Elevation Model (DEM)** is a 3D representation of a terrain's surface created from terrain elevation data, and it's the main dataset we'll read into our analysis to model the watershed's topography.\n",
    "\n",
    "For this example, data for a small part of Northern Portugal is taken from the Copernicus Global Digital Elevation Model, which offers global coverage at a resolution of 30 metres.\n",
    "\n",
    "> European Space Agency, Sinergise (2021). Copernicus Global Digital Elevation Model. Distributed by OpenTopography. https://doi.org/10.5069/G9028PQB."
   ]
  },
  {
   "cell_type": "code",
   "execution_count": null,
   "metadata": {},
   "outputs": [],
   "source": [
    "fn = \"output_COP30.tif\"\n",
    "grid = Grid.from_raster(fn)\n",
    "dem = grid.read_raster(fn)"
   ]
  },
  {
   "cell_type": "code",
   "execution_count": null,
   "metadata": {},
   "outputs": [],
   "source": [
    "fig = plt.figure()\n",
    "ax = plt.axes(projection=ccrs.PlateCarree())\n",
    "plt.imshow(dem, extent=grid.extent, cmap=\"terrain\")\n",
    "plt.colorbar(label=\"Elevation (m)\", orientation=\"horizontal\")\n",
    "ax.coastlines()\n",
    "ax.add_feature(cfeature.BORDERS)"
   ]
  },
  {
   "cell_type": "markdown",
   "metadata": {},
   "source": [
    "## Conditioning the elevation data"
   ]
  },
  {
   "cell_type": "markdown",
   "metadata": {},
   "source": [
    "Raw DEMs often contain artifacts (such as pits, depressions and flat regions) that prevent the DEM from fully draining.\n",
    "\n",
    "-  **Pits and Depressions** consist of cells or larger regions of cells for which every surrounding cell is at a higher elevation.\n",
    "-  **Flats** consist of cells at which every surrounding cell is at the same elevation or higher.\n",
    "\n",
    "The presence of depressions and flats means that water will aggregate there and will not move downwards which would be a problem.\n",
    "\n",
    "These artifacts need to be removed before the datasets can be used. By applying the following code, the affected pixels will get the values of their surrounding ones."
   ]
  },
  {
   "cell_type": "code",
   "execution_count": null,
   "metadata": {},
   "outputs": [],
   "source": [
    "pit_filled_dem = grid.fill_pits(dem)\n",
    "flooded_dem = grid.fill_depressions(pit_filled_dem)\n",
    "conditioned_dem = grid.resolve_flats(flooded_dem)"
   ]
  },
  {
   "cell_type": "markdown",
   "metadata": {},
   "source": [
    "After conditioning the data by filling depressions and resolving flats, the flow direction can be determined."
   ]
  },
  {
   "cell_type": "markdown",
   "metadata": {},
   "source": [
    "## Computing flow directions\n",
    "\n",
    "Flow directions are computed to capture the topology of the drainage network,\n",
    "and are needed for delineating catchment areas and computing the accumulation of\n",
    "flow. By default, `pysheds` will compute flow directions using the D8 routing\n",
    "scheme (ESRI). In this routing mode, each cell is routed to one of eight\n",
    "neighboring cells based on the direction of steepest descent:\n",
    "\n",
    "- North: 64\n",
    "- Northeast: 128\n",
    "- East: 1\n",
    "- Southeast: 2\n",
    "- South: 4\n",
    "- Southwest: 8\n",
    "- West: 16\n",
    "- Northwest: 32"
   ]
  },
  {
   "cell_type": "code",
   "execution_count": null,
   "metadata": {},
   "outputs": [],
   "source": [
    "flowdir = grid.flowdir(conditioned_dem)"
   ]
  },
  {
   "cell_type": "code",
   "execution_count": null,
   "metadata": {},
   "outputs": [],
   "source": [
    "np.unique(flowdir)"
   ]
  },
  {
   "cell_type": "code",
   "execution_count": null,
   "metadata": {},
   "outputs": [],
   "source": [
    "plt.imshow(flowdir, extent=grid.extent, cmap=\"cividis\")"
   ]
  },
  {
   "cell_type": "markdown",
   "metadata": {},
   "source": [
    "## Computing flow accumulation\n",
    "\n",
    "The **accumulated flow** is the number of upstream cells that contribute flow to each cell in the DEM grid. The result of this calculation is a grid where each cell's value represents the count of all cells that flow into it, directly or indirectly. In essence, it gives you an idea of the potential water volume that would pass through each point if each cell contributed a unit amount of water. The flow accumulation process takes the flow direction grid as input and works by tracking the flow from each cell to its downslope neighbors. It aggregates the number of cells flowing into each downslope cell, essentially \"accumulating\" the flow as it moves through the drainage network. Hence, as you move downstream, the number increases, and the other way around for upstream. \n"
   ]
  },
  {
   "cell_type": "code",
   "execution_count": null,
   "metadata": {},
   "outputs": [],
   "source": [
    "acc = grid.accumulation(flowdir)"
   ]
  },
  {
   "cell_type": "code",
   "execution_count": null,
   "metadata": {},
   "outputs": [],
   "source": [
    "fig, ax = plt.subplots()\n",
    "im = ax.imshow(\n",
    "    acc,\n",
    "    extent=grid.extent,\n",
    "    cmap=\"cubehelix\",\n",
    "    norm=LogNorm(1, acc.max()),\n",
    "    interpolation=\"bilinear\",\n",
    ")\n",
    "plt.colorbar(im, ax=ax, label=\"Upstream Cells\", orientation=\"horizontal\")"
   ]
  },
  {
   "cell_type": "markdown",
   "metadata": {},
   "source": [
    "## Computing catchment areas\n",
    "\n",
    "The method to calculate the catchment area also operates on the flow direction grid.\n",
    "\n",
    "To delineate a catchment, first specify a *pour point* (the *outlet* of the catchment area, e.g. the weir of a run-of-river power plant).\n",
    "\n",
    "However, sometimes the pour point is not known exactly. In this case, it can be helpful to first compute the accumulated flow and then snap a roughly estimated pour point to the nearest high accumulation cell.\n",
    "\n",
    "For instance, we may specify a trial pour point..."
   ]
  },
  {
   "cell_type": "code",
   "execution_count": null,
   "metadata": {},
   "outputs": [],
   "source": [
    "x, y = -7.954, 41.47"
   ]
  },
  {
   "cell_type": "markdown",
   "metadata": {},
   "source": [
    "... then snap the pour point to a high accumulation cell with at least 5000 upstream cells:\n"
   ]
  },
  {
   "cell_type": "code",
   "execution_count": null,
   "metadata": {},
   "outputs": [],
   "source": [
    "x_snap, y_snap = grid.snap_to_mask(acc > 5000, (x, y))"
   ]
  },
  {
   "cell_type": "markdown",
   "metadata": {},
   "source": [
    "This point, we can then use to delineate the catchment area:"
   ]
  },
  {
   "cell_type": "code",
   "execution_count": null,
   "metadata": {},
   "outputs": [],
   "source": [
    "catch = grid.catchment(x=x_snap, y=y_snap, fdir=flowdir, xytype=\"coordinate\")"
   ]
  },
  {
   "cell_type": "markdown",
   "metadata": {},
   "source": [
    ":::{note}\n",
    "- If the x and y components of the pour point are spatial coordinates in the grid’s spatial reference system, specify `xytype='coordinate'`.\n",
    "- If the x and y components of the pour point correspond to the row and column indices of the flow direction array, specify `xytype='index'`.\n",
    ":::\n",
    "\n",
    "We can then clip our grid to the catchment area and plot the result:"
   ]
  },
  {
   "cell_type": "code",
   "execution_count": null,
   "metadata": {},
   "outputs": [],
   "source": [
    "grid.clip_to(catch)\n",
    "clipped_catch = grid.view(catch)"
   ]
  },
  {
   "cell_type": "code",
   "execution_count": null,
   "metadata": {},
   "outputs": [],
   "source": [
    "clipped_accumulated_flow = grid.accumulation(flowdir)"
   ]
  },
  {
   "cell_type": "code",
   "execution_count": null,
   "metadata": {},
   "outputs": [],
   "source": [
    "fig, ax = plt.subplots()\n",
    "im = ax.imshow(\n",
    "    np.where(clipped_catch, clipped_accumulated_flow, np.nan),\n",
    "    extent=grid.extent,\n",
    "    cmap=\"cubehelix\",\n",
    "    norm=LogNorm(1, clipped_accumulated_flow.max()),\n",
    "    interpolation=\"bilinear\",\n",
    ")\n",
    "plt.colorbar(\n",
    "    im,\n",
    "    ax=ax,\n",
    "    label=\"Upstream Cells\",\n",
    ")\n",
    "plt.scatter([x_snap], [y_snap], c=\"r\", s=50)"
   ]
  },
  {
   "cell_type": "markdown",
   "metadata": {},
   "source": [
    "## Where to go from here?\n",
    "\n",
    "**Explore datasets of global hydro basins and what they are used for:**\n",
    "\n",
    "https://www.hydrosheds.org/\n",
    "\n",
    "> The HydroSHEDS database offers a suite of global digital data layers in support of hydro-ecological research and applications worldwide. Its various hydrographic data products include catchment boundaries, river networks, and lakes at multiple resolutions and scales.\n",
    "HydroSHEDS data are freely available in standard GIS formats and form the geospatial framework for a broad range of assessments including hydrological, environmental, conservation, socioeconomic, and human health applications.\n",
    "\n",
    "https://www.hydrosheds.org/applications/ssp-hydropower\n",
    "\n",
    "> HydroSHEDS data have been used to assess configuration scenarios for future hydropower development at global, national (e.g., Zambia, Nepal) or basin-level (e.g., Marañón river) scales. This ‘system-scale planning’ (SSP) approach provides a large-scale perspective which considers the complex interactions and cumulative effects of different dam combinations rather than determining the impacts of each dam project individually. This type of holistic assessment takes the regional and downstream effects of the entire hydropower scenario into account and allows for strategic planning by comparing various national or international development options. It is particularly useful during the early phases of hydropower portfolio design and can facilitate the dialog between stakeholders and policymakers as a decision support tool.\n",
    "\n",
    "**Calculate water flow volume at pour point using meteorological data:**\n",
    "\n",
    "With the delineated catchment area from `pysheds`, you can utilize [surface runoff](https://codes.ecmwf.int/grib/param-db/?id=8) data, which represents the part of precipitation and snowmelt that flows over the land without infiltrating the soil or evaporating, to estimate total flow at the basin's pour point. By integrating surface runoff data over the entire catchment area, typically given in volume per area per time (e.g. millimetres per day), and summing it up for all the cells within the catchment, you can approximate the total water volume contributing to the flow at the pour point. This integration accounts for spatial variations in runoff generation across the catchment, providing you with an aggregated flow estimate that can be used to assess the hydrological output of the catchment at the specific location where the water exits the basin, for instance, the amount of water available for electricity generation in a run-of-river plant."
   ]
  },
  {
   "cell_type": "markdown",
   "metadata": {},
   "source": [
    "## Exercises\n",
    "\n",
    "Determine a few additional catchment areas by varying the pour point and the threshold for the accumulated flow."
   ]
  },
  {
   "cell_type": "markdown",
   "metadata": {},
   "source": []
  }
 ],
 "metadata": {
  "kernelspec": {
   "display_name": "",
   "language": "python",
   "name": ""
  },
  "language_info": {
   "codemirror_mode": {
    "name": "ipython",
    "version": 3
   },
   "file_extension": ".py",
   "mimetype": "text/x-python",
   "name": "python",
   "nbconvert_exporter": "python",
   "pygments_lexer": "ipython3",
   "version": "3.11.4"
  }
 },
 "nbformat": 4,
 "nbformat_minor": 4
}

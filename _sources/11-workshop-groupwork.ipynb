{
 "cells": [
  {
   "cell_type": "markdown",
   "id": "122d5d98-4dac-4c2e-bad2-a41cc099de94",
   "metadata": {},
   "source": [
    "# Preparation for Group Assignment"
   ]
  },
  {
   "cell_type": "markdown",
   "id": "fe2aabcb-55f5-45d5-a3e6-cf14adfa3978",
   "metadata": {},
   "source": [
    "This tutorial contains various small guides for tasks you will need or come in handy in the upcoming group assignment.\n",
    "\n",
    "We're going to need a couple of packages for this tutorial:"
   ]
  },
  {
   "cell_type": "code",
   "execution_count": null,
   "id": "5e70f692-be9f-45e6-a4b0-7966b7a0ce85",
   "metadata": {},
   "outputs": [],
   "source": [
    "from atlite.gis import ExclusionContainer\n",
    "from atlite.gis import shape_availability\n",
    "import atlite\n",
    "import rasterio as rio\n",
    "from rasterio.plot import show\n",
    "import geopandas as gpd\n",
    "import pandas as pd\n",
    "import numpy as np\n",
    "import xarray as xr\n",
    "import os\n",
    "import matplotlib.pyplot as plt\n",
    "import country_converter as coco\n",
    "import atlite"
   ]
  },
  {
   "cell_type": "markdown",
   "id": "83a47027",
   "metadata": {
    "tags": []
   },
   "source": [
    "## Preparatory Downloads\n",
    "\n",
    "For this tutorial, we also need to download a few files, for which one can use the `urllib` library:"
   ]
  },
  {
   "cell_type": "code",
   "execution_count": null,
   "id": "8e4a7457",
   "metadata": {
    "tags": [
     "hide-cell"
    ]
   },
   "outputs": [],
   "source": [
    "from urllib.request import urlretrieve"
   ]
  },
  {
   "cell_type": "code",
   "execution_count": null,
   "id": "5e707d17",
   "metadata": {
    "tags": [
     "hide-cell"
    ]
   },
   "outputs": [],
   "source": [
    "fn = \"era5-2013-NL.nc\"\n",
    "url = \"https://tubcloud.tu-berlin.de/s/bAJj9xmN5ZLZQZJ/download/\" + fn\n",
    "urlretrieve(url, fn)"
   ]
  },
  {
   "cell_type": "code",
   "execution_count": null,
   "id": "8a63cf37",
   "metadata": {
    "tags": [
     "hide-cell"
    ]
   },
   "outputs": [],
   "source": [
    "fn = \"PROBAV_LC100_global_v3.0.1_2019-nrt_Discrete-Classification-map_EPSG-4326-NL.tif\"\n",
    "url = f\"https://tubcloud.tu-berlin.de/s/567ckizz2Y6RLQq/download?path=%2Fcopernicus-glc&files={fn}\"\n",
    "urlretrieve(url, fn)"
   ]
  },
  {
   "cell_type": "code",
   "execution_count": null,
   "id": "4916c686",
   "metadata": {
    "tags": [
     "hide-cell"
    ]
   },
   "outputs": [],
   "source": [
    "fn = \"WDPA_Oct2022_Public_shp-NLD.tif\"\n",
    "url = (\n",
    "    f\"https://tubcloud.tu-berlin.de/s/567ckizz2Y6RLQq/download?path=%2Fwdpa&files={fn}\"\n",
    ")\n",
    "urlretrieve(url, fn)"
   ]
  },
  {
   "cell_type": "code",
   "execution_count": null,
   "id": "185de887",
   "metadata": {
    "tags": [
     "hide-cell"
    ]
   },
   "outputs": [],
   "source": [
    "fn = \"GEBCO_2014_2D-NL.nc\"\n",
    "url = (\n",
    "    f\"https://tubcloud.tu-berlin.de/s/567ckizz2Y6RLQq/download?path=%2Fgebco&files={fn}\"\n",
    ")\n",
    "urlretrieve(url, fn)"
   ]
  },
  {
   "cell_type": "markdown",
   "id": "01f9b4aa-2661-46a6-9403-2794d6d71b2a",
   "metadata": {},
   "source": [
    "## Downloading historical weather data from ERA5 with `atlite`"
   ]
  },
  {
   "cell_type": "markdown",
   "id": "0be2c3b6-4392-4af3-9dc4-3c26bbdc433f",
   "metadata": {},
   "source": [
    "First, let's load some small example country. Let's say, the Netherlands."
   ]
  },
  {
   "cell_type": "code",
   "execution_count": null,
   "id": "021425e0-8c93-48c3-a95e-df8b11869796",
   "metadata": {},
   "outputs": [],
   "source": [
    "fn = \"https://tubcloud.tu-berlin.de/s/567ckizz2Y6RLQq/download?path=%2Fgadm&files=gadm_410-levels-ADM_1-NLD.gpkg\"\n",
    "regions = gpd.read_file(fn)"
   ]
  },
  {
   "cell_type": "code",
   "execution_count": null,
   "id": "a2422a64-b375-465a-b365-67e9a0c1f407",
   "metadata": {},
   "outputs": [],
   "source": [
    "regions.plot()"
   ]
  },
  {
   "cell_type": "markdown",
   "id": "35ef7c52-55a5-4614-a353-4cbab7fb76da",
   "metadata": {},
   "source": [
    "In this example we download historical weather data [ERA5 data](https://cds.climate.copernicus.eu/cdsapp#!/dataset/reanalysis-era5-single-levels?tab=overview) on-demand for a cutout we want to create.\n",
    "\n",
    ":::{note}\n",
    "For this example to work, you should have\n",
    "- installed the Copernicus Climate Data Store `cdsapi` package (`conda list cdsapi` or `pip install cdsapi`) and\n",
    "- registered and setup your CDS API key as described on [this website](https://cds.climate.copernicus.eu/api-how-to). Note that there are different instructions depending on your operating system.\n",
    ":::"
   ]
  },
  {
   "cell_type": "markdown",
   "id": "d7b4bfec-4df8-4832-9880-9186589af6b0",
   "metadata": {},
   "source": [
    "A **cutout** is the basis for any of your work and calculations in `atlite`.\n",
    "\n",
    "The cutout is created in the directory and file specified by the relative path. If a cutout at the given location already exists, then this command will simply load the cutout again. If the cutout does not yet exist, it will specify the new cutout to be created.\n",
    "\n",
    "For creating the cutout, you need to specify the dataset (e.g. ERA5), a time period and the spatial extent (in latitude and longitude)."
   ]
  },
  {
   "cell_type": "code",
   "execution_count": null,
   "id": "b81287ac-ee98-43ab-926b-c3eee73aaba2",
   "metadata": {},
   "outputs": [],
   "source": [
    "minx, miny, maxx, maxy = regions.total_bounds\n",
    "buffer = 0.25"
   ]
  },
  {
   "cell_type": "code",
   "execution_count": null,
   "id": "dec20c73",
   "metadata": {},
   "outputs": [],
   "source": [
    "cutout = atlite.Cutout(\n",
    "    path=\"era5-2013-NL.nc\",\n",
    "    module=\"era5\",\n",
    "    x=slice(minx - buffer, maxx + buffer),\n",
    "    y=slice(miny - buffer, maxy + buffer),\n",
    "    time=\"2013\",\n",
    ")"
   ]
  },
  {
   "cell_type": "markdown",
   "id": "8b0fb7e4-85bc-4a05-bc46-8b4869730a50",
   "metadata": {},
   "source": [
    "Calling the function `cutout.prepare()` initiates the download and processing of the weather data.\n",
    "Because the download needs to be provided by the CDS servers, this might take a while depending on the amount of data requested.\n",
    "\n",
    ":::{note}\n",
    "You can check the status of your request [here](https://cds.climate.copernicus.eu/cdsapp#!/yourrequests).\n",
    ":::"
   ]
  },
  {
   "cell_type": "code",
   "execution_count": null,
   "id": "6fdcd0da-143b-4667-8264-7f0fc5fdb2ea",
   "metadata": {},
   "outputs": [],
   "source": [
    "cutout.prepare()"
   ]
  },
  {
   "cell_type": "markdown",
   "id": "9029f990-ee03-44cb-b7aa-56aa017bbb48",
   "metadata": {},
   "source": [
    "The data is accessible in `cutout.data`. Included weather variables are listed in `cutout.prepared_features`. Querying the `cutout` gives us some basic information on which data is contained in it."
   ]
  },
  {
   "cell_type": "code",
   "execution_count": null,
   "id": "93bfa4a9-3464-45c3-be19-233da93d7e4e",
   "metadata": {},
   "outputs": [],
   "source": [
    "cutout.data"
   ]
  },
  {
   "cell_type": "code",
   "execution_count": null,
   "id": "acaa3f3d-e1cc-4475-8b2c-a6b5194f38f6",
   "metadata": {},
   "outputs": [],
   "source": [
    "cutout.prepared_features"
   ]
  },
  {
   "cell_type": "code",
   "execution_count": null,
   "id": "7c29f06a-8851-4901-9390-79e6a51cac31",
   "metadata": {},
   "outputs": [],
   "source": [
    "cutout"
   ]
  },
  {
   "cell_type": "markdown",
   "id": "6fbfcb91-f5b1-46ee-a659-4581efbfdd72",
   "metadata": {
    "tags": []
   },
   "source": [
    "## Repetition: From Land Eligibility Analysis to Availability Matrix"
   ]
  },
  {
   "cell_type": "markdown",
   "id": "b1f32c58-f40d-4ec7-be29-f42ae61a6afb",
   "metadata": {},
   "source": [
    "We're going to use the plotting functions from previous exercises:"
   ]
  },
  {
   "cell_type": "code",
   "execution_count": null,
   "id": "c48115e5-912d-4bdd-9fe4-430e2605456e",
   "metadata": {},
   "outputs": [],
   "source": [
    "def plot_area(masked, transform, shape):\n",
    "    fig, ax = plt.subplots(figsize=(5, 5))\n",
    "    ax = show(masked, transform=transform, cmap=\"Greens\", vmin=0, ax=ax)\n",
    "    shape.plot(ax=ax, edgecolor=\"k\", color=\"None\", linewidth=1)"
   ]
  },
  {
   "cell_type": "markdown",
   "id": "8f132d6c-e5ff-4d4b-a3cf-64ff2bd7d3f1",
   "metadata": {},
   "source": [
    "First, we collect all exclusion and inclusion criteria in an `ExclusionContainer`."
   ]
  },
  {
   "cell_type": "code",
   "execution_count": null,
   "id": "882cc458-5737-48a2-be17-f18b07561d15",
   "metadata": {},
   "outputs": [],
   "source": [
    "excluder = ExclusionContainer(crs=3035, res=300)\n",
    "fn = \"PROBAV_LC100_global_v3.0.1_2019-nrt_Discrete-Classification-map_EPSG-4326-NL.tif\"\n",
    "excluder.add_raster(fn, codes=[50], buffer=1000, crs=4326)\n",
    "excluder.add_raster(fn, codes=[20, 30, 40, 60], crs=4326, invert=True)\n",
    "fn = \"WDPA_Oct2022_Public_shp-NLD.tif\"\n",
    "excluder.add_raster(fn, crs=3035)\n",
    "fn = \"GEBCO_2014_2D-NL.nc\"\n",
    "excluder.add_raster(fn, codes=lambda x: x > 10, crs=4326, invert=True)"
   ]
  },
  {
   "cell_type": "markdown",
   "id": "c5c4696e-582f-4309-bd53-db045aa3bdee",
   "metadata": {},
   "source": [
    "Then, we can calculate the available areas..."
   ]
  },
  {
   "cell_type": "code",
   "execution_count": null,
   "id": "e5180f88-c4a2-497a-8504-ca38428d6b1a",
   "metadata": {},
   "outputs": [],
   "source": [
    "masked, transform = shape_availability(regions.to_crs(3035).geometry, excluder)"
   ]
  },
  {
   "cell_type": "markdown",
   "id": "6aa9afc4-2d66-4caa-b851-7f976b307ef8",
   "metadata": {},
   "source": [
    "... and plot it:"
   ]
  },
  {
   "cell_type": "code",
   "execution_count": null,
   "id": "8fdc026e-a805-47a6-928c-088a734ffe19",
   "metadata": {},
   "outputs": [],
   "source": [
    "plot_area(masked, transform, regions.to_crs(3035).geometry)"
   ]
  },
  {
   "cell_type": "markdown",
   "id": "a636ce84-352a-4e23-bb26-c0f0ee17dec2",
   "metadata": {},
   "source": [
    "### Availability Matrix"
   ]
  },
  {
   "cell_type": "code",
   "execution_count": null,
   "id": "3ddff279-2132-46b0-896e-53793d41ebdf",
   "metadata": {},
   "outputs": [],
   "source": [
    "regions.index = regions.GID_1"
   ]
  },
  {
   "cell_type": "code",
   "execution_count": null,
   "id": "94657f79-5aa4-4dbf-904a-c4af9fd0916e",
   "metadata": {},
   "outputs": [],
   "source": [
    "cutout = atlite.Cutout(\"era5-2013-NL.nc\")"
   ]
  },
  {
   "cell_type": "code",
   "execution_count": null,
   "id": "164a0ad9-ab17-4ca9-b1e4-9419cab11694",
   "metadata": {},
   "outputs": [],
   "source": [
    "?cutout.availabilitymatrix"
   ]
  },
  {
   "cell_type": "code",
   "execution_count": null,
   "id": "a957b841-9b08-49c3-bcd0-dfd7ed4e0460",
   "metadata": {},
   "outputs": [],
   "source": [
    "A = cutout.availabilitymatrix(regions, excluder)"
   ]
  },
  {
   "cell_type": "code",
   "execution_count": null,
   "id": "0acf9b98-f9e7-4e48-81a2-47e3f65cdc5b",
   "metadata": {},
   "outputs": [],
   "source": [
    "cap_per_sqkm = 1.7  # MW/km2\n",
    "\n",
    "area = cutout.grid.set_index([\"y\", \"x\"]).to_crs(3035).area / 1e6\n",
    "\n",
    "area = xr.DataArray(area, dims=(\"spatial\"))\n",
    "\n",
    "capacity_matrix = A.stack(spatial=[\"y\", \"x\"]) * area * cap_per_sqkm"
   ]
  },
  {
   "cell_type": "markdown",
   "id": "28286d0b-363c-44e6-9090-eb2937438ffc",
   "metadata": {},
   "source": [
    "### Solar PV Profiles"
   ]
  },
  {
   "cell_type": "code",
   "execution_count": null,
   "id": "3c317bb9-7811-43b9-bdff-4d5b68073cd2",
   "metadata": {},
   "outputs": [],
   "source": [
    "pv = cutout.pv(\n",
    "    panel=atlite.solarpanels.CdTe,\n",
    "    matrix=capacity_matrix,\n",
    "    orientation=\"latitude_optimal\",\n",
    "    index=regions.index,\n",
    "    per_unit=True,\n",
    ")"
   ]
  },
  {
   "cell_type": "code",
   "execution_count": null,
   "id": "7c4f5a94-fea3-44a3-b9b7-ab791c4e21ab",
   "metadata": {},
   "outputs": [],
   "source": [
    "pv.to_pandas().head()"
   ]
  },
  {
   "cell_type": "code",
   "execution_count": null,
   "id": "fe2539b3-bf36-482b-87e5-c4d05683114b",
   "metadata": {},
   "outputs": [],
   "source": [
    "pv.to_pandas().iloc[:, 0].plot()"
   ]
  },
  {
   "cell_type": "markdown",
   "id": "fef52077-a6c2-442a-967e-6727e8dad852",
   "metadata": {},
   "source": [
    "### Wind Profiles"
   ]
  },
  {
   "cell_type": "code",
   "execution_count": null,
   "id": "72f35030-57ca-4aa6-94d5-9c27b1eb8022",
   "metadata": {},
   "outputs": [],
   "source": [
    "wind = cutout.wind(\n",
    "    atlite.windturbines.Vestas_V112_3MW,\n",
    "    matrix=capacity_matrix,\n",
    "    index=regions.index,\n",
    "    per_unit=True,\n",
    ")"
   ]
  },
  {
   "cell_type": "code",
   "execution_count": null,
   "id": "a0504b6c-264b-46e9-8bb9-db1eea3646ad",
   "metadata": {},
   "outputs": [],
   "source": [
    "wind.to_pandas().head()"
   ]
  },
  {
   "cell_type": "code",
   "execution_count": null,
   "id": "a8bbdba3-4bf3-47fe-b8c9-bb179701e386",
   "metadata": {},
   "outputs": [],
   "source": [
    "wind.to_pandas().iloc[:, 0].plot()"
   ]
  },
  {
   "cell_type": "markdown",
   "id": "eefa920d-132c-47ce-b56d-91f2d5fe6d7e",
   "metadata": {},
   "source": [
    "## Merging Shapes in `geopandas`"
   ]
  },
  {
   "cell_type": "markdown",
   "id": "1cfba9e7-828c-4752-8ddf-e715f8dfb1d6",
   "metadata": {},
   "source": [
    "Spatial data is often more granular than we need. For example, we might have data on sub-national units, but we’re actually interested in studying patterns at the level of countries.\n",
    "\n",
    "Whereas in `pandas` we would use the `groupby()` function to aggregate entries, in `geopandas`, we aggregate geometric features using the `dissolve()` function."
   ]
  },
  {
   "cell_type": "markdown",
   "id": "fa81c433-4059-417b-aab5-63b1d65b486c",
   "metadata": {},
   "source": [
    "Suppose we are interested in studying continents, but we only have country-level data like the country dataset included in `geopandas`. We can easily convert this to a continent-level dataset.\n",
    "\n",
    ":::{note}\n",
    "See also https://geopandas.org/en/stable/docs/user_guide/aggregation_with_dissolve.html\n",
    ":::"
   ]
  },
  {
   "cell_type": "code",
   "execution_count": null,
   "id": "064883f6-9927-4a22-a126-6769becde466",
   "metadata": {},
   "outputs": [],
   "source": [
    "world = gpd.read_file(gpd.datasets.get_path(\"naturalearth_lowres\"))"
   ]
  },
  {
   "cell_type": "code",
   "execution_count": null,
   "id": "e3fc071f-2458-464c-9acb-3bb6adfebe2d",
   "metadata": {},
   "outputs": [],
   "source": [
    "world.head(3)"
   ]
  },
  {
   "cell_type": "code",
   "execution_count": null,
   "id": "5127d735-e40d-4e8d-a479-707d74b6d784",
   "metadata": {},
   "outputs": [],
   "source": [
    "continents = world.dissolve(by=\"continent\").geometry\n",
    "\n",
    "continents.plot();"
   ]
  },
  {
   "cell_type": "markdown",
   "id": "f5209a70-e74f-4315-ae06-ee24b918c258",
   "metadata": {},
   "source": [
    "If we are interested in the population per continent, we can pass different aggregation strategies to the `dissolve()` functionusing the `aggfunc` argument:"
   ]
  },
  {
   "cell_type": "markdown",
   "id": "fd59bb2c-df95-444d-a387-da5ccd17bb45",
   "metadata": {},
   "source": [
    "https://geopandas.org/en/stable/docs/user_guide/aggregation_with_dissolve.html#dissolve-arguments"
   ]
  },
  {
   "cell_type": "code",
   "execution_count": null,
   "id": "610134a6-09bc-459f-87fc-658c4f806e7a",
   "metadata": {},
   "outputs": [],
   "source": [
    "continents = world.dissolve(by=\"continent\", aggfunc=dict(pop_est=\"sum\"))"
   ]
  },
  {
   "cell_type": "code",
   "execution_count": null,
   "id": "7a228fb2-64fb-4352-87f4-1021e413e81a",
   "metadata": {},
   "outputs": [],
   "source": [
    "continents.plot(column=\"pop_est\");"
   ]
  },
  {
   "cell_type": "markdown",
   "id": "685cc3f3-7a46-4176-b1b7-0b7a87db5ac0",
   "metadata": {},
   "source": [
    "You can also pass a `pandas.Series` to the `dissolve()` function that describes your mapping for more exotic aggregation strategies (e.g. by first letter of the country name):"
   ]
  },
  {
   "cell_type": "code",
   "execution_count": null,
   "id": "d0e0815e-5b15-4806-84ef-5d1aec7ed5b9",
   "metadata": {},
   "outputs": [],
   "source": [
    "world.dissolve(by=world.name.str[0], aggfunc=dict(pop_est=\"sum\")).plot(column=\"pop_est\")"
   ]
  },
  {
   "cell_type": "markdown",
   "id": "3f9f99c3-e23f-4dcc-9fc7-88e41983b503",
   "metadata": {},
   "source": [
    "## Representative Points and Crow-Fly Distances"
   ]
  },
  {
   "cell_type": "markdown",
   "id": "8b0b26f3-888e-4fe3-b0a3-920941877aa8",
   "metadata": {},
   "source": [
    "The following example includes code to retrieve representative points from polygons and to calculate the distance on a sphere between two points.\n",
    "\n",
    ":::{note}\n",
    "See also https://en.wikipedia.org/wiki/Haversine_formula\n",
    "\n",
    "See also https://geopandas.org/en/stable/docs/reference/api/geopandas.GeoSeries.distance.html\n",
    ":::"
   ]
  },
  {
   "cell_type": "code",
   "execution_count": null,
   "id": "f25c2763-9df5-4426-a2de-9c8b538955b0",
   "metadata": {},
   "outputs": [],
   "source": [
    "world = gpd.read_file(gpd.datasets.get_path(\"naturalearth_lowres\"))"
   ]
  },
  {
   "cell_type": "code",
   "execution_count": null,
   "id": "af654309-5425-4ec9-8ffe-0cd5e62f334b",
   "metadata": {},
   "outputs": [],
   "source": [
    "points = world.representative_point()"
   ]
  },
  {
   "cell_type": "code",
   "execution_count": null,
   "id": "ff6530d5-9a06-425a-a628-614df05b6a83",
   "metadata": {},
   "outputs": [],
   "source": [
    "fig, ax = plt.subplots()\n",
    "world.plot(ax=ax)\n",
    "points.plot(ax=ax, color=\"red\", markersize=3);"
   ]
  },
  {
   "cell_type": "code",
   "execution_count": null,
   "id": "bb589b2f-1206-434b-8152-de5addacdd1c",
   "metadata": {},
   "outputs": [],
   "source": [
    "points = points.to_crs(4087)\n",
    "points.index = world.iso_a3"
   ]
  },
  {
   "cell_type": "code",
   "execution_count": null,
   "id": "1d04b5b0-cbc9-44c3-8445-3b4916094b51",
   "metadata": {},
   "outputs": [],
   "source": [
    "distances = pd.concat({k: points.distance(p) for k, p in points.items()}, axis=1).div(\n",
    "    1e3\n",
    ")  # km"
   ]
  },
  {
   "cell_type": "code",
   "execution_count": null,
   "id": "ad28ea4f-6e34-4cdf-bcd0-1de02d38ab5c",
   "metadata": {},
   "outputs": [],
   "source": [
    "distances.loc[\"DEU\", \"NLD\"]"
   ]
  },
  {
   "cell_type": "code",
   "execution_count": null,
   "id": "c5d1286d-5207-4892-a2c7-63890a0e405f",
   "metadata": {},
   "outputs": [],
   "source": [
    "cutout.data.temperature.sel(time=\"2013-01-01 00:00\").to_pandas().head()"
   ]
  },
  {
   "cell_type": "markdown",
   "id": "20d749b7-1a90-405b-9e79-a9306e92bd97",
   "metadata": {},
   "source": [
    "## Global Equal-Area and Equal-Distance CRS"
   ]
  },
  {
   "cell_type": "markdown",
   "id": "25bd7e09-ae9f-4a12-afbc-f6d80a4a45ec",
   "metadata": {},
   "source": [
    "Previously, we used EPSG:3035 as projection to calculate the area of regions in km². However, this projection is not correct for regions outside of Europe, so that we need to pick different, more suitable projections for calculating areas and distances between regions.\n",
    "\n",
    "- **for calculating distances:** [WGS 84 / World Equidistant Cylindrical (EPSG:4087)](https://epsg.io/4087)\n",
    "\n",
    "- **for calculating areas:** [Mollweide (ESRI:54009)](https://epsg.io/54009)\n",
    "\n",
    "The unit of measurement for both projections is metres."
   ]
  },
  {
   "cell_type": "code",
   "execution_count": null,
   "id": "48597ada-85cc-45f7-aed9-d03b605cfc18",
   "metadata": {},
   "outputs": [],
   "source": [
    "AREA_CRS = \"ESRI:54009\"\n",
    "DISTANCE_CRS = \"EPSG:4087\""
   ]
  },
  {
   "cell_type": "code",
   "execution_count": null,
   "id": "34ee44cc-55e5-4828-8531-4ade5b868f4b",
   "metadata": {},
   "outputs": [],
   "source": [
    "world = gpd.read_file(gpd.datasets.get_path(\"naturalearth_lowres\"))"
   ]
  },
  {
   "cell_type": "code",
   "execution_count": null,
   "id": "c9f50860-9274-4f57-b17c-c61bdf643965",
   "metadata": {},
   "outputs": [],
   "source": [
    "world.to_crs(AREA_CRS).plot()"
   ]
  },
  {
   "cell_type": "code",
   "execution_count": null,
   "id": "42e97377-f6f0-4596-a066-c959ac6c7186",
   "metadata": {},
   "outputs": [],
   "source": [
    "world.to_crs(DISTANCE_CRS).plot()"
   ]
  },
  {
   "cell_type": "markdown",
   "id": "acc239ae-f97c-4fa7-9a7d-e190d99f06ee",
   "metadata": {},
   "source": [
    "## Country Converter"
   ]
  },
  {
   "cell_type": "markdown",
   "id": "b62649e5-fcc8-4117-b2ff-ba58e0a2e1ec",
   "metadata": {},
   "source": [
    "> The country converter (coco) is a Python package to convert and match country names between different classifications and between different naming versions. \n",
    "\n",
    ":::{note}\n",
    "See also https://github.com/konstantinstadler/country_converter\n",
    ":::"
   ]
  },
  {
   "cell_type": "code",
   "execution_count": null,
   "id": "be6885e8-ec92-4cd3-9d01-2a43d16ec0c6",
   "metadata": {},
   "outputs": [],
   "source": [
    "import country_converter as coco"
   ]
  },
  {
   "cell_type": "markdown",
   "id": "be909cfd-be27-42ac-ad05-02d65bd8c65e",
   "metadata": {},
   "source": [
    "Convert various country names to some standard names, specifying source and target classification scheme:"
   ]
  },
  {
   "cell_type": "code",
   "execution_count": null,
   "id": "d3715058-1afd-47c4-b544-3c594a5bd727",
   "metadata": {},
   "outputs": [],
   "source": [
    "coco.convert(names=\"NLD\", to=\"name_official\")"
   ]
  },
  {
   "cell_type": "code",
   "execution_count": null,
   "id": "b3ce1d48-b46b-442e-b7e2-1213ad6860de",
   "metadata": {},
   "outputs": [],
   "source": [
    "coco.convert(names=\"NLD\", to=\"iso2\")"
   ]
  },
  {
   "cell_type": "code",
   "execution_count": null,
   "id": "24611fc6-8f02-47b4-8d81-e9ec402de2e1",
   "metadata": {},
   "outputs": [],
   "source": [
    "coco.convert(names=\"NLD\", src=\"iso3\", to=\"iso2\")"
   ]
  },
  {
   "cell_type": "code",
   "execution_count": null,
   "id": "4067eb1a-7eb1-4028-9e0d-449199079580",
   "metadata": {},
   "outputs": [],
   "source": [
    "country_list = [\"AE\", \"AL\", \"AM\", \"AO\", \"AR\"]"
   ]
  },
  {
   "cell_type": "code",
   "execution_count": null,
   "id": "0127a929-264c-4aab-9c12-343a9d5c852e",
   "metadata": {},
   "outputs": [],
   "source": [
    "coco.convert(names=country_list, src=\"iso2\", to=\"short_name\")"
   ]
  },
  {
   "cell_type": "markdown",
   "id": "17bfc8a7-573f-45f2-a822-15b640d86b42",
   "metadata": {},
   "source": [
    "List of included country classification schemes:"
   ]
  },
  {
   "cell_type": "code",
   "execution_count": null,
   "id": "9fad1138-cd65-4746-ac7f-2508b022b6f4",
   "metadata": {},
   "outputs": [],
   "source": [
    "cc = coco.CountryConverter()\n",
    "cc.valid_country_classifications"
   ]
  },
  {
   "cell_type": "markdown",
   "id": "d4001005-f170-4a2c-a6a2-e67a5fa253f9",
   "metadata": {},
   "source": [
    "## Gurobi"
   ]
  },
  {
   "cell_type": "markdown",
   "id": "c346daa6-dbe6-42cd-93ae-e9d417ba563c",
   "metadata": {},
   "source": [
    "[Gurobi](https://www.gurobi.com/) is one of the most powerful solvers to solve optimisation problems. \n",
    "It is a commercial solver, with free academic licenses.\n",
    "\n",
    ":::{note}\n",
    "Using this solver for the group assignment is optional. You can also use other open-source alternatives, but they might just take a little longer to solve.\n",
    ":::\n",
    "\n",
    "To set up Gurobi, you need to:\n",
    "\n",
    "- Register at https://pages.gurobi.com/registration/ with your institutional e-mail address (e.g. `@campus.tu-berlin.de`).\n",
    "- Follow the getting started guide for your respective operating system at https://www.gurobi.com/documentation/quickstart.html (this includes a guide for retrieving your academic license and installing the software).\n",
    "- In your `conda` environment, install `gurobipy` with `pip install gurobipy`.\n"
   ]
  },
  {
   "cell_type": "code",
   "execution_count": null,
   "id": "e3264a45-648d-49fb-8249-1043acc2c3f2",
   "metadata": {},
   "outputs": [],
   "source": []
  }
 ],
 "metadata": {
  "kernelspec": {
   "display_name": "",
   "language": "python",
   "name": ""
  },
  "language_info": {
   "codemirror_mode": {
    "name": "ipython",
    "version": 3
   },
   "file_extension": ".py",
   "mimetype": "text/x-python",
   "name": "python",
   "nbconvert_exporter": "python",
   "pygments_lexer": "ipython3",
   "version": "3.11.4"
  }
 },
 "nbformat": 4,
 "nbformat_minor": 5
}

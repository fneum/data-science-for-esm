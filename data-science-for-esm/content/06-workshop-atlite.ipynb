{
 "cells": [
  {
   "cell_type": "markdown",
   "metadata": {},
   "source": [
    "# Introduction to `rasterio` and `atlite`"
   ]
  },
  {
   "cell_type": "markdown",
   "metadata": {},
   "source": [
    "In this tutorial, we're going to cover two new Python packages:\n",
    "\n",
    "**Rasterio: access to geospatial raster data**\n",
    "\n",
    "> Geographic information systems use GeoTIFF and other formats to organize and store gridded raster datasets such as satellite imagery and terrain models. Rasterio reads and writes these formats and provides a Python API based on Numpy N-dimensional arrays and GeoJSON.\n",
    "\n",
    ":::{note}\n",
    "Documentation for rasterio is available at https://rasterio.readthedocs.io/en/latest/index.html.\n",
    ":::\n",
    "\n",
    "**Atlite: Convert weather data to energy systems data**\n",
    "\n",
    "> Atlite is a free software, xarray-based Python library for converting weather data (such as wind speeds, solar radiation, temperature and runoff) into power systems data (such as wind power, solar power, hydro power and heating demand time series).\n",
    "\n",
    ":::{note}\n",
    "Documentation for atlite is available at https://atlite.readthedocs.io/en/latest/.\n",
    "\n",
    "This tool is developed here at TU Berlin in the group of Digital Transformation of Energy Systems.\n",
    ":::\n",
    "\n",
    ":::{note}\n",
    "If you have not yet set up Python on your computer, you can execute this tutorial in your browser via [Google Colab](https://colab.research.google.com/). Click on the rocket in the top right corner and launch \"Colab\". If that doesn't work download the `.ipynb` file and import it in [Google Colab](https://colab.research.google.com/).\n",
    "\n",
    "Then install the following packages by executing the following command in a Jupyter cell at the top of the notebook.\n",
    "\n",
    "```sh\n",
    "!pip install atlite rasterio geopandas cartopy matplotlib numpy xarray\n",
    "```\n",
    ":::\n",
    "\n"
   ]
  },
  {
   "cell_type": "markdown",
   "metadata": {},
   "source": [
    "## Download of Required Data"
   ]
  },
  {
   "cell_type": "markdown",
   "metadata": {},
   "source": [
    "Before we can run this tutorial, we have to download a few input data files to your local filesystem. The cell below uses some Python utility packages to automate the retrieval of the required files."
   ]
  },
  {
   "cell_type": "code",
   "execution_count": null,
   "metadata": {
    "tags": [
     "hide-cell"
    ]
   },
   "outputs": [],
   "source": [
    "from urllib.request import urlretrieve\n",
    "from os.path import basename\n",
    "\n",
    "url = (\n",
    "    \"https://tubcloud.tu-berlin.de/s/2oogpgBfM5n4ssZ/download/PORTUGAL-2013-01-era5.nc\"\n",
    ")\n",
    "urlretrieve(url, basename(url))"
   ]
  },
  {
   "cell_type": "markdown",
   "metadata": {},
   "source": [
    "## Repetition of Vector Data"
   ]
  },
  {
   "cell_type": "markdown",
   "metadata": {},
   "source": [
    "In the last tutorial, we used `geopandas` to work with **vector data** (e.g. points, lines, polygons):"
   ]
  },
  {
   "cell_type": "markdown",
   "metadata": {},
   "source": [
    "Importing the package:"
   ]
  },
  {
   "cell_type": "code",
   "execution_count": null,
   "metadata": {},
   "outputs": [],
   "source": [
    "import geopandas as gpd"
   ]
  },
  {
   "cell_type": "markdown",
   "metadata": {},
   "source": [
    "Reading the file:"
   ]
  },
  {
   "cell_type": "code",
   "execution_count": null,
   "metadata": {},
   "outputs": [],
   "source": [
    "url = \"https://tubcloud.tu-berlin.de/s/7bpHrAkjMT3ADSr/download/country_shapes.geojson\""
   ]
  },
  {
   "cell_type": "code",
   "execution_count": null,
   "metadata": {},
   "outputs": [],
   "source": [
    "countries = gpd.read_file(url).set_index(\"name\")"
   ]
  },
  {
   "cell_type": "markdown",
   "metadata": {},
   "source": [
    "Inspecting the GeoDataFrame:"
   ]
  },
  {
   "cell_type": "code",
   "execution_count": null,
   "metadata": {},
   "outputs": [],
   "source": [
    "countries.tail()"
   ]
  },
  {
   "cell_type": "markdown",
   "metadata": {},
   "source": [
    ":::{note}\n",
    "This dataset uses ISO-2 country codes as index: https://en.wikipedia.org/wiki/ISO_3166-1_alpha-2.\n",
    ":::"
   ]
  },
  {
   "cell_type": "markdown",
   "metadata": {},
   "source": [
    "Plotting the GeoDataFrame:"
   ]
  },
  {
   "cell_type": "code",
   "execution_count": null,
   "metadata": {},
   "outputs": [],
   "source": [
    "countries.plot(edgecolor=\"k\", facecolor=\"lightgrey\")"
   ]
  },
  {
   "cell_type": "markdown",
   "metadata": {},
   "source": [
    "Reprojecting geometries in the GeoDataFrame:"
   ]
  },
  {
   "cell_type": "code",
   "execution_count": null,
   "metadata": {},
   "outputs": [],
   "source": [
    "import matplotlib.pyplot as plt\n",
    "import cartopy.crs as ccrs"
   ]
  },
  {
   "cell_type": "code",
   "execution_count": null,
   "metadata": {},
   "outputs": [],
   "source": [
    "crs = ccrs.EqualEarth()\n",
    "\n",
    "fig = plt.figure(figsize=(10, 5))\n",
    "\n",
    "ax = plt.axes(projection=crs)\n",
    "\n",
    "countries.to_crs(crs.proj4_init).plot(ax=ax, edgecolor=\"k\", facecolor=\"lightgrey\")"
   ]
  },
  {
   "cell_type": "markdown",
   "metadata": {},
   "source": [
    "## Raster Data with `rasterio`"
   ]
  },
  {
   "cell_type": "markdown",
   "metadata": {},
   "source": [
    "But we haven't worked with **raster data** yet!"
   ]
  },
  {
   "cell_type": "markdown",
   "metadata": {},
   "source": [
    "One useful package for working with raster data is [`rasterio`](https://rasterio.readthedocs.io/en/latest/):"
   ]
  },
  {
   "cell_type": "code",
   "execution_count": null,
   "metadata": {},
   "outputs": [],
   "source": [
    "import rasterio"
   ]
  },
  {
   "cell_type": "markdown",
   "metadata": {},
   "source": [
    "With `rasterio`, we can for instance load GeoTIFF files.\n",
    "\n",
    "In the example below, we load the [CORINE land cover classification](https://land.copernicus.eu/pan-european/corine-land-cover) for Portugal:\n",
    "\n"
   ]
  },
  {
   "cell_type": "code",
   "execution_count": null,
   "metadata": {},
   "outputs": [],
   "source": [
    "url = \"https://tubcloud.tu-berlin.de/s/Mw5dwbwdsDY8zfH/download/U2018_CLC2018_V2020_20u1-PT.tif\"\n",
    "clc = rasterio.open(url)"
   ]
  },
  {
   "cell_type": "markdown",
   "metadata": {},
   "source": [
    "Datasets can have one or more bands (or layers), which can be read with the `.read()` function:"
   ]
  },
  {
   "cell_type": "code",
   "execution_count": null,
   "metadata": {},
   "outputs": [],
   "source": [
    "band = clc.read(1)"
   ]
  },
  {
   "cell_type": "markdown",
   "metadata": {},
   "source": [
    "The returned object is a 2-dimensional `numpy.ndarray`. "
   ]
  },
  {
   "cell_type": "code",
   "execution_count": null,
   "metadata": {},
   "outputs": [],
   "source": [
    "type(band)"
   ]
  },
  {
   "cell_type": "code",
   "execution_count": null,
   "metadata": {},
   "outputs": [],
   "source": [
    "band.shape"
   ]
  },
  {
   "cell_type": "markdown",
   "metadata": {},
   "source": [
    "The band values correspond to a land cover and land use classification scheme with class values as listed [here](https://collections.sentinel-hub.com/corine-land-cover/readme.html).\n",
    "\n",
    "This is an example of **categorical values** in raster data."
   ]
  },
  {
   "cell_type": "code",
   "execution_count": null,
   "metadata": {},
   "outputs": [],
   "source": [
    "import numpy as np"
   ]
  },
  {
   "cell_type": "code",
   "execution_count": null,
   "metadata": {},
   "outputs": [],
   "source": [
    "np.unique(band)"
   ]
  },
  {
   "cell_type": "markdown",
   "metadata": {},
   "source": [
    "There are two common options to plot raster data:\n",
    "- with `plt.imshow()`\n",
    "- with `rasterio.plot.show()`"
   ]
  },
  {
   "cell_type": "code",
   "execution_count": null,
   "metadata": {},
   "outputs": [],
   "source": [
    "plt.imshow(band, cmap=\"tab20\")"
   ]
  },
  {
   "cell_type": "code",
   "execution_count": null,
   "metadata": {},
   "outputs": [],
   "source": [
    "from rasterio.plot import show\n",
    "\n",
    "show(band, cmap=\"tab20\")"
   ]
  },
  {
   "cell_type": "markdown",
   "metadata": {},
   "source": [
    "The integrated `rasterio` plotting functionality is slightly more powerful.\n",
    "\n",
    "For instance, it can label the axes with proper geo-referenced extents.\n",
    "\n",
    "These are stored in the `.crs`, `.bounds` and `.transform` attributes."
   ]
  },
  {
   "cell_type": "code",
   "execution_count": null,
   "metadata": {},
   "outputs": [],
   "source": [
    "clc.crs"
   ]
  },
  {
   "cell_type": "code",
   "execution_count": null,
   "metadata": {},
   "outputs": [],
   "source": [
    "clc.bounds"
   ]
  },
  {
   "cell_type": "code",
   "execution_count": null,
   "metadata": {},
   "outputs": [],
   "source": [
    "clc.transform"
   ]
  },
  {
   "cell_type": "markdown",
   "metadata": {},
   "source": [
    "We can pass the information on the projection to the `rasterio.plot.show()` function:"
   ]
  },
  {
   "cell_type": "code",
   "execution_count": null,
   "metadata": {},
   "outputs": [],
   "source": [
    "from rasterio.plot import show\n",
    "\n",
    "show(band, transform=clc.transform, cmap=\"tab20\")"
   ]
  },
  {
   "cell_type": "markdown",
   "metadata": {},
   "source": [
    "Let's quickly load another dataset with **continuous values**: The elevation and water depth in and around Portugal.\n",
    "\n",
    "This dataset comes from [GEBCO Gridded Bathymetry Data](https://www.gebco.net/data_and_products/gridded_bathymetry_data/) and has another file format `.nc` (netCDF) which also stores raster data.\n",
    "\n",
    "It would be useful to exclude very mountainous areas, or identify shallow water at sea for the development of offshore wind turbines."
   ]
  },
  {
   "cell_type": "code",
   "execution_count": null,
   "metadata": {},
   "outputs": [],
   "source": [
    "url = \"https://tubcloud.tu-berlin.de/s/XoDpBcweJHmYKgF/download/GEBCO_2014_2D-PT.nc\"\n",
    "gebco = rasterio.open(url)"
   ]
  },
  {
   "cell_type": "code",
   "execution_count": null,
   "metadata": {},
   "outputs": [],
   "source": [
    "band = gebco.read(1)"
   ]
  },
  {
   "cell_type": "code",
   "execution_count": null,
   "metadata": {},
   "outputs": [],
   "source": [
    "np.unique(band)"
   ]
  },
  {
   "cell_type": "markdown",
   "metadata": {},
   "source": [
    "For plotting, we can also display **vector and raster data together**:"
   ]
  },
  {
   "cell_type": "code",
   "execution_count": null,
   "metadata": {},
   "outputs": [],
   "source": [
    "fig, ax = plt.subplots(figsize=(4, 8))\n",
    "\n",
    "countries.loc[[\"PT\", \"ES\"]].plot(ax=ax, color=\"none\")\n",
    "\n",
    "show(band, transform=gebco.transform, cmap=\"RdBu_r\", ax=ax)"
   ]
  },
  {
   "cell_type": "markdown",
   "metadata": {},
   "source": [
    "## Land Eligibility Analysis with `atlite`"
   ]
  },
  {
   "cell_type": "markdown",
   "metadata": {},
   "source": [
    "To estimate the wind and solar generation potential of a country, land usage constraints need to be taken into account.\n",
    "\n",
    "Data required to determine the eligible areas is stored as **raster** and **vector** data.\n",
    "\n",
    "**Examples:**\n",
    "\n",
    "- **Vector Data:** natural protection areas, settlements, roads, airports\n",
    "- **Raster Data:** type of land, elevation, slope"
   ]
  },
  {
   "cell_type": "markdown",
   "metadata": {},
   "source": [
    "The [`atlite`](https://atlite.readthedocs.io) library has some useful features to handle exclusion constraints for both datatypes.\n",
    "\n",
    "The core object to do land elibility analysis in `atlite` is the `ExclusionContainer`, which serves as a container for all rasters and geometries we want to exclude (or include)."
   ]
  },
  {
   "cell_type": "code",
   "execution_count": null,
   "metadata": {},
   "outputs": [],
   "source": [
    "from atlite.gis import ExclusionContainer"
   ]
  },
  {
   "cell_type": "markdown",
   "metadata": {},
   "source": [
    "In many cases, rasters and geometries have different projections and resolutions. Therefore, the `ExclusionContainer` is initialized by a CRS and a resolution which suits as a basis for all added rasters and geometries. Per default the CRS is [3035](https://epsg.io/3035) and the resoultion 100, which leads set a raster of 100 meter resolution. All rasters and geometries will be converted to this CRS and resolution.\n",
    "\n",
    ":::{warning}\n",
    "The [CRS 3035](https://epsg.io/3035) is only valid in Europe.\n",
    ":::"
   ]
  },
  {
   "cell_type": "code",
   "execution_count": null,
   "metadata": {},
   "outputs": [],
   "source": [
    "excluder = ExclusionContainer(crs=3035)"
   ]
  },
  {
   "cell_type": "markdown",
   "metadata": {},
   "source": [
    "Let's add our first exclusion criteria, the [Natura2000 natural protection areas](https://www.google.com/search?channel=fs&client=ubuntu&q=natura200), to the container using the `excluder.add_geometry()` function. This function is for vector data. It's sibling, `excluder.add_raster()` we will use later."
   ]
  },
  {
   "cell_type": "code",
   "execution_count": null,
   "metadata": {},
   "outputs": [],
   "source": [
    "url = \"https://tubcloud.tu-berlin.de/s/mxgaA7wH8NsmdDi/download/Natura2000_end2021-PT.gpkg\"\n",
    "excluder.add_geometry(url)"
   ]
  },
  {
   "cell_type": "markdown",
   "metadata": {},
   "source": [
    "To calculate the *mask* for the exclusion container (i.e. which cells are not excluded), we can use the `shape_availability()` function, which takes as arguments:\n",
    "- a **geometry** (e.g. country shape) within which to calculate available areas\n",
    "- an **exclusion container** object"
   ]
  },
  {
   "cell_type": "code",
   "execution_count": null,
   "metadata": {},
   "outputs": [],
   "source": [
    "from atlite.gis import shape_availability"
   ]
  },
  {
   "cell_type": "markdown",
   "metadata": {},
   "source": [
    "Since the excluder is in `crs=3035`, we should also convert to geometry of Portucal to `excluder.crs` first."
   ]
  },
  {
   "cell_type": "code",
   "execution_count": null,
   "metadata": {},
   "outputs": [],
   "source": [
    "shape = countries.to_crs(excluder.crs).loc[[\"PT\"]].geometry\n",
    "shape.iloc[0]"
   ]
  },
  {
   "cell_type": "markdown",
   "metadata": {},
   "source": [
    "We can then call the `shape_availability` function:"
   ]
  },
  {
   "cell_type": "code",
   "execution_count": null,
   "metadata": {},
   "outputs": [],
   "source": [
    "band, transform = shape_availability(shape, excluder)"
   ]
  },
  {
   "cell_type": "markdown",
   "metadata": {},
   "source": [
    "This function returns a 2-D `numpy.ndarray` and a transformation, similar to the previous `rasterio` examples.\n",
    "\n",
    "Eligile raster cells have a `True` and excluded cells a `False`."
   ]
  },
  {
   "cell_type": "code",
   "execution_count": null,
   "metadata": {},
   "outputs": [],
   "source": [
    "band"
   ]
  },
  {
   "cell_type": "code",
   "execution_count": null,
   "metadata": {},
   "outputs": [],
   "source": [
    "band.any()"
   ]
  },
  {
   "cell_type": "code",
   "execution_count": null,
   "metadata": {},
   "outputs": [],
   "source": [
    "transform"
   ]
  },
  {
   "cell_type": "markdown",
   "metadata": {},
   "source": [
    "We can use the `rasterio.plot.show()` function for plotting:"
   ]
  },
  {
   "cell_type": "code",
   "execution_count": null,
   "metadata": {},
   "outputs": [],
   "source": [
    "fig, ax = plt.subplots(figsize=(4, 8))\n",
    "shape.plot(ax=ax, color=\"none\")\n",
    "show(band, transform=transform, cmap=\"Greens\", ax=ax)"
   ]
  },
  {
   "cell_type": "markdown",
   "metadata": {},
   "source": [
    "How to calculate what share of the land is eligible?\n",
    "1. count number of eligible raster cells\n",
    "2. determine area per raster cell\n",
    "3. multiply cell area with number of cells\n",
    "4. divide eligible area by total land area"
   ]
  },
  {
   "cell_type": "code",
   "execution_count": null,
   "metadata": {},
   "outputs": [],
   "source": [
    "eligible_cells = band.sum()"
   ]
  },
  {
   "cell_type": "code",
   "execution_count": null,
   "metadata": {},
   "outputs": [],
   "source": [
    "cell_area = excluder.res**2"
   ]
  },
  {
   "cell_type": "code",
   "execution_count": null,
   "metadata": {},
   "outputs": [],
   "source": [
    "eligible_area = cell_area * eligible_cells"
   ]
  },
  {
   "cell_type": "code",
   "execution_count": null,
   "metadata": {},
   "outputs": [],
   "source": [
    "country_area = shape.geometry.area.iloc[0]"
   ]
  },
  {
   "cell_type": "code",
   "execution_count": null,
   "metadata": {},
   "outputs": [],
   "source": [
    "eligible_area / country_area * 100"
   ]
  },
  {
   "cell_type": "markdown",
   "metadata": {},
   "source": [
    "In this example, approximately 20% of Portugal's land area are covered by nature reserves."
   ]
  },
  {
   "cell_type": "markdown",
   "metadata": {},
   "source": [
    "Typically, more than one dataset is needed for a proper land eligibility analysis, i.e. we need to add more datasets to our container.\n",
    "So, let's expand the exclusion container ..."
   ]
  },
  {
   "cell_type": "code",
   "execution_count": null,
   "metadata": {},
   "outputs": [],
   "source": [
    "url = \"https://tubcloud.tu-berlin.de/s/mxgaA7wH8NsmdDi/download/Natura2000_end2021-PT.gpkg\"\n",
    "excluder = ExclusionContainer()\n",
    "excluder.add_geometry(url)"
   ]
  },
  {
   "cell_type": "markdown",
   "metadata": {},
   "source": [
    "... by a selection of CORINE land cover classes, which is given as raster data:"
   ]
  },
  {
   "cell_type": "markdown",
   "metadata": {},
   "source": [
    "When adding a raster to the `ExclusionContainer` you can specify which **codes** (integers) to exclude.\n",
    "\n",
    "By setting `invert=True`, you can also restrict the inclusion to a set of codes.\n",
    "\n",
    "Furthermore, you can add a **buffer** around codes which should also be excluded.\n",
    "\n",
    "Here we are first going to include a set of suitable [CORINE classes](https://collections.sentinel-hub.com/corine-land-cover/readme.html):"
   ]
  },
  {
   "cell_type": "code",
   "execution_count": null,
   "metadata": {},
   "outputs": [],
   "source": [
    "fn = \"https://github.com/fneum/data-science-for-esm/raw/main/data-science-for-esm/U2018_CLC2018_V2020_20u1-PT.tif\""
   ]
  },
  {
   "cell_type": "code",
   "execution_count": null,
   "metadata": {},
   "outputs": [],
   "source": [
    "codes = [12, 13, 18, 19, 20, 21]"
   ]
  },
  {
   "cell_type": "code",
   "execution_count": null,
   "metadata": {},
   "outputs": [],
   "source": [
    "excluder.add_raster(fn, codes=codes, crs=3035, invert=True)"
   ]
  },
  {
   "cell_type": "markdown",
   "metadata": {},
   "source": [
    "And then we are going exclude [CORINE classes](https://collections.sentinel-hub.com/corine-land-cover/readme.html) representing settled areas with an 800 meter buffer around them:"
   ]
  },
  {
   "cell_type": "code",
   "execution_count": null,
   "metadata": {},
   "outputs": [],
   "source": [
    "codes = [1, 2, 3, 4, 5, 6]"
   ]
  },
  {
   "cell_type": "code",
   "execution_count": null,
   "metadata": {},
   "outputs": [],
   "source": [
    "excluder.add_raster(fn, codes=codes, buffer=800, crs=3035)"
   ]
  },
  {
   "cell_type": "markdown",
   "metadata": {},
   "source": [
    "Then, we can simply repeat the calculation and visualisation of available cells:"
   ]
  },
  {
   "cell_type": "code",
   "execution_count": null,
   "metadata": {},
   "outputs": [],
   "source": [
    "band, transform = shape_availability(shape, excluder)\n",
    "\n",
    "fig, ax = plt.subplots(figsize=(4, 8))\n",
    "shape.plot(ax=ax, color=\"none\")\n",
    "show(band, transform=transform, cmap=\"Greens\", ax=ax)"
   ]
  },
  {
   "cell_type": "markdown",
   "metadata": {},
   "source": [
    "## Spatial and Temporal Availability"
   ]
  },
  {
   "cell_type": "markdown",
   "metadata": {},
   "source": [
    "Besides calculating spatial potential for renewables development, [`atlite`](https://atlite.readthedocs.io) can also handle weather data time series and convert them to energy systems time series (like production time series for wind and solar).\n",
    "\n",
    "One famous such dataset is the [ERA5 reanalysis data](https://cds.climate.copernicus.eu/cdsapp#!/dataset/reanalysis-era5-single-levels?tab=overview) which has historical weather data for the whole world from 1959 to 2022 at hourly resolution and on a 0.25 x 0.25 degree grid (roughly 25-30 km depending on where you are).\n",
    "\n",
    "`atlite` can be imported like this (usually without an alias):"
   ]
  },
  {
   "cell_type": "code",
   "execution_count": null,
   "metadata": {},
   "outputs": [],
   "source": [
    "import atlite"
   ]
  },
  {
   "cell_type": "markdown",
   "metadata": {},
   "source": [
    "A cutout is the basis for any of your work and calculations and contains all the weather data.\n",
    "\n",
    "Here, we load an existing dataset which was retrieved from `ERA5`."
   ]
  },
  {
   "cell_type": "code",
   "execution_count": null,
   "metadata": {},
   "outputs": [],
   "source": [
    "cutout = atlite.Cutout(\"PORTUGAL-2013-01-era5.nc\")"
   ]
  },
  {
   "cell_type": "code",
   "execution_count": null,
   "metadata": {},
   "outputs": [],
   "source": [
    "cutout"
   ]
  },
  {
   "cell_type": "code",
   "execution_count": null,
   "metadata": {},
   "outputs": [],
   "source": [
    "cutout.data"
   ]
  },
  {
   "cell_type": "markdown",
   "metadata": {},
   "source": [
    "Let's quickly plot the spatial resolution and scope of this dataset:"
   ]
  },
  {
   "cell_type": "code",
   "execution_count": null,
   "metadata": {},
   "outputs": [],
   "source": [
    "ax = shape.to_crs(4326).plot()\n",
    "cutout.grid.plot(ax=ax, edgecolor=\"grey\", color=\"None\")"
   ]
  },
  {
   "cell_type": "markdown",
   "metadata": {},
   "source": [
    "We can directly access, aggregate, and plot individual meteorological parameters:"
   ]
  },
  {
   "cell_type": "code",
   "execution_count": null,
   "metadata": {},
   "outputs": [],
   "source": [
    "wnd100m = cutout.data.wnd100m.mean(dim=\"time\")"
   ]
  },
  {
   "cell_type": "code",
   "execution_count": null,
   "metadata": {},
   "outputs": [],
   "source": [
    "ax = plt.axes(projection=ccrs.PlateCarree())\n",
    "\n",
    "wnd100m.plot(ax=ax, vmin=0, vmax=10)\n",
    "\n",
    "shape.to_crs(4326).plot(ax=ax, edgecolor=\"k\", color=\"none\")"
   ]
  },
  {
   "cell_type": "markdown",
   "metadata": {},
   "source": [
    "This cutout happens to also have data on the surface roughness. We can use this to scale the 100 meter wind speeds down to 10 meters using the **log law**:\n",
    "\n",
    "$$\\frac{U(z)}{U(z_r)} = \\frac{\\ln\\left(\\frac{z}{z_0}\\right)}{\\ln\\left(\\frac{z_r}{z_0}\\right)}$$"
   ]
  },
  {
   "cell_type": "code",
   "execution_count": null,
   "metadata": {},
   "outputs": [],
   "source": [
    "z_r = cutout.data.roughness\n",
    "wnd100m = cutout.data.wnd100m"
   ]
  },
  {
   "cell_type": "code",
   "execution_count": null,
   "metadata": {},
   "outputs": [],
   "source": [
    "wnd10m = wnd100m * np.log(10 / z_r) / np.log(100 / z_r)"
   ]
  },
  {
   "cell_type": "code",
   "execution_count": null,
   "metadata": {},
   "outputs": [],
   "source": [
    "ax = plt.axes(projection=ccrs.PlateCarree())\n",
    "\n",
    "wnd10m.mean(dim=\"time\").plot(ax=ax, vmin=0, vmax=10)\n",
    "\n",
    "shape.to_crs(4326).plot(ax=ax, edgecolor=\"k\", color=\"none\")"
   ]
  },
  {
   "cell_type": "markdown",
   "metadata": {},
   "source": [
    "We can also build means in the spatial dimensions and investigate the behaviour of meteorological variables over time. Here, we do this for the direct solar irradiation."
   ]
  },
  {
   "cell_type": "code",
   "execution_count": null,
   "metadata": {},
   "outputs": [],
   "source": [
    "cutout.data.mean(dim=[\"x\", \"y\"]).influx_direct.plot()"
   ]
  },
  {
   "cell_type": "markdown",
   "metadata": {},
   "source": [
    "We also already saw that the weather cells are much larger than the raster cells. `atlite` automates this conversion for averaging fine-grained to coarse-grained rasters for all geometries in shapes when calling the `cutout.availabilitymatrix()` function. "
   ]
  },
  {
   "cell_type": "code",
   "execution_count": null,
   "metadata": {},
   "outputs": [],
   "source": [
    "A = cutout.availabilitymatrix(shape, excluder)"
   ]
  },
  {
   "cell_type": "markdown",
   "metadata": {},
   "source": [
    "`A` is an array with 3 dimensions (`shape`, `x`, `y`) and very sparse data. It indicates the relative overlap of weather cell (`x`, `y`) with geometry shape while excluding the area specified by the excluder."
   ]
  },
  {
   "cell_type": "code",
   "execution_count": null,
   "metadata": {},
   "outputs": [],
   "source": [
    "fig, ax = plt.subplots()\n",
    "A.sel(name=\"PT\").plot(cmap=\"Greens\")\n",
    "shape.to_crs(4326).plot(ax=ax, edgecolor=\"k\", color=\"none\")\n",
    "cutout.grid.plot(ax=ax, color=\"none\", edgecolor=\"grey\", ls=\":\")"
   ]
  },
  {
   "cell_type": "markdown",
   "metadata": {},
   "source": [
    "The availibility matrix `A` can now be used as a layout matrix in the conversion functions of `atlite` from wind speeds to capacity factors.\n",
    "\n",
    "The general approach would be to weigh the availabilities with the area per grid cell and the allowed deployment density (capacity per area).\n",
    "\n",
    ":::{note}\n",
    "We won't cover `xarray` in detail in this course, but for now you can imagine it as a performant multi-dimensional version of `pandas`.\n",
    ":::"
   ]
  },
  {
   "cell_type": "code",
   "execution_count": null,
   "metadata": {},
   "outputs": [],
   "source": [
    "import xarray as xr\n",
    "\n",
    "cap_per_sqkm = 2  # 2 MW/km^2\n",
    "area = cutout.grid.set_index([\"y\", \"x\"]).to_crs(3035).area / 1e6  # in km^2\n",
    "area = xr.DataArray(area, dims=(\"spatial\"))\n",
    "\n",
    "capacity_matrix = A.stack(spatial=[\"y\", \"x\"]) * area * cap_per_sqkm"
   ]
  },
  {
   "cell_type": "markdown",
   "metadata": {},
   "source": [
    "This code block processes the three-dimensional availability matrix `A` (representing a spatial grid with values between 0 and 1 indicating the relative eligible area per square) to calculate the capacity per square kilometer for each grid cell. First, the `cutout.grid` is assigned its latitudes and longitudes as coordinates, before the area of each grid cell is calculated. This new `area` object is converted into an `xarray.DataArray` with a single spatial dimension called \"spatial\". Finally, the availability matrix `A` is flattened (stacked) into a two-dimensional array along the spatial dimensions, x and y, aligning it with the dimensions of `area`. Each cell's value is multiplied by its corresponding area and a capacity factor (`cap_per_sqkm`)."
   ]
  },
  {
   "cell_type": "markdown",
   "metadata": {},
   "source": [
    "Using the resulting `capacity_matrix` which contains for each grid cell the maximum deployable capacity, we can now calculate the capacity factor time series for Portugal."
   ]
  },
  {
   "cell_type": "code",
   "execution_count": null,
   "metadata": {},
   "outputs": [],
   "source": [
    "cutout.prepare()\n",
    "wind = cutout.wind(matrix=capacity_matrix, turbine=\"Vestas_V90_3MW\", index=shape.index)"
   ]
  },
  {
   "cell_type": "markdown",
   "metadata": {},
   "source": [
    "Let’s see how the total wind power potential looks like:"
   ]
  },
  {
   "cell_type": "code",
   "execution_count": null,
   "metadata": {},
   "outputs": [],
   "source": [
    "wind.plot()"
   ]
  },
  {
   "cell_type": "markdown",
   "metadata": {},
   "source": [
    "Analogously, we can also determine the potential power generation time series of solar photovoltaics parks:\n",
    "\n",
    ":::{note}\n",
    "For simplicity, we assume the same deployment density and land eligibility criteria as for wind. Note that in reality, different eligibility criteria apply for solar and wind developments.\n",
    ":::\n",
    "\n",
    "For that, we have to specify the [type of panel](https://en.wikipedia.org/wiki/Solar_panel#Technology) (CSi refers to a crystalline silicon panel), the orientation (azimuth of 180° means southward orientation, slope refers to inclination angle from the ground)."
   ]
  },
  {
   "cell_type": "code",
   "execution_count": null,
   "metadata": {},
   "outputs": [],
   "source": [
    "pv = cutout.pv(\n",
    "    panel=\"CSi\",\n",
    "    orientation={\"slope\": 30.0, \"azimuth\": 180.0},\n",
    "    matrix=capacity_matrix,\n",
    "    index=shape.index,\n",
    ")"
   ]
  },
  {
   "cell_type": "code",
   "execution_count": null,
   "metadata": {},
   "outputs": [],
   "source": [
    "pv.plot()"
   ]
  },
  {
   "cell_type": "markdown",
   "metadata": {},
   "source": [
    "## Exercises\n",
    "\n",
    "### Exercise 1\n",
    "\n",
    "Tweak some parameters of the land exclusion calculation for wind deployment:\n",
    "\n",
    "- Vary the [CORINE land classes](https://collections.sentinel-hub.com/corine-land-cover/readme.html) allowed for wind turbine development.\n",
    "- Vary the buffer distance from 0m to 2000m in steps of 250m and observe the change in availble area.\n",
    "- Add the [GEBCO topography data](https://www.gebco.net/) loaded at the beginning of the tutorial to the exclusion calculator and exclude areas above 1000m elevation.\n"
   ]
  },
  {
   "cell_type": "markdown",
   "metadata": {
    "tags": [
     "hide-cell"
    ]
   },
   "source": [
    "Solution:\n",
    "\n",
    "1. Change codes in `excluder.add_raster(fn, codes=codes, crs=3035, invert=True)` \n",
    "2. Change buffer in `excluder.add_raster(fn, codes=codes, buffer=800, crs=3035)`\n",
    "3. Add line `excluder.add_raster(fn_to_gebco, crs=4326)` as data is given in different projection."
   ]
  },
  {
   "cell_type": "markdown",
   "metadata": {},
   "source": [
    "\n",
    "### Exercise 2\n",
    "\n",
    "The orientation of solar panels plays a decisive role in determining their potential power generation time series. Explore this aspect by performing the following sensitivity analysis:\n",
    "\n",
    "- Plot the total energy yield in January as a function of the slope of the panels oriented towards the South (0° means horizontal orientation, 90° means vertical orientation) in steps of 10°. What is the optimal tilt angle? Why might the value be higher than typically recommended for PV panels?\n",
    "- Plot the power production profile for January 1 for the azimuth angles 0°, 90°, 180°, 270° of panels tilted at a 30° angle. What orientation does each angle represent? Describe the differences you observe.\n",
    "- The `cutout.pv()` function can also consider multiple options for tracking features of solar panels as listed below. Tracking in solar panel systems refers to the mechanism that allows panels to move and orient themselves towards the sun, maximizing their exposure to sunlight and thereby increasing their electricity output. The default settings in `atlite` assume no tracking devices. Explore and describe the power output profile for different tracking options for January 31. How much more expensive in percent can the equipment for tracking be to achieve the same cost per unit of electricity produced as a fixed panel (if it only operated in January)?\n",
    "\n",
    "Available tracking options in `atlite` are:\n",
    "\n",
    "- `tracking='horizontal'` for 1-axis horizontal tracking: This setting positions solar panels to rotate around a horizontal axis, allowing them to follow the sun's path from east to west.\n",
    "- `tracking='vertical'` for 1-axis vertical tracking: In this mode, the solar panels rotate around a vertical axis, which can be advantageous in high latitudes for better sun capture throughout the day.\n",
    "- `tracking='dual'` for 2-axis tracking: This advanced system allows panels to track the sun both horizontally and vertically, maximizing solar exposure and energy capture throughout the day and year.\n",
    "\n",
    "For all calculations, assume the same deployment density and land eligibility criteria as for wind (for simplicity)."
   ]
  },
  {
   "cell_type": "code",
   "execution_count": null,
   "metadata": {
    "tags": [
     "hide-cell"
    ]
   },
   "outputs": [],
   "source": [
    "import pandas as pd\n",
    "\n",
    "kwargs = dict(\n",
    "    panel=\"CSi\",\n",
    "    matrix=capacity_matrix,\n",
    "    index=shape.index,\n",
    ")\n",
    "\n",
    "pv_orientation = {}\n",
    "for slope in range(0, 100, 10):\n",
    "    print(f\"slope: {slope}°\")\n",
    "    pv_orientation[slope] = (\n",
    "        cutout.pv(orientation=dict(slope=slope, azimuth=180.0), **kwargs)\n",
    "        .to_pandas()\n",
    "        .squeeze()\n",
    "        .div(1e3)\n",
    "    )  # GW\n",
    "\n",
    "df = pd.DataFrame(pv_orientation)\n",
    "\n",
    "df.sum().plot(ylabel=\"electricity output [GWh]\", xlabel=\"slope [°]\")\n",
    "\n",
    "best = df.sum().idxmax()\n",
    "print(\"The optimal slope is {:.0f}°\".format(best))"
   ]
  },
  {
   "cell_type": "code",
   "execution_count": null,
   "metadata": {
    "tags": [
     "hide-cell"
    ]
   },
   "outputs": [],
   "source": [
    "kwargs = dict(\n",
    "    panel=\"CSi\",\n",
    "    matrix=capacity_matrix,\n",
    "    index=shape.index,\n",
    ")\n",
    "\n",
    "pv_azimuth = {}\n",
    "for angle in [0, 90, 180, 270]:\n",
    "    print(f\"azimuth: {angle}°\")\n",
    "    pv_azimuth[angle] = (\n",
    "        cutout.pv(orientation=dict(slope=30, azimuth=angle), **kwargs)\n",
    "        .to_pandas()\n",
    "        .squeeze()\n",
    "        .div(1e3)\n",
    "    )  # GW\n",
    "\n",
    "df = pd.DataFrame(pv_azimuth)\n",
    "\n",
    "df.loc[\"2013-01-01\"].plot(ylabel=\"power output [GW]\")"
   ]
  },
  {
   "cell_type": "markdown",
   "metadata": {
    "tags": [
     "hide-cell"
    ]
   },
   "source": [
    "- 0° is North (minimum output as sun traverses from East to West via South in Northern hemisphere)\n",
    "- 90° is East (sun reaches panel earlier, departs earlier)\n",
    "- 270° is West (sun reaches panel later, departs later)\n",
    "- 180° is South (maximum output)"
   ]
  },
  {
   "cell_type": "code",
   "execution_count": null,
   "metadata": {
    "tags": [
     "hide-cell"
    ]
   },
   "outputs": [],
   "source": [
    "kwargs = dict(\n",
    "    panel=\"CSi\",\n",
    "    orientation={\"slope\": 30.0, \"azimuth\": 180.0},\n",
    "    matrix=capacity_matrix,\n",
    "    index=shape.index,\n",
    ")\n",
    "\n",
    "pv_h = cutout.pv(tracking=\"horizontal\", **kwargs)\n",
    "\n",
    "pv_v = cutout.pv(tracking=\"vertical\", **kwargs)\n",
    "\n",
    "pv_d = cutout.pv(tracking=\"vertical\", **kwargs)"
   ]
  },
  {
   "cell_type": "code",
   "execution_count": null,
   "metadata": {
    "tags": [
     "hide-cell"
    ]
   },
   "outputs": [],
   "source": [
    "day = \"2013-01-31\"\n",
    "fig, ax = plt.subplots()\n",
    "pv.loc[day].plot(ax=ax, label=\"fixed\")\n",
    "pv_v.loc[day].plot(ax=ax, label=\"vertical\")\n",
    "pv_h.loc[day].plot(ax=ax, label=\"horizontal\")\n",
    "pv_d.loc[day].plot(ax=ax, label=\"dual\")\n",
    "plt.legend()"
   ]
  },
  {
   "cell_type": "markdown",
   "metadata": {},
   "source": []
  }
 ],
 "metadata": {
  "kernelspec": {
   "display_name": "",
   "language": "python",
   "name": ""
  },
  "language_info": {
   "codemirror_mode": {
    "name": "ipython",
    "version": 3
   },
   "file_extension": ".py",
   "mimetype": "text/x-python",
   "name": "python",
   "nbconvert_exporter": "python",
   "pygments_lexer": "ipython3",
   "version": "3.11.4"
  }
 },
 "nbformat": 4,
 "nbformat_minor": 4
}

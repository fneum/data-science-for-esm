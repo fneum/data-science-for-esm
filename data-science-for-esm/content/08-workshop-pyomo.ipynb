{
 "cells": [
  {
   "cell_type": "markdown",
   "metadata": {},
   "source": [
    "# Introduction to `pyomo`"
   ]
  },
  {
   "cell_type": "markdown",
   "metadata": {},
   "source": [
    ":::{note}\n",
    "This material is in part adapted from the following resources:\n",
    "- [ND Pyomo Cookbook](https://jckantor.github.io/ND-Pyomo-Cookbook/notebooks/01.00-Getting-Started-with-Pyomo.html)\n",
    "- [Pyomo - Optimization Modeling in Python, Third Edition, Springer, 2021](https://link.springer.com/book/10.1007/978-3-030-68928-5)\n",
    "- [PyPSA simple electricity market examples](https://pypsa.readthedocs.io/en/latest/examples/simple-electricity-market-examples.html)\n",
    ":::\n",
    "\n",
    "<img src=\"https://pyomo.readthedocs.io/en/stable/_images/PyomoNewBlue3.png\" width=\"300px\" />\n",
    "\n",
    "[Pyomo](https://pyomo.org) is an open-source framework for formulating, solving and analysing optimisation problems with Python.\n",
    "\n",
    "One can embed within Python an optimization model consisting of **decision variables**, **constraints**, and an optimisation **objective**, and solve these instances using commercial and open-source solvers (specialised software).\n",
    "\n",
    "[Pyomo](https://pyomo.org) supports a wide range of problem types, including:\n",
    "\n",
    "- **Linear programming**\n",
    "- Quadratic programming\n",
    "- Nonlinear programming\n",
    "- Mixed-integer linear programming\n",
    "- Mixed-integer quadratic programming\n",
    "- Mixed-integer nonlinear programming\n",
    "- Stochastic programming\n",
    "- Generalized disjunctive programming\n",
    "- Differential algebraic equations\n",
    "- Bilevel programming\n",
    "- Mathematical programs with equilibrium constraints\n",
    "\n",
    "\n",
    ":::{note}\n",
    "Documentation for this package is available at http://www.pyomo.org/.\n",
    ":::"
   ]
  },
  {
   "cell_type": "markdown",
   "metadata": {},
   "source": [
    ":::{note}\n",
    "If you have not yet set up Python on your computer, you can execute this tutorial in your browser via [Google Colab](https://colab.research.google.com/). Click on the rocket in the top right corner and launch \"Colab\". If that doesn't work download the `.ipynb` file and import it in [Google Colab](https://colab.research.google.com/).\n",
    "\n",
    "Then install the following packages by executing the following command in a Jupyter cell at the top of the notebook.\n",
    "\n",
    "```sh\n",
    "!pip install pandas pyomo highspy\n",
    "```\n",
    ":::"
   ]
  },
  {
   "cell_type": "markdown",
   "metadata": {},
   "source": [
    "## Basic Components"
   ]
  },
  {
   "cell_type": "markdown",
   "metadata": {},
   "source": [
    "Almost all Pyomo objects exist within the `pyomo.environ` namespace:"
   ]
  },
  {
   "cell_type": "code",
   "execution_count": null,
   "metadata": {},
   "outputs": [],
   "source": [
    "import pyomo.environ as pe"
   ]
  },
  {
   "cell_type": "markdown",
   "metadata": {},
   "source": [
    "A model instance is created by calling the `pe.ConcreteModel()` constructor and and assigninig it to a local variable. It's good practice to choose a short variable name to reduce the verbosity of the code."
   ]
  },
  {
   "cell_type": "code",
   "execution_count": null,
   "metadata": {},
   "outputs": [],
   "source": [
    "m = pe.ConcreteModel()"
   ]
  },
  {
   "cell_type": "code",
   "execution_count": null,
   "metadata": {},
   "outputs": [],
   "source": [
    "type(m)"
   ]
  },
  {
   "cell_type": "markdown",
   "metadata": {},
   "source": [
    ":::{note}\n",
    "Pyomo distinguishes between *concrete* and *abstract* models. The difference is that *concrete* models have real-valued input parameters in the building stage, whereas *abstract* models are initially build with placeholders for the input parameters.\n",
    ":::"
   ]
  },
  {
   "cell_type": "markdown",
   "metadata": {},
   "source": [
    "### Decision Variables"
   ]
  },
  {
   "cell_type": "markdown",
   "metadata": {},
   "source": [
    "**Variables** are the unknowns of an optimisation problems and are intended to be given values by solving an optimisation problem.\n",
    "\n",
    "In `pyomo`, decision variables are created with the `pe.Var()` constructor.\n",
    "\n",
    "In the code below, we create two decision variables:\n",
    "\n",
    "$$x, y \\in \\mathbb{R}^+$$\n",
    "\n",
    "- The name you assign the object to (e.g. `m.x`) must be unique in any given model.\n",
    "- The `pe.Var()` constructor can take a variety of keyword arguments.\n",
    "- For instance, `within=...` would set the variable domain.\n",
    "- There are several pre-defined domains, like `pe.NonNegativeReals`.\n",
    "- But you can also manually define the `bounds=...` with a tuple representing lower and upper bounds."
   ]
  },
  {
   "cell_type": "code",
   "execution_count": null,
   "metadata": {},
   "outputs": [],
   "source": [
    "m.x = pe.Var(within=pe.NonNegativeReals)"
   ]
  },
  {
   "cell_type": "code",
   "execution_count": null,
   "metadata": {},
   "outputs": [],
   "source": [
    "m.y = pe.Var(bounds=(0, None))"
   ]
  },
  {
   "cell_type": "markdown",
   "metadata": {},
   "source": [
    "### Objectives"
   ]
  },
  {
   "cell_type": "markdown",
   "metadata": {},
   "source": [
    "An **objective** is a function of variables that returns a value that an optimization package attempts to maximize or minimize.\n",
    "\n",
    "In `pyomo`, objectives are created with the `pe.Objective()` constructor.\n",
    "\n",
    "In the code below, we create a simple objective function:\n",
    "\n",
    "$$\\max_{x,y} 4x + 3y$$\n",
    "\n",
    "- Like for variables, the object returned by `pe.Objective()` is assigned to the model under a unique name.\n",
    "- The keyword argument `expr=...` can be a mathematical expression or a function that returns an expression.\n",
    "- The keyword argument `sense=...` determines whether the objective should be maximised or minimised. You can conveniently access the optimisation sense through `pe.minimize` and `pe.maximize`. The default is `pe.minimise`."
   ]
  },
  {
   "cell_type": "code",
   "execution_count": null,
   "metadata": {},
   "outputs": [],
   "source": [
    "m.obj = pe.Objective(expr=4 * m.x + 3 * m.y, sense=pe.maximize)"
   ]
  },
  {
   "cell_type": "markdown",
   "metadata": {},
   "source": [
    "You can inspect almost all `pyomo` components with the `.pprint()` function:"
   ]
  },
  {
   "cell_type": "code",
   "execution_count": null,
   "metadata": {},
   "outputs": [],
   "source": [
    "m.obj.pprint()"
   ]
  },
  {
   "cell_type": "markdown",
   "metadata": {},
   "source": [
    "### Constraints"
   ]
  },
  {
   "cell_type": "markdown",
   "metadata": {},
   "source": [
    "**Constraints** are equality or inequality expressions that constrain the *feasible* space of the decision variables.\n",
    "\n",
    "In `pyomo`, constraints are created with the `pe.Constraint()` constructor.\n",
    "\n",
    "In the code below, we create three simple constraints in different ways:\n",
    "\n",
    "\\begin{align}\n",
    "  x & \\leq 4 \\\\\n",
    "  2x + y & \\leq 10 \\\\\n",
    "  x + y & \\leq 10 \\\\\n",
    "\\end{align}\n",
    "\n",
    "- Again, the object return by `pe.Constraint()` is assigned to the model under a unique name.\n",
    "- Like for objectives, constraints take a mathematical expression under `expr=...`.\n",
    "- Expressions can also be represented by a 3-tuple consisting of lower bound, body, upper bound."
   ]
  },
  {
   "cell_type": "code",
   "execution_count": null,
   "metadata": {},
   "outputs": [],
   "source": [
    "m.c1 = pe.Constraint(expr=m.x <= 4)"
   ]
  },
  {
   "cell_type": "code",
   "execution_count": null,
   "metadata": {},
   "outputs": [],
   "source": [
    "m.c2 = pe.Constraint(expr=2 * m.x + m.y <= 10)"
   ]
  },
  {
   "cell_type": "code",
   "execution_count": null,
   "metadata": {},
   "outputs": [],
   "source": [
    "m.c3 = pe.Constraint(expr=(None, m.x + m.y, 10))"
   ]
  },
  {
   "cell_type": "markdown",
   "metadata": {},
   "source": [
    "We can also call `.pprint()` on the whole model `m` to get a full representation of the optimisation problem built:"
   ]
  },
  {
   "cell_type": "code",
   "execution_count": null,
   "metadata": {},
   "outputs": [],
   "source": [
    "m.pprint()"
   ]
  },
  {
   "cell_type": "markdown",
   "metadata": {},
   "source": [
    "## Solving optimisation problems"
   ]
  },
  {
   "cell_type": "markdown",
   "metadata": {},
   "source": [
    "### Solver installation"
   ]
  },
  {
   "cell_type": "markdown",
   "metadata": {},
   "source": [
    "Solvers are needed to compute solutions to the optimization models developed using Pyomo.\n",
    "\n",
    "There exists a large variety of solvers. In many cases, they specialise in certain problem types or solving algorithms, e.g. linear or nonlinear problems.\n",
    "\n",
    "- **open-source examples**: [CBC](https://www.coin-or.org/Cbc/), [GLPK](https://www.gnu.org/software/glpk/), [Ipopt](https://coin-or.github.io/Ipopt/), [HiGHS](https://highs.dev)\n",
    "- **commercial examples**: [Gurobi](https://www.gurobi.com/), [CPLEX](https://www.ibm.com/de-de/analytics/cplex-optimizer), [FICO Xpress](https://www.fico.com/en/products/fico-xpress-optimization)\n",
    "\n",
    "The open-source solvers are sufficient to handle meaningful Pyomo models with hundreds to several thousand variables and constraints. However, as applications get large or more complex, there may be a need to turn to a commercial solvers (which often provide free academic licenses).\n",
    "\n",
    "Pyomo has support for a wide variety of solvers, but they need to be installed separately!\n",
    "\n",
    "For this course, we use HiGHS, which can be installed easily via `pip` and is already in the course environment:\n",
    "\n",
    "```sh\n",
    "pip install highspy\n",
    "```\n",
    "\n",
    "If you want to try the other solvers, follow the links to their documentation for installation instructions."
   ]
  },
  {
   "cell_type": "markdown",
   "metadata": {},
   "source": [
    "The open-source solvers are sufficient to handle meaningful Pyomo models with hundreds to several thousand variables and constraints. However, as applications get large or more complex, there may be a need to turn to a commercial solvers (with free academic licenses)."
   ]
  },
  {
   "cell_type": "markdown",
   "metadata": {},
   "source": [
    ":::{note}\n",
    "For most solvers, it is possible to pass additional parameters before running the solver to configure things like solver tolerances, number of threads, type of solving algorithm (e.g. barrier or simplex). Read more about it in the [Pyomo Documentation](https://pyomo.readthedocs.io/en/stable/working_models.html#sending-options-to-the-solver).\n",
    ":::"
   ]
  },
  {
   "cell_type": "markdown",
   "metadata": {},
   "source": [
    "### Calling solvers from `pyomo`"
   ]
  },
  {
   "cell_type": "markdown",
   "metadata": {},
   "source": [
    "First, we create an instance of a solver (aka optimiser):"
   ]
  },
  {
   "cell_type": "code",
   "execution_count": null,
   "metadata": {},
   "outputs": [],
   "source": [
    "opt = pe.SolverFactory(\"appsi_highs\")  # try also 'cbc', 'glpk', 'gurobi'"
   ]
  },
  {
   "cell_type": "markdown",
   "metadata": {},
   "source": [
    "We can tell this optimiser to solve the model `m`:"
   ]
  },
  {
   "cell_type": "code",
   "execution_count": null,
   "metadata": {},
   "outputs": [],
   "source": [
    "log = opt.solve(m, tee=True)"
   ]
  },
  {
   "cell_type": "markdown",
   "metadata": {},
   "source": [
    "The keyword argument `tee=True` is optional causes a more verbose display of solver log outputs."
   ]
  },
  {
   "cell_type": "markdown",
   "metadata": {},
   "source": [
    "And then display the solver outputs:"
   ]
  },
  {
   "cell_type": "code",
   "execution_count": null,
   "metadata": {},
   "outputs": [],
   "source": [
    "log.write()"
   ]
  },
  {
   "cell_type": "markdown",
   "metadata": {},
   "source": [
    "While we can read from the message above that our problem was solved successfully, we can also formally check by accessing the reported status and comparing it to a pre-defined range of status codes provided in `pe.SolverStatus`:"
   ]
  },
  {
   "cell_type": "code",
   "execution_count": null,
   "metadata": {},
   "outputs": [],
   "source": [
    "assert log.solver.status == pe.SolverStatus.ok"
   ]
  },
  {
   "cell_type": "markdown",
   "metadata": {},
   "source": [
    "Other states of solved optimisation models are:"
   ]
  },
  {
   "cell_type": "code",
   "execution_count": null,
   "metadata": {},
   "outputs": [],
   "source": [
    "pe.SolverStatus._member_names_"
   ]
  },
  {
   "cell_type": "markdown",
   "metadata": {},
   "source": [
    "## Retrieving optimisation results"
   ]
  },
  {
   "cell_type": "markdown",
   "metadata": {},
   "source": [
    "### Primal Values"
   ]
  },
  {
   "cell_type": "markdown",
   "metadata": {},
   "source": [
    "Objective value:"
   ]
  },
  {
   "cell_type": "code",
   "execution_count": null,
   "metadata": {},
   "outputs": [],
   "source": [
    "m.obj()"
   ]
  },
  {
   "cell_type": "markdown",
   "metadata": {},
   "source": [
    "Decision variables"
   ]
  },
  {
   "cell_type": "code",
   "execution_count": null,
   "metadata": {},
   "outputs": [],
   "source": [
    "m.x()"
   ]
  },
  {
   "cell_type": "code",
   "execution_count": null,
   "metadata": {},
   "outputs": [],
   "source": [
    "m.y()"
   ]
  },
  {
   "cell_type": "markdown",
   "metadata": {},
   "source": [
    "### Dual values (aka shadow prices)"
   ]
  },
  {
   "cell_type": "markdown",
   "metadata": {},
   "source": [
    "Access to dual values in scripts is similar to accessing primal variable values, except that dual values are not captured by default so additional directives are needed **before** optimization to signal that duals are desired.\n",
    "\n",
    "To signal that duals are desired, declare a **Suffix** (another `pyomo` component) with the name \"dual\" on the model."
   ]
  },
  {
   "cell_type": "code",
   "execution_count": null,
   "metadata": {},
   "outputs": [],
   "source": [
    "m.dual = pe.Suffix(direction=pe.Suffix.IMPORT)"
   ]
  },
  {
   "cell_type": "markdown",
   "metadata": {},
   "source": [
    "Resolve:"
   ]
  },
  {
   "cell_type": "code",
   "execution_count": null,
   "metadata": {},
   "outputs": [],
   "source": [
    "pe.SolverFactory(\"appsi_highs\").solve(m).write()"
   ]
  },
  {
   "cell_type": "markdown",
   "metadata": {},
   "source": [
    "Then, we can access the shadow prices of individual constraints:"
   ]
  },
  {
   "cell_type": "code",
   "execution_count": null,
   "metadata": {},
   "outputs": [],
   "source": [
    "m.dual[m.c1]"
   ]
  },
  {
   "cell_type": "code",
   "execution_count": null,
   "metadata": {},
   "outputs": [],
   "source": [
    "m.dual[m.c2]"
   ]
  },
  {
   "cell_type": "markdown",
   "metadata": {
    "tags": []
   },
   "source": [
    "## Indexed Components and Sets"
   ]
  },
  {
   "cell_type": "markdown",
   "metadata": {},
   "source": [
    "Let's first create a fresh model instance:"
   ]
  },
  {
   "cell_type": "code",
   "execution_count": null,
   "metadata": {},
   "outputs": [],
   "source": [
    "m = pe.ConcreteModel()"
   ]
  },
  {
   "cell_type": "markdown",
   "metadata": {},
   "source": [
    "Almost all Pyomo components can be indexed.\n",
    "\n",
    "While constructing them, all non-keyword arguments are assumed to represent indices.\n",
    "\n",
    "The indices can be any iterable object.\n",
    "\n",
    "### Sets and Range Sets\n",
    "\n",
    "In many cases, it will be useful to make use of another basic `pyomo` component: the **set**, which is constructed by `pe.Set()` or `pe.RangeSet()`. These objects are handled very similarly to variables, constraints and objectives."
   ]
  },
  {
   "cell_type": "markdown",
   "metadata": {},
   "source": [
    "The `pe.RangeSet` will create a numbered index, starting from the value 1."
   ]
  },
  {
   "cell_type": "code",
   "execution_count": null,
   "metadata": {},
   "outputs": [],
   "source": [
    "m.A = pe.RangeSet(2)"
   ]
  },
  {
   "cell_type": "code",
   "execution_count": null,
   "metadata": {},
   "outputs": [],
   "source": [
    "m.A.pprint()"
   ]
  },
  {
   "cell_type": "markdown",
   "metadata": {},
   "source": [
    "With `pe.Set()` we can also pass more general indices:"
   ]
  },
  {
   "cell_type": "code",
   "execution_count": null,
   "metadata": {},
   "outputs": [],
   "source": [
    "B = [\"wind\", \"solar\"]\n",
    "m.B = pe.Set(initialize=B)"
   ]
  },
  {
   "cell_type": "code",
   "execution_count": null,
   "metadata": {},
   "outputs": [],
   "source": [
    "m.B.pprint()"
   ]
  },
  {
   "cell_type": "markdown",
   "metadata": {},
   "source": [
    "### Indexed Variables"
   ]
  },
  {
   "cell_type": "markdown",
   "metadata": {},
   "source": [
    "We can then use these sets to create `pyomo` components, like variables:"
   ]
  },
  {
   "cell_type": "code",
   "execution_count": null,
   "metadata": {},
   "outputs": [],
   "source": [
    "m.x = pe.Var(m.A)"
   ]
  },
  {
   "cell_type": "code",
   "execution_count": null,
   "metadata": {},
   "outputs": [],
   "source": [
    "m.x.pprint()"
   ]
  },
  {
   "cell_type": "markdown",
   "metadata": {},
   "source": [
    "There are no restrictions as to how many dimensions an indexed variable can have:"
   ]
  },
  {
   "cell_type": "code",
   "execution_count": null,
   "metadata": {},
   "outputs": [],
   "source": [
    "m.y = pe.Var(m.A, m.B)"
   ]
  },
  {
   "cell_type": "code",
   "execution_count": null,
   "metadata": {},
   "outputs": [],
   "source": [
    "m.y.pprint()"
   ]
  },
  {
   "cell_type": "markdown",
   "metadata": {},
   "source": [
    "It is not strictly necessary to use *set* objects to create indexed variables. We can use any iterable object."
   ]
  },
  {
   "cell_type": "code",
   "execution_count": null,
   "metadata": {},
   "outputs": [],
   "source": [
    "m.z = pe.Var(B)"
   ]
  },
  {
   "cell_type": "markdown",
   "metadata": {},
   "source": [
    "### List comprehension on indexed variables"
   ]
  },
  {
   "cell_type": "markdown",
   "metadata": {},
   "source": [
    "List comprehensions are quite useful to process indexed variables in a compact format:"
   ]
  },
  {
   "cell_type": "code",
   "execution_count": null,
   "metadata": {},
   "outputs": [],
   "source": [
    "m.c1 = pe.Constraint(expr=sum(m.z[b] for b in m.B) <= 10)"
   ]
  },
  {
   "cell_type": "code",
   "execution_count": null,
   "metadata": {},
   "outputs": [],
   "source": [
    "m.c1.pprint()"
   ]
  },
  {
   "cell_type": "markdown",
   "metadata": {},
   "source": [
    "### Indexed Constraints"
   ]
  },
  {
   "cell_type": "markdown",
   "metadata": {},
   "source": [
    "Pyomo used the concept of *construction rules* to specify indexed constraints, rather than `expr=...`.\n",
    "\n",
    "When building indexed constraints, particular indices are passed as argument to a rule (function) that returns an expression for each index."
   ]
  },
  {
   "cell_type": "code",
   "execution_count": null,
   "metadata": {},
   "outputs": [],
   "source": [
    "def construction_rule(m, a):\n",
    "    return sum(m.y[a, b] for b in m.B) == 1"
   ]
  },
  {
   "cell_type": "code",
   "execution_count": null,
   "metadata": {},
   "outputs": [],
   "source": [
    "m.c2 = pe.Constraint(m.A, rule=construction_rule)"
   ]
  },
  {
   "cell_type": "code",
   "execution_count": null,
   "metadata": {},
   "outputs": [],
   "source": [
    "m.c2.pprint()"
   ]
  },
  {
   "cell_type": "markdown",
   "metadata": {},
   "source": [
    "You can access individual constraints of a set of indexed constraints like this:"
   ]
  },
  {
   "cell_type": "code",
   "execution_count": null,
   "metadata": {},
   "outputs": [],
   "source": [
    "m.c2[2].pprint()"
   ]
  },
  {
   "cell_type": "markdown",
   "metadata": {},
   "source": [
    "It is also possible to use an alternative decorator notation to reduce redundancy in rule definitions."
   ]
  },
  {
   "cell_type": "code",
   "execution_count": null,
   "metadata": {},
   "outputs": [],
   "source": [
    "@m.Constraint(m.A)\n",
    "def c3(m, a):\n",
    "    return sum(m.y[a, b] for b in B) >= 1"
   ]
  },
  {
   "cell_type": "markdown",
   "metadata": {},
   "source": [
    "## Electricity Market Examples"
   ]
  },
  {
   "cell_type": "markdown",
   "metadata": {},
   "source": [
    "### Single bidding zone, single period"
   ]
  },
  {
   "cell_type": "markdown",
   "metadata": {},
   "source": [
    "We want to minimise operational cost of an example electricity system representing South Africa subject to generator limits and meeting the load:\n",
    "\n",
    "\\begin{equation}\n",
    "    \\min_{g_s} \\sum_s o_s g_s\n",
    "  \\end{equation}\n",
    "  such that\n",
    "  \\begin{align}\n",
    "    g_s &\\leq G_s \\\\\n",
    "    g_s &\\geq 0 \\\\\n",
    "    \\sum_s g_s &= d\n",
    "  \\end{align}"
   ]
  },
  {
   "cell_type": "markdown",
   "metadata": {},
   "source": [
    "We are given the following information on the South African electricity system:"
   ]
  },
  {
   "cell_type": "markdown",
   "metadata": {},
   "source": [
    "Marginal costs in EUR/MWh"
   ]
  },
  {
   "cell_type": "code",
   "execution_count": null,
   "metadata": {},
   "outputs": [],
   "source": [
    "marginal_costs = {\n",
    "    \"Wind\": 0,\n",
    "    \"Coal\": 30,\n",
    "    \"Gas\": 60,\n",
    "    \"Oil\": 80,\n",
    "}"
   ]
  },
  {
   "cell_type": "markdown",
   "metadata": {},
   "source": [
    "Power plant capacities in MW"
   ]
  },
  {
   "cell_type": "code",
   "execution_count": null,
   "metadata": {},
   "outputs": [],
   "source": [
    "capacities = {\"Coal\": 35000, \"Wind\": 3000, \"Gas\": 8000, \"Oil\": 2000}"
   ]
  },
  {
   "cell_type": "markdown",
   "metadata": {},
   "source": [
    "Inelastic demand in MW"
   ]
  },
  {
   "cell_type": "code",
   "execution_count": null,
   "metadata": {},
   "outputs": [],
   "source": [
    "load = 42000"
   ]
  },
  {
   "cell_type": "markdown",
   "metadata": {},
   "source": [
    "First step is to initialise a new model, and since we want to know about the shadow prices, we additionally pass the respective Suffix."
   ]
  },
  {
   "cell_type": "code",
   "execution_count": null,
   "metadata": {},
   "outputs": [],
   "source": [
    "m = pe.ConcreteModel()\n",
    "m.dual = pe.Suffix(direction=pe.Suffix.IMPORT)"
   ]
  },
  {
   "cell_type": "markdown",
   "metadata": {},
   "source": [
    "We create a set $S$ for the technologies:"
   ]
  },
  {
   "cell_type": "code",
   "execution_count": null,
   "metadata": {},
   "outputs": [],
   "source": [
    "m.S = pe.Set(initialize=capacities.keys())"
   ]
  },
  {
   "cell_type": "markdown",
   "metadata": {},
   "source": [
    "And the decision variables for the generator dispatch:"
   ]
  },
  {
   "cell_type": "code",
   "execution_count": null,
   "metadata": {},
   "outputs": [],
   "source": [
    "m.g = pe.Var(m.S, within=pe.NonNegativeReals)"
   ]
  },
  {
   "cell_type": "markdown",
   "metadata": {},
   "source": [
    "Our objective is to minimise total operational costs:"
   ]
  },
  {
   "cell_type": "code",
   "execution_count": null,
   "metadata": {},
   "outputs": [],
   "source": [
    "m.cost = pe.Objective(expr=sum(marginal_costs[s] * m.g[s] for s in m.S))"
   ]
  },
  {
   "cell_type": "code",
   "execution_count": null,
   "metadata": {},
   "outputs": [],
   "source": [
    "m.cost.pprint()"
   ]
  },
  {
   "cell_type": "markdown",
   "metadata": {},
   "source": [
    "subject to the capacity limits of the generators"
   ]
  },
  {
   "cell_type": "code",
   "execution_count": null,
   "metadata": {},
   "outputs": [],
   "source": [
    "@m.Constraint(m.S)\n",
    "def generator_limit(m, s):\n",
    "    return m.g[s] <= capacities[s]"
   ]
  },
  {
   "cell_type": "code",
   "execution_count": null,
   "metadata": {},
   "outputs": [],
   "source": [
    "m.generator_limit.pprint()"
   ]
  },
  {
   "cell_type": "markdown",
   "metadata": {},
   "source": [
    "and meeting energy demand"
   ]
  },
  {
   "cell_type": "code",
   "execution_count": null,
   "metadata": {},
   "outputs": [],
   "source": [
    "m.energy_balance = pe.Constraint(expr=sum(m.g[s] for s in m.S) == load)"
   ]
  },
  {
   "cell_type": "code",
   "execution_count": null,
   "metadata": {},
   "outputs": [],
   "source": [
    "m.energy_balance.pprint()"
   ]
  },
  {
   "cell_type": "markdown",
   "metadata": {},
   "source": [
    "Then, we solve the problem:"
   ]
  },
  {
   "cell_type": "code",
   "execution_count": null,
   "metadata": {},
   "outputs": [],
   "source": [
    "pe.SolverFactory(\"appsi_highs\").solve(m).write()"
   ]
  },
  {
   "cell_type": "markdown",
   "metadata": {},
   "source": [
    "Hopefully, the optimisation was successful (check!).\n",
    "\n",
    "We can use `pandas` to retrieve and process the optimisation results."
   ]
  },
  {
   "cell_type": "code",
   "execution_count": null,
   "metadata": {},
   "outputs": [],
   "source": [
    "import pandas as pd"
   ]
  },
  {
   "cell_type": "markdown",
   "metadata": {},
   "source": [
    "This is the optimal generator dispatch (in MW):"
   ]
  },
  {
   "cell_type": "code",
   "execution_count": null,
   "metadata": {},
   "outputs": [],
   "source": [
    "pd.Series(m.g.get_values())"
   ]
  },
  {
   "cell_type": "markdown",
   "metadata": {},
   "source": [
    "And the market clearing price we can read from the shadow price of the energy balance constraint (i.e. the added cost of increasing electricity demand by one unit):"
   ]
  },
  {
   "cell_type": "code",
   "execution_count": null,
   "metadata": {},
   "outputs": [],
   "source": [
    "market_price = m.dual[m.energy_balance]\n",
    "market_price"
   ]
  },
  {
   "cell_type": "markdown",
   "metadata": {},
   "source": [
    "There are further interesting shadow prices. The dual values of the generator limits tell us by how much the objective would be reduced if the capacity of the respective generator would be increased. It is either zero (cf. complementary slackness) for the generators for which their capacity limit is not binding (i.e. oil and gas), or, if the constraint is binding, it denotes the difference between the market clearing price and the marginal cost of the respective generator."
   ]
  },
  {
   "cell_type": "markdown",
   "metadata": {},
   "source": [
    "Retrieve all shadow prices at once:"
   ]
  },
  {
   "cell_type": "code",
   "execution_count": null,
   "metadata": {},
   "outputs": [],
   "source": [
    "pd.Series(m.dual.values(), m.dual.keys())"
   ]
  },
  {
   "cell_type": "markdown",
   "metadata": {},
   "source": [
    "A more targeted alternative for the generator limits:"
   ]
  },
  {
   "cell_type": "code",
   "execution_count": null,
   "metadata": {},
   "outputs": [],
   "source": [
    "pd.Series({s: m.dual[m.generator_limit[s]] for s in m.S})"
   ]
  },
  {
   "cell_type": "markdown",
   "metadata": {},
   "source": [
    "### Two bidding zones with transmission"
   ]
  },
  {
   "cell_type": "markdown",
   "metadata": {},
   "source": [
    "Let's add a spatial dimension, such that the optimisation problem is expanded to\n",
    "\\begin{equation}\n",
    "  \\min_{g_{i,s}, f_\\ell} \\sum_s o_{i,s} g_{i,s}\n",
    "\\end{equation}\n",
    "such that\n",
    "\\begin{align}\n",
    "  g_{i,s} &\\leq G_{i,s} \\\\\n",
    "  g_{i,s} &\\geq 0 \\\\\n",
    "  \\sum_s g_{i,s} - \\sum_\\ell K_{i\\ell} f_\\ell &= d_i & \\text{KCL} \\\\\n",
    "  |f_\\ell| &\\leq F_\\ell & \\text{line limits}  \\\\\n",
    "  \\sum_\\ell C_{\\ell c} x_\\ell f_\\ell &= 0 & \\text{KVL} \n",
    "\\end{align}\n",
    "\n",
    "In this example, we connect the previous South African electricity system with a hydro generation unit in Mozambique through a single transmission line. Note that because a single transmission line will not result in any cycles, we can neglect KVL in this case.\n",
    "\n",
    "We are given the following data (all in MW):"
   ]
  },
  {
   "cell_type": "code",
   "execution_count": null,
   "metadata": {},
   "outputs": [],
   "source": [
    "capacities = {\n",
    "    \"South Africa\": {\"Coal\": 35000, \"Wind\": 3000, \"Gas\": 8000, \"Oil\": 2000},\n",
    "    \"Mozambique\": {\"Hydro\": 1200},\n",
    "}"
   ]
  },
  {
   "cell_type": "code",
   "execution_count": null,
   "metadata": {},
   "outputs": [],
   "source": [
    "transmission = 500"
   ]
  },
  {
   "cell_type": "code",
   "execution_count": null,
   "metadata": {},
   "outputs": [],
   "source": [
    "loads = {\"South Africa\": 42000, \"Mozambique\": 650}"
   ]
  },
  {
   "cell_type": "code",
   "execution_count": null,
   "metadata": {},
   "outputs": [],
   "source": [
    "marginal_costs[\"Hydro\"] = 0  # MWh"
   ]
  },
  {
   "cell_type": "markdown",
   "metadata": {},
   "source": [
    "First, let's create a new model instance:"
   ]
  },
  {
   "cell_type": "code",
   "execution_count": null,
   "metadata": {},
   "outputs": [],
   "source": [
    "m = pe.ConcreteModel()\n",
    "m.dual = pe.Suffix(direction=pe.Suffix.IMPORT)"
   ]
  },
  {
   "cell_type": "markdown",
   "metadata": {},
   "source": [
    "We now have two sets: one for the countries, one for the technologies, based on which we can create the generator dispatch variables."
   ]
  },
  {
   "cell_type": "code",
   "execution_count": null,
   "metadata": {},
   "outputs": [],
   "source": [
    "m.countries = pe.Set(initialize=loads.keys())"
   ]
  },
  {
   "cell_type": "code",
   "execution_count": null,
   "metadata": {},
   "outputs": [],
   "source": [
    "technologies = list(capacities[\"South Africa\"].keys() | capacities[\"Mozambique\"])"
   ]
  },
  {
   "cell_type": "code",
   "execution_count": null,
   "metadata": {},
   "outputs": [],
   "source": [
    "m.technologies = pe.Set(initialize=technologies)"
   ]
  },
  {
   "cell_type": "code",
   "execution_count": null,
   "metadata": {},
   "outputs": [],
   "source": [
    "m.g = pe.Var(m.countries, m.technologies, within=pe.NonNegativeReals)"
   ]
  },
  {
   "cell_type": "markdown",
   "metadata": {},
   "source": [
    ":::{note}\n",
    "Note that we could have been more efficient by only creating variables for the combinations of country and technology that do exist, rather than creating variables for all combinations.\n",
    ":::"
   ]
  },
  {
   "cell_type": "markdown",
   "metadata": {},
   "source": [
    "We als need an additional variable for the flow."
   ]
  },
  {
   "cell_type": "code",
   "execution_count": null,
   "metadata": {},
   "outputs": [],
   "source": [
    "m.f = pe.Var()"
   ]
  },
  {
   "cell_type": "markdown",
   "metadata": {},
   "source": [
    "The objective remains unchanged:"
   ]
  },
  {
   "cell_type": "code",
   "execution_count": null,
   "metadata": {},
   "outputs": [],
   "source": [
    "m.cost = pe.Objective(\n",
    "    expr=sum(marginal_costs[s] * m.g[c, s] for s in m.technologies for c in m.countries)\n",
    ")"
   ]
  },
  {
   "cell_type": "markdown",
   "metadata": {},
   "source": [
    "Generator limits also remain quite similar albeit for the additional index.\n",
    "For missing entries, we set the upper limit to zero (e.g. this country-technology combination can not produce electricity)."
   ]
  },
  {
   "cell_type": "code",
   "execution_count": null,
   "metadata": {},
   "outputs": [],
   "source": [
    "@m.Constraint(m.countries, m.technologies)\n",
    "def generator_limit(m, c, s):\n",
    "    return m.g[c, s] <= capacities[c].get(s, 0)"
   ]
  },
  {
   "cell_type": "code",
   "execution_count": null,
   "metadata": {},
   "outputs": [],
   "source": [
    "m.generator_limit.pprint()"
   ]
  },
  {
   "cell_type": "markdown",
   "metadata": {},
   "source": [
    "The energy balance constraint is replaced by KCL, where we take into account local generation as well as incoming or outgoing flows.\n",
    "\n",
    "We also need the incidence matrix of this network (here it's very simple!) and assume some direction for the flow variable. Here, we picked the orientation from South Africa to Mozambique. This means that if the values for the flow variable `m.f` are positive South Africa exports to Mozambique and vice versa if the variable takes negative values."
   ]
  },
  {
   "cell_type": "code",
   "execution_count": null,
   "metadata": {},
   "outputs": [],
   "source": [
    "@m.Constraint(m.countries)\n",
    "def kcl(m, c):\n",
    "    sign = -1 if c == \"Mozambique\" else 1  # minimal incidence matrix\n",
    "    return sum(m.g[c, s] for s in m.technologies) - sign * m.f == loads[c]"
   ]
  },
  {
   "cell_type": "code",
   "execution_count": null,
   "metadata": {},
   "outputs": [],
   "source": [
    "m.kcl.pprint()"
   ]
  },
  {
   "cell_type": "markdown",
   "metadata": {},
   "source": [
    "We also need to constrain the transmission flows to the line's rated capacity. Here, we use a 3-tuple to specify upper and lower bounds in one go."
   ]
  },
  {
   "cell_type": "code",
   "execution_count": null,
   "metadata": {},
   "outputs": [],
   "source": [
    "m.line_limit = pe.Constraint(expr=(-transmission, m.f, transmission))"
   ]
  },
  {
   "cell_type": "code",
   "execution_count": null,
   "metadata": {},
   "outputs": [],
   "source": [
    "m.line_limit.pprint()"
   ]
  },
  {
   "cell_type": "markdown",
   "metadata": {},
   "source": [
    "Then, we can solve and inspect results:"
   ]
  },
  {
   "cell_type": "code",
   "execution_count": null,
   "metadata": {},
   "outputs": [],
   "source": [
    "pe.SolverFactory(\"appsi_highs\").solve(m).write()"
   ]
  },
  {
   "cell_type": "code",
   "execution_count": null,
   "metadata": {},
   "outputs": [],
   "source": [
    "m.cost()"
   ]
  },
  {
   "cell_type": "code",
   "execution_count": null,
   "metadata": {},
   "outputs": [],
   "source": [
    "pd.Series(m.g.get_values()).unstack()"
   ]
  },
  {
   "cell_type": "code",
   "execution_count": null,
   "metadata": {},
   "outputs": [],
   "source": [
    "m.f()"
   ]
  },
  {
   "cell_type": "code",
   "execution_count": null,
   "metadata": {},
   "outputs": [],
   "source": [
    "pd.Series(m.dual.values(), m.dual.keys())"
   ]
  },
  {
   "cell_type": "markdown",
   "metadata": {},
   "source": [
    "In `pyomo` it is also possible to deactivate (and activate) constraints, and fix variables to a pre-defined value, which alters the results"
   ]
  },
  {
   "cell_type": "code",
   "execution_count": null,
   "metadata": {},
   "outputs": [],
   "source": [
    "m.line_limit.deactivate()\n",
    "m.g[\"South Africa\", \"Coal\"].fix(34000)"
   ]
  },
  {
   "cell_type": "code",
   "execution_count": null,
   "metadata": {},
   "outputs": [],
   "source": [
    "pe.SolverFactory(\"appsi_highs\").solve(m).write()"
   ]
  },
  {
   "cell_type": "code",
   "execution_count": null,
   "metadata": {},
   "outputs": [],
   "source": [
    "pd.Series(m.g.get_values()).unstack()"
   ]
  },
  {
   "cell_type": "code",
   "execution_count": null,
   "metadata": {},
   "outputs": [],
   "source": [
    "m.cost()"
   ]
  },
  {
   "cell_type": "markdown",
   "metadata": {},
   "source": [
    "### Single bidding zone with several periods"
   ]
  },
  {
   "cell_type": "markdown",
   "metadata": {},
   "source": [
    "In this example, we consider multiple time periods (labelled [1,2,3,4]) to represent variable wind generation and changing load."
   ]
  },
  {
   "cell_type": "markdown",
   "metadata": {},
   "source": [
    "  \\begin{equation}\n",
    "    \\min_{g_{s,t}} \\sum_s o_{s} g_{s,t}\n",
    "  \\end{equation}\n",
    "  such that\n",
    "  \\begin{align}\n",
    "    g_{s,t} &\\leq \\hat{g}_{s,t} G_{i,s} \\\\\n",
    "    g_{s,t} &\\geq 0 \\\\\n",
    "    \\sum_s g_{s,t} &= d_t\n",
    "  \\end{align}"
   ]
  },
  {
   "cell_type": "code",
   "execution_count": null,
   "metadata": {},
   "outputs": [],
   "source": [
    "wind_ts = [0.3, 0.6, 0.4, 0.5]\n",
    "load_ts = [42000, 43000, 45000, 46000]"
   ]
  },
  {
   "cell_type": "code",
   "execution_count": null,
   "metadata": {},
   "outputs": [],
   "source": [
    "m = pe.ConcreteModel()\n",
    "m.dual = pe.Suffix(direction=pe.Suffix.IMPORT)"
   ]
  },
  {
   "cell_type": "code",
   "execution_count": null,
   "metadata": {},
   "outputs": [],
   "source": [
    "techs = capacities[\"South Africa\"].keys()\n",
    "\n",
    "m.S = pe.Set(initialize=techs)\n",
    "m.T = pe.RangeSet(4)"
   ]
  },
  {
   "cell_type": "code",
   "execution_count": null,
   "metadata": {},
   "outputs": [],
   "source": [
    "m.g = pe.Var(m.S, m.T, within=pe.NonNegativeReals)"
   ]
  },
  {
   "cell_type": "code",
   "execution_count": null,
   "metadata": {},
   "outputs": [],
   "source": [
    "m.cost = pe.Objective(expr=sum(marginal_costs[s] * m.g[s, t] for s in m.S for t in m.T))"
   ]
  },
  {
   "cell_type": "code",
   "execution_count": null,
   "metadata": {},
   "outputs": [],
   "source": [
    "@m.Constraint(m.S, m.T)\n",
    "def generator_limit(m, s, t):\n",
    "    cf = wind_ts[t - 1] if s == \"Wind\" else 1\n",
    "    return m.g[s, t] <= cf * capacities[\"South Africa\"][s]"
   ]
  },
  {
   "cell_type": "code",
   "execution_count": null,
   "metadata": {},
   "outputs": [],
   "source": [
    "m.generator_limit.pprint()"
   ]
  },
  {
   "cell_type": "code",
   "execution_count": null,
   "metadata": {},
   "outputs": [],
   "source": [
    "@m.Constraint(m.T)\n",
    "def energy_balance(m, t):\n",
    "    return sum(m.g[s, t] for s in m.S) == load_ts[t - 1]"
   ]
  },
  {
   "cell_type": "code",
   "execution_count": null,
   "metadata": {},
   "outputs": [],
   "source": [
    "m.energy_balance.pprint()"
   ]
  },
  {
   "cell_type": "markdown",
   "metadata": {},
   "source": [
    "Now, we can solve. Let's also time how long it takes to solve this problem with a small IPython tool."
   ]
  },
  {
   "cell_type": "code",
   "execution_count": null,
   "metadata": {},
   "outputs": [],
   "source": [
    "%%timeit -n 1 -r 1\n",
    "pe.SolverFactory(\"appsi_highs\").solve(m).write()"
   ]
  },
  {
   "cell_type": "code",
   "execution_count": null,
   "metadata": {},
   "outputs": [],
   "source": [
    "m.cost()"
   ]
  },
  {
   "cell_type": "code",
   "execution_count": null,
   "metadata": {},
   "outputs": [],
   "source": [
    "pd.Series(m.dual.values(), m.dual.keys())"
   ]
  },
  {
   "cell_type": "code",
   "execution_count": null,
   "metadata": {},
   "outputs": [],
   "source": [
    "pd.Series(m.g.get_values()).unstack(0)"
   ]
  },
  {
   "cell_type": "markdown",
   "metadata": {},
   "source": [
    "### Single bidding zone with several periods and storage"
   ]
  },
  {
   "cell_type": "markdown",
   "metadata": {},
   "source": [
    "Now, we want to expand the optimisation model with a storage unit to do price arbitrage to reduce oil consumption.\n",
    "\n",
    "We have been given the following characteristics of the storage:"
   ]
  },
  {
   "cell_type": "code",
   "execution_count": null,
   "metadata": {},
   "outputs": [],
   "source": [
    "storage_energy = 6000  # MWh\n",
    "storage_power = 1000  # MW\n",
    "efficiency = 0.9  # discharge = charge\n",
    "standing_loss = 0.00001  # per hour"
   ]
  },
  {
   "cell_type": "markdown",
   "metadata": {},
   "source": [
    "To model a storage unit, we need three additional variables for the discharging and charging of the storage unit and for its state of charge (energy filling level). We can directly define the bounds of these variables in the variable definition:"
   ]
  },
  {
   "cell_type": "code",
   "execution_count": null,
   "metadata": {},
   "outputs": [],
   "source": [
    "m.discharge = pe.Var(m.T, bounds=(0, storage_power))\n",
    "m.charge = pe.Var(m.T, bounds=(0, storage_power))\n",
    "m.soc = pe.Var(m.T, bounds=(0, storage_energy))"
   ]
  },
  {
   "cell_type": "markdown",
   "metadata": {},
   "source": [
    "Then, we implement the storage consistency equations,\n",
    "\n",
    "$$e_{t} = (1-\\text{standing loss}) \\cdot e_{t-1} + \\eta \\cdot g_{charge, t} - \\frac{1}{\\eta} \\cdot g_{discharge, t}$$\n",
    "\n",
    "For the initial period, we set the state of charge to zero.\n",
    "\n",
    "$$e_{0} = 0$$"
   ]
  },
  {
   "cell_type": "code",
   "execution_count": null,
   "metadata": {},
   "outputs": [],
   "source": [
    "@m.Constraint(m.T)\n",
    "def storage_consistency(m, t):\n",
    "    if t == 1:\n",
    "        return m.soc[t] == 0\n",
    "    return (\n",
    "        m.soc[t]\n",
    "        == (1 - standing_loss) * m.soc[t - 1]\n",
    "        + efficiency * m.charge[t]\n",
    "        - 1 / efficiency * m.discharge[t]\n",
    "    )"
   ]
  },
  {
   "cell_type": "code",
   "execution_count": null,
   "metadata": {},
   "outputs": [],
   "source": [
    "m.storage_consistency.pprint()"
   ]
  },
  {
   "cell_type": "markdown",
   "metadata": {},
   "source": [
    "And we also need to modify the energy balance to include the contributions of storage discharging and charging.\n",
    "\n",
    "For that, we should first remove the existing energy balance constraint, which we seek to overwrite."
   ]
  },
  {
   "cell_type": "code",
   "execution_count": null,
   "metadata": {},
   "outputs": [],
   "source": [
    "m.del_component(m.energy_balance)"
   ]
  },
  {
   "cell_type": "code",
   "execution_count": null,
   "metadata": {},
   "outputs": [],
   "source": [
    "@m.Constraint(m.T)\n",
    "def energy_balance(m, t):\n",
    "    return sum(m.g[s, t] for s in m.S) + m.discharge[t] - m.charge[t] == load_ts[t - 1]"
   ]
  },
  {
   "cell_type": "code",
   "execution_count": null,
   "metadata": {},
   "outputs": [],
   "source": [
    "pe.SolverFactory(\"appsi_highs\").solve(m).write()"
   ]
  },
  {
   "cell_type": "code",
   "execution_count": null,
   "metadata": {},
   "outputs": [],
   "source": [
    "m.cost()"
   ]
  },
  {
   "cell_type": "code",
   "execution_count": null,
   "metadata": {},
   "outputs": [],
   "source": [
    "pd.Series(m.g.get_values()).unstack(0)"
   ]
  },
  {
   "cell_type": "code",
   "execution_count": null,
   "metadata": {},
   "outputs": [],
   "source": [
    "pd.Series(m.charge.get_values())"
   ]
  },
  {
   "cell_type": "code",
   "execution_count": null,
   "metadata": {},
   "outputs": [],
   "source": [
    "pd.Series(m.discharge.get_values())"
   ]
  },
  {
   "cell_type": "code",
   "execution_count": null,
   "metadata": {},
   "outputs": [],
   "source": [
    "pd.Series(m.soc.get_values())"
   ]
  },
  {
   "cell_type": "code",
   "execution_count": null,
   "metadata": {},
   "outputs": [],
   "source": [
    "pd.Series(m.dual.values(), m.dual.keys())"
   ]
  },
  {
   "cell_type": "markdown",
   "metadata": {},
   "source": [
    "### Exercise"
   ]
  },
  {
   "cell_type": "markdown",
   "metadata": {},
   "source": [
    "- Using the conversion efficiencies and specific emissions from the lecture slides, add a constraint that limits the total emissions in the four periods to 50% of the unconstrained optimal solution. How does the optimal objective value and the generator dispatch change?\n",
    "\n",
    "- Reimplement the storage consistency constraint such that the initial state of charge is not zero but corresponds to the state of charge in the final period of the optimisation horizon.\n",
    "\n",
    "- What parameters of the storage unit would have to be changed to reduce the objective? What's the sensitivity?"
   ]
  },
  {
   "cell_type": "code",
   "execution_count": null,
   "metadata": {},
   "outputs": [],
   "source": []
  }
 ],
 "metadata": {
  "kernelspec": {
   "display_name": "",
   "language": "python",
   "name": ""
  },
  "language_info": {
   "codemirror_mode": {
    "name": "ipython",
    "version": 3
   },
   "file_extension": ".py",
   "mimetype": "text/x-python",
   "name": "python",
   "nbconvert_exporter": "python",
   "pygments_lexer": "ipython3",
   "version": "3.11.4"
  }
 },
 "nbformat": 4,
 "nbformat_minor": 4
}

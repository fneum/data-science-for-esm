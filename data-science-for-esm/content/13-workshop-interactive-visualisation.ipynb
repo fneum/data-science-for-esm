{
 "cells": [
  {
   "cell_type": "markdown",
   "metadata": {},
   "source": [
    "# Interactive Visualisation and Dashboards"
   ]
  },
  {
   "cell_type": "markdown",
   "metadata": {},
   "source": [
    ":::{note}\n",
    "If you have not yet set up Python on your computer, you can execute this tutorial in your browser via [Google Colab](https://colab.research.google.com/). Click on the rocket in the top right corner and launch \"Colab\". If that doesn't work download the `.ipynb` file and import it in [Google Colab](https://colab.research.google.com/).\n",
    "\n",
    "Then install the following packages by executing the following command in a Jupyter cell at the top of the notebook.\n",
    "\n",
    "```sh\n",
    "!pip install pypsa atlite pandas geopandas xarray matplotlib hvplot geoviews plotly highspy\n",
    "%env HV_DOC_HTML=true\n",
    "```\n",
    ":::"
   ]
  },
  {
   "cell_type": "code",
   "execution_count": null,
   "metadata": {
    "tags": []
   },
   "outputs": [],
   "source": [
    "import pypsa\n",
    "import atlite\n",
    "import pandas as pd\n",
    "import geopandas as gpd\n",
    "import xarray as xr\n",
    "import matplotlib.pyplot as plt\n",
    "import holoviews as hv\n",
    "\n",
    "plt.style.use(\"bmh\")"
   ]
  },
  {
   "cell_type": "code",
   "execution_count": null,
   "metadata": {
    "editable": true,
    "slideshow": {
     "slide_type": ""
    },
    "tags": [
     "hide-cell"
    ]
   },
   "outputs": [],
   "source": [
    "from urllib.request import urlretrieve\n",
    "from os.path import basename\n",
    "\n",
    "urls = [\n",
    "    \"https://tubcloud.tu-berlin.de/s/2oogpgBfM5n4ssZ/download/PORTUGAL-2013-01-era5.nc\",\n",
    "]\n",
    "for url in urls:\n",
    "    urlretrieve(url, basename(url))"
   ]
  },
  {
   "cell_type": "markdown",
   "metadata": {
    "tags": []
   },
   "source": [
    "## Load Example Data"
   ]
  },
  {
   "cell_type": "markdown",
   "metadata": {
    "editable": true,
    "slideshow": {
     "slide_type": ""
    },
    "tags": []
   },
   "source": [
    "First, let's load a few example datasets you know from previous tutorials."
   ]
  },
  {
   "cell_type": "markdown",
   "metadata": {
    "tags": []
   },
   "source": [
    "A PyPSA network:"
   ]
  },
  {
   "cell_type": "code",
   "execution_count": null,
   "metadata": {
    "editable": true,
    "slideshow": {
     "slide_type": ""
    },
    "tags": []
   },
   "outputs": [],
   "source": [
    "n = pypsa.Network(\n",
    "    \"https://tubcloud.tu-berlin.de/s/kpWaraGc9LeaxLK/download/network-cem.nc\"\n",
    ")"
   ]
  },
  {
   "cell_type": "code",
   "execution_count": null,
   "metadata": {
    "editable": true,
    "slideshow": {
     "slide_type": ""
    },
    "tags": [
     "hide-output"
    ]
   },
   "outputs": [],
   "source": [
    "n.optimize(solver_name=\"highs\");"
   ]
  },
  {
   "cell_type": "markdown",
   "metadata": {},
   "source": [
    "Wind, solar and demand time series:"
   ]
  },
  {
   "cell_type": "code",
   "execution_count": null,
   "metadata": {
    "tags": []
   },
   "outputs": [],
   "source": [
    "url = (\n",
    "    \"https://tubcloud.tu-berlin.de/s/nwCrNLrtL6LAN3W/download/time-series-lecture-2.csv\"\n",
    ")\n",
    "ts = pd.read_csv(url, index_col=0, parse_dates=True)"
   ]
  },
  {
   "cell_type": "markdown",
   "metadata": {},
   "source": [
    "Power plants in Europe"
   ]
  },
  {
   "cell_type": "code",
   "execution_count": null,
   "metadata": {
    "tags": []
   },
   "outputs": [],
   "source": [
    "url = (\n",
    "    \"https://raw.githubusercontent.com/PyPSA/powerplantmatching/master/powerplants.csv\"\n",
    ")\n",
    "ppl = pd.read_csv(url, index_col=0)\n",
    "geometry = gpd.points_from_xy(ppl[\"lon\"], ppl[\"lat\"])\n",
    "ppl = gpd.GeoDataFrame(ppl, geometry=geometry, crs=4326)"
   ]
  },
  {
   "cell_type": "markdown",
   "metadata": {},
   "source": [
    "NUTS2 regions:"
   ]
  },
  {
   "cell_type": "code",
   "execution_count": null,
   "metadata": {
    "tags": []
   },
   "outputs": [],
   "source": [
    "url = \"https://tubcloud.tu-berlin.de/s/RHZJrN8Dnfn26nr/download/NUTS_RG_10M_2021_4326.geojson\"\n",
    "nuts = gpd.read_file(url).set_index(\"id\").query(\"LEVL_CODE == 2\")"
   ]
  },
  {
   "cell_type": "markdown",
   "metadata": {},
   "source": [
    "An `atlite` cutout:"
   ]
  },
  {
   "cell_type": "code",
   "execution_count": null,
   "metadata": {
    "tags": []
   },
   "outputs": [],
   "source": [
    "cutout = atlite.Cutout(\"PORTUGAL-2013-01-era5.nc\")"
   ]
  },
  {
   "cell_type": "markdown",
   "metadata": {},
   "source": [
    "## Limitations of Static Plotting with Matplotlib"
   ]
  },
  {
   "cell_type": "markdown",
   "metadata": {},
   "source": [
    "You will agree that using `matplotlib` for static plotting is great for reports, but that it's lacking some features for interactive visualisation."
   ]
  },
  {
   "cell_type": "code",
   "execution_count": null,
   "metadata": {
    "tags": []
   },
   "outputs": [],
   "source": [
    "ts[\"onwind [pu]\"].plot(figsize=(10, 2))"
   ]
  },
  {
   "cell_type": "markdown",
   "metadata": {},
   "source": [
    "There are many Python-based interactive plotting libraries out there, and it can be [confusing to keep an overview](https://medium.com/mlearning-ai/top-python-libraries-for-data-visualization-static-and-interactive-visualization-e5f1bc72de41). This tutorial introduces you to two of them:\n",
    "\n",
    "- [hvPlot](https://hvplot.holoviz.org/index.html), which is a high-level API mostly for [bokeh](https://docs.bokeh.org/en/latest/) plots that integrates nicely with `pandas`.\n",
    "- [plotly.express](https://plotly.com/python/plotly-express/), which is a high-level API for [plotly](https://plotly.com) plots.\n",
    "\n",
    "These two tools allow you to produce shiny interactive figures with minimal code, however, at the expense of fewer customisation options."
   ]
  },
  {
   "cell_type": "markdown",
   "metadata": {},
   "source": [
    "## hvPlot"
   ]
  },
  {
   "cell_type": "markdown",
   "metadata": {},
   "source": [
    "<img src=\"https://hvplot.holoviz.org/assets/diagram.svg\" width=\"900px\" /> "
   ]
  },
  {
   "cell_type": "markdown",
   "metadata": {},
   "source": [
    "`.hvplot()` is a powerful and interactive Pandas-like `.plot()` API. You just replace `.plot()` with `.hvplot()` and you get an interactive figure. Simple as that.\n",
    "\n",
    "Documentation can be found here: https://hvplot.holoviz.org/index.html"
   ]
  },
  {
   "cell_type": "markdown",
   "metadata": {},
   "source": [
    "To use it, we have to import `hvplot.pandas`, which makes the `.hvplot` accessor available on Pandas DataFrame and Series objects, which means that after that `df.hvplot` becomes a valid statement while before that it would raise an error."
   ]
  },
  {
   "cell_type": "code",
   "execution_count": null,
   "metadata": {
    "tags": []
   },
   "outputs": [],
   "source": [
    "import hvplot.pandas"
   ]
  },
  {
   "cell_type": "markdown",
   "metadata": {},
   "source": [
    "Let's try it by plotting onshore wind time series for the year..."
   ]
  },
  {
   "cell_type": "code",
   "execution_count": null,
   "metadata": {
    "tags": []
   },
   "outputs": [],
   "source": [
    "# for Google Colab add:\n",
    "# hv.extension('bokeh')\n",
    "ts[\"onwind [pu]\"].hvplot(height=200)"
   ]
  },
  {
   "cell_type": "markdown",
   "metadata": {},
   "source": [
    "... or the load time series for February"
   ]
  },
  {
   "cell_type": "code",
   "execution_count": null,
   "metadata": {
    "tags": []
   },
   "outputs": [],
   "source": [
    "# for Google Colab add:\n",
    "# hv.extension('bokeh')\n",
    "ts.loc[\"2015-02\", \"load [GW]\"].hvplot(height=200)"
   ]
  },
  {
   "cell_type": "markdown",
   "metadata": {},
   "source": [
    "We can also plot geographic data with **hvPlot**, for instance, the locations of all hard coal power plants in Europe.\n",
    "\n",
    "The `geo=True` declares that the data will be plotted in a geographic coordinate system.\n",
    "Once **hvPlot** knows that your data is in geo-coordinates, you can use the `tiles` keyword argument to overlay a the plot on top of map tiles.\n",
    "\n",
    ":::{note}\n",
    "For a list of available tiles, look [here](https://holoviews.org/reference/elements/bokeh/Tiles.html).\n",
    ":::"
   ]
  },
  {
   "cell_type": "code",
   "execution_count": null,
   "metadata": {
    "tags": []
   },
   "outputs": [],
   "source": [
    "# for Google Colab add:\n",
    "# hv.extension('bokeh')\n",
    "ppl.query(\"Fueltype == 'Hard Coal'\").hvplot(\n",
    "    geo=True, tiles=True, frame_height=600, frame_width=600\n",
    ")"
   ]
  },
  {
   "cell_type": "markdown",
   "metadata": {},
   "source": [
    "Like in `geopandas`, we can tell **hvPlot** to plot the point sizes and colors according to columns of the `pandas.DataFrame`. We can also change the opacity with `alpha` and the colormap with `cmap`. "
   ]
  },
  {
   "cell_type": "code",
   "execution_count": null,
   "metadata": {
    "tags": []
   },
   "outputs": [],
   "source": [
    "# for Google Colab add:\n",
    "# hv.extension('bokeh')\n",
    "plot = ppl.query(\"Fueltype == 'Hard Coal'\").hvplot(\n",
    "    geo=True,\n",
    "    tiles=\"CartoLight\",\n",
    "    frame_height=600,\n",
    "    c=\"DateIn\",\n",
    "    cmap=\"viridis\",\n",
    "    s=\"Capacity\",\n",
    "    alpha=0.6,\n",
    ")\n",
    "plot"
   ]
  },
  {
   "cell_type": "markdown",
   "metadata": {},
   "source": [
    "There are a few more options of the graph we can tweak in the `opts()` section, like which tools should be activated by default."
   ]
  },
  {
   "cell_type": "code",
   "execution_count": null,
   "metadata": {},
   "outputs": [],
   "source": [
    "# for Google Colab add:\n",
    "# hv.extension('bokeh')\n",
    "plot = plot.opts(xaxis=None, yaxis=None, active_tools=[\"pan\", \"wheel_zoom\"])\n",
    "plot"
   ]
  },
  {
   "cell_type": "markdown",
   "metadata": {},
   "source": [
    "All this does not only work with points but also shapes. We can also pick the columns that should be shown when hovering on a shape using `hover_cols`."
   ]
  },
  {
   "cell_type": "code",
   "execution_count": null,
   "metadata": {},
   "outputs": [],
   "source": [
    "# for Google Colab add:\n",
    "# hv.extension('bokeh')\n",
    "nuts.hvplot(\n",
    "    geo=True,\n",
    "    tiles=\"OSM\",\n",
    "    hover_cols=[\"NUTS_NAME\", \"NUTS_ID\"],\n",
    "    c=\"CNTR_CODE\",\n",
    "    frame_height=500,\n",
    "    alpha=0.2,\n",
    ").opts(xaxis=None, yaxis=None, active_tools=[\"pan\", \"wheel_zoom\"])"
   ]
  },
  {
   "cell_type": "markdown",
   "metadata": {},
   "source": [
    "We can also use **hvPlot** for `xarray` datasets (e.g. `atlite` cutouts).\n",
    "\n",
    "For that, we need to import the corresponding `xarray` accessors."
   ]
  },
  {
   "cell_type": "code",
   "execution_count": null,
   "metadata": {},
   "outputs": [],
   "source": [
    "import hvplot.xarray"
   ]
  },
  {
   "cell_type": "markdown",
   "metadata": {},
   "source": [
    "So let's try it by plotting the wind speeds in Portugal as provided by ERA5. The nice thing you will notice is that it will automatically open a panel for dimensions that we did not select explicitly. In this case we can easily sweep across the time dimension. Notice also the customisation options we use here."
   ]
  },
  {
   "cell_type": "code",
   "execution_count": null,
   "metadata": {},
   "outputs": [],
   "source": [
    "# for Google Colab add:\n",
    "# hv.extension('bokeh')\n",
    "cutout.data.hvplot.quadmesh(\n",
    "    \"x\",\n",
    "    \"y\",\n",
    "    \"wnd100m\",\n",
    "    frame_height=500,\n",
    "    cmap=\"Blues\",\n",
    "    geo=True,\n",
    "    tiles=\"CartoLight\",\n",
    "    alpha=0.8,\n",
    "    padding=0.5,\n",
    "    clim=(0, 10),\n",
    ")"
   ]
  },
  {
   "cell_type": "markdown",
   "metadata": {},
   "source": [
    "We can also plot the time series of solar generation in Germany on a heatmap:"
   ]
  },
  {
   "cell_type": "code",
   "execution_count": null,
   "metadata": {},
   "outputs": [],
   "source": [
    "# for Google Colab add:\n",
    "# hv.extension('bokeh')\n",
    "ts.hvplot.heatmap(\n",
    "    x=\"index.hour\", y=\"index.month\", C=\"solar [pu]\", cmap=\"blues\"\n",
    ").aggregate(function=\"mean\")"
   ]
  },
  {
   "cell_type": "markdown",
   "metadata": {},
   "source": [
    "**hvPlot** also offers stacked area charts that come in handy for plotting the power dispatch of a solved PyPSA network:"
   ]
  },
  {
   "cell_type": "code",
   "execution_count": null,
   "metadata": {},
   "outputs": [],
   "source": [
    "dispatch = (\n",
    "    pd.concat([n.generators_t.p, n.storage_units_t.p], axis=1).loc[\"2015-02\"].div(1e3)\n",
    ")"
   ]
  },
  {
   "cell_type": "code",
   "execution_count": null,
   "metadata": {},
   "outputs": [],
   "source": [
    "# for Google Colab add:\n",
    "# hv.extension('bokeh')\n",
    "dispatch.where(dispatch > 0, 0).hvplot.area(\n",
    "    stacked=True,\n",
    "    line_width=0,\n",
    "    width=1300,\n",
    "    height=350,\n",
    "    hover=False,\n",
    "    color=[n.carriers.at[c, \"color\"] for c in dispatch.columns],\n",
    "    ylabel=\"electricity supply [GW]\",\n",
    "    ylim=(0, 180),\n",
    ")"
   ]
  },
  {
   "cell_type": "markdown",
   "metadata": {},
   "source": [
    "## Plotly Express"
   ]
  },
  {
   "cell_type": "markdown",
   "metadata": {},
   "source": [
    "> The `plotly.express` module (usually imported as px) contains functions that can create entire figures at once. Plotly Express is a built-in part of the `plotly` library, and is the recommended starting point for creating most common figures. Every Plotly Express function uses graph objects internally and returns a plotly.graph_objects.Figure instance. Throughout the plotly documentation, you will find the Plotly Express way of building figures at the top of any applicable page, followed by a section on how to use graph objects to build similar figures. Any figure created in a single function call with Plotly Express could be created using graph objects alone, but with between 5 and 100 times more code.\n",
    "\n",
    "Documentation is available here: https://plotly.com/python/plotly-express/"
   ]
  },
  {
   "cell_type": "code",
   "execution_count": null,
   "metadata": {},
   "outputs": [],
   "source": [
    "import plotly.io as pio\n",
    "import plotly.express as px\n",
    "import plotly.offline as py"
   ]
  },
  {
   "cell_type": "markdown",
   "metadata": {},
   "source": [
    ":::{note}\n",
    "We need to import `plotly.io` and `plotly.offline`, so that the interactive plots are also visible on the course's static website.\n",
    ":::"
   ]
  },
  {
   "cell_type": "markdown",
   "metadata": {},
   "source": [
    "Let's reproduce the plots we previously created with **hvPlot**. Onshore wind capacity factor time series:"
   ]
  },
  {
   "cell_type": "code",
   "execution_count": null,
   "metadata": {},
   "outputs": [],
   "source": [
    "px.line(ts[\"onwind [pu]\"])"
   ]
  },
  {
   "cell_type": "markdown",
   "metadata": {},
   "source": [
    "Load time series in February:"
   ]
  },
  {
   "cell_type": "code",
   "execution_count": null,
   "metadata": {},
   "outputs": [],
   "source": [
    "px.line(ts.loc[\"2015-02\", \"load [GW]\"])"
   ]
  },
  {
   "cell_type": "markdown",
   "metadata": {},
   "source": [
    "Hard coal power plants in Europe:"
   ]
  },
  {
   "cell_type": "code",
   "execution_count": null,
   "metadata": {},
   "outputs": [],
   "source": [
    "df = ppl.query(\"Fueltype == 'Hard Coal'\")"
   ]
  },
  {
   "cell_type": "code",
   "execution_count": null,
   "metadata": {},
   "outputs": [],
   "source": [
    "px.scatter_mapbox(\n",
    "    df, lat=\"lat\", lon=\"lon\", mapbox_style=\"carto-positron\", zoom=2, height=600\n",
    ")"
   ]
  },
  {
   "cell_type": "code",
   "execution_count": null,
   "metadata": {},
   "outputs": [],
   "source": [
    "px.scatter_mapbox(\n",
    "    df,\n",
    "    lat=\"lat\",\n",
    "    lon=\"lon\",\n",
    "    mapbox_style=\"carto-positron\",\n",
    "    color=\"DateIn\",\n",
    "    size=\"Capacity\",\n",
    "    zoom=2,\n",
    "    height=600,\n",
    ")"
   ]
  },
  {
   "cell_type": "code",
   "execution_count": null,
   "metadata": {},
   "outputs": [],
   "source": [
    "px.choropleth_mapbox(\n",
    "    nuts,\n",
    "    geojson=nuts.geometry,\n",
    "    locations=nuts.index,\n",
    "    mapbox_style=\"carto-positron\",\n",
    "    zoom=2,\n",
    "    height=600,\n",
    "    color=\"CNTR_CODE\",\n",
    "    center={\"lat\": 48, \"lon\": 12},\n",
    ")"
   ]
  },
  {
   "cell_type": "markdown",
   "metadata": {},
   "source": [
    "The integration with `xarray` datasets is not as nice as in **hvPlot**."
   ]
  },
  {
   "cell_type": "code",
   "execution_count": null,
   "metadata": {},
   "outputs": [],
   "source": [
    "px.imshow(cutout.data.wnd100m[:, :, 0].T)"
   ]
  },
  {
   "cell_type": "markdown",
   "metadata": {},
   "source": [
    "But in `plotly`, hovering information on the area chart works much better."
   ]
  },
  {
   "cell_type": "code",
   "execution_count": null,
   "metadata": {},
   "outputs": [],
   "source": [
    "dispatch = (\n",
    "    pd.concat([n.generators_t.p, n.storage_units_t.p], axis=1).loc[\"2015-02\"].div(1e3)\n",
    ")"
   ]
  },
  {
   "cell_type": "code",
   "execution_count": null,
   "metadata": {},
   "outputs": [],
   "source": [
    "df = (\n",
    "    dispatch.where(dispatch > 0, 0)\n",
    "    .stack()\n",
    "    .reset_index()\n",
    "    .rename(columns={\"level_1\": \"technology\", 0: \"GW\"})\n",
    ")"
   ]
  },
  {
   "cell_type": "code",
   "execution_count": null,
   "metadata": {},
   "outputs": [],
   "source": [
    "fig = px.area(df, x=\"snapshot\", color=\"technology\", y=\"GW\", line_group=\"technology\")\n",
    "fig.update_traces(line=dict(width=0))\n",
    "fig"
   ]
  },
  {
   "cell_type": "markdown",
   "metadata": {},
   "source": [
    "## Interactive Dashboards"
   ]
  },
  {
   "cell_type": "markdown",
   "metadata": {},
   "source": [
    "There are many different options for building interactive dashboards. Some are brand new, some have been around for a few years."
   ]
  },
  {
   "cell_type": "markdown",
   "metadata": {},
   "source": [
    "<img src=\"https://global-uploads.webflow.com/5d3ec351b1eba4332d213004/5f99e10dafbd69a99c875340_C8_qX8dvzv60T4LVZ9GftX-ZH-VJzq3sjUroWWH5XSWw8RFHnCCPPrC6jB3EFVuQdwiqhoEMQKFV-dFz7t6fqaRpSZGvBKI0i1Utj38_j9a54GXMuzi1BiepdIMjOK4ATVdF2131.png\" width=\"900px\" /> "
   ]
  },
  {
   "cell_type": "markdown",
   "metadata": {},
   "source": [
    "Each of them has different characteristics, for instance in terms of customisation options and ease of use."
   ]
  },
  {
   "cell_type": "markdown",
   "metadata": {},
   "source": [
    "<img src=\"https://global-uploads.webflow.com/5d3ec351b1eba4332d213004/5fa3b0d4a2043bcf84d49134_z87mnMfsPGOF7L3sGULQBusJnJTWGZHWtoizufuDR1q1A6JggFWO9IYHXf8wFyqgKhuG6hEGOPM4Acb-qmNXxwCFW95DPX9r7Syewkejb7itbmm8I_os2XI8bightYGJq7Gg-FXo.png\" width=\"900px\" /> "
   ]
  },
  {
   "cell_type": "markdown",
   "metadata": {},
   "source": [
    "If you want to read a detailed comparison, the best one I found is this one:\n",
    "\n",
    "https://www.datarevenue.com/en-blog/data-dashboarding-streamlit-vs-dash-vs-shiny-vs-voila\n",
    "\n",
    "\n",
    "> **Just tell me which one to use**\n",
    ">\n",
    "> As always, “it depends” – but if you’re looking for a quick answer, you should probably use:\n",
    ">\n",
    ">    - Dash if you already use Python for your analytics and you want to build production-ready data dashboards for a larger company.\n",
    ">    - **Streamlit if you already use Python for your analytics and you want to get a prototype of your dashboard up and running as quickly as possible.**\n",
    ">    - Shiny if you already use R for your analytics and you want to make the results more accessible to non-technical teams.\n",
    ">    - Jupyter if your team is very technical and doesn’t mind installing and running developer tools to view analytics.\n",
    ">    - Voila if you already have Jupyter Notebooks and you want to make them accessible to non-technical teams.\n",
    ">    - Flask if you want to build your own solution from the ground up.\n",
    ">    - Panel if you already have Jupyter Notebooks, and Voila is not flexible enough for your needs."
   ]
  },
  {
   "cell_type": "markdown",
   "metadata": {},
   "source": [
    "In this tutorial, we look at `streamlit` because it is the easiest to get to results quickly. However, compared to other dashboarding libraries, it has more limited configuration options.\n",
    "\n",
    "Documentation for this package can be found here: https://docs.streamlit.io/\n",
    "\n",
    "Streamlit can be installed, for example, with `conda`, `mamba` or `pip`:\n",
    "\n",
    "```sh\n",
    "conda install -c conda-forge streamlit'>=1.18'\n",
    "```\n",
    "\n",
    "or\n",
    "\n",
    "```sh\n",
    "pip install streamlit\n",
    "```\n",
    "\n",
    ":::{note}\n",
    "This tutorial requires `streamlit>=1.18`.\n",
    ":::\n",
    "\n",
    "This tutorial is stored on Github with instructions how to install, run and deploy it:\n",
    "\n",
    "https://github.com/fneum/streamlit-tutorial\n",
    "\n",
    "You can see a live demo of the final product here:\n",
    "\n",
    "https://ppm-dash.streamlit.app/\n"
   ]
  },
  {
   "cell_type": "code",
   "execution_count": null,
   "metadata": {},
   "outputs": [],
   "source": []
  }
 ],
 "metadata": {
  "kernelspec": {
   "display_name": "",
   "language": "python",
   "name": ""
  },
  "language_info": {
   "codemirror_mode": {
    "name": "ipython",
    "version": 3
   },
   "file_extension": ".py",
   "mimetype": "text/x-python",
   "name": "python",
   "nbconvert_exporter": "python",
   "pygments_lexer": "ipython3",
   "version": "3.11.4"
  }
 },
 "nbformat": 4,
 "nbformat_minor": 4
}

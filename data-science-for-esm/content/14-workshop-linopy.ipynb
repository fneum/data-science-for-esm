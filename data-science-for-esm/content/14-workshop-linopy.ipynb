{
 "cells": [
  {
   "cell_type": "markdown",
   "id": "47098e73-2dbb-4b9d-8abf-c2de66e1f264",
   "metadata": {},
   "source": [
    "# Introduction to `linopy`"
   ]
  },
  {
   "cell_type": "markdown",
   "id": "cdd93543-0b5c-4e03-adc5-5c9d44c7774a",
   "metadata": {},
   "source": [
    ":::{note}\n",
    "This material is in part adapted from the following resources:\n",
    "- [Linopy Getting Started](https://linopy.readthedocs.io/en/latest/index.html)\n",
    "- [PyPSA simple electricity market examples](https://pypsa.readthedocs.io/en/latest/examples/simple-electricity-market-examples.html)\n",
    ":::\n",
    "\n",
    "<img src=\"https://github.com/PyPSA/linopy/blob/master/doc/logo.png?raw=true\" width=\"300px\" />\n",
    "\n",
    "[Linopy](https://linopy.readthedocs.io/en/latest/index.html)  is an open-source framework for formulating, solving, and analyzing optimization problems with Python.\n",
    "\n",
    "With Linopy, you can create optimization models within Python that consist of decision variables, constraints, and optimization objectives. You can then solve these instances using a variety of commercial and open-source solvers (specialised software).\n",
    "\n",
    "[Linopy](https://linopy.readthedocs.io/en/latest/index.html) supports a wide range of problem types, including:\n",
    "\n",
    "- **Linear programming**\n",
    "- Integer programming\n",
    "- Mixed-integer programming\n",
    "- Quadratic programming\n",
    "\n",
    "\n",
    ":::{note}\n",
    "Documentation for this package is available at https://linopy.readthedocs.io.\n",
    ":::"
   ]
  },
  {
   "cell_type": "markdown",
   "id": "e6221514-355e-40eb-9194-b9026add6e40",
   "metadata": {},
   "source": [
    ":::{note}\n",
    "If you have not yet set up Python on your computer, you can execute this tutorial in your browser via [Google Colab](https://colab.research.google.com/). Click on the rocket in the top right corner and launch \"Colab\". If that doesn't work download the `.ipynb` file and import it in [Google Colab](https://colab.research.google.com/).\n",
    "\n",
    "Then install the following packages by executing the following command in a Jupyter cell at the top of the notebook.\n",
    "\n",
    "```sh\n",
    "!pip install pandas linopy highspy\n",
    "```\n",
    ":::"
   ]
  },
  {
   "cell_type": "markdown",
   "id": "72fb5873-a86d-45e4-9c85-eca1b96d1da6",
   "metadata": {},
   "source": [
    "## Solve a Basic Model\n",
    "\n",
    "In this example, we explain the basic functions of the linopy `Model` class. First, we are setting up a very simple linear optimization model, given by\n",
    "\n",
    "Minimize:\n",
    "    $$x + 2y$$\n",
    "subject to:\n",
    "    $$ x \\ge 0 $$\n",
    "    $$y \\ge 0 $$\n",
    "    $$3x + 7y \\ge 10 $$\n",
    "    $$5x + 2y \\ge 3 $$"
   ]
  },
  {
   "cell_type": "markdown",
   "id": "cc582211-9363-4107-932c-48c9c2279535",
   "metadata": {},
   "source": [
    "### Initializing a `Model`\n",
    "\n",
    "The Model class in Linopy is a fundamental part of the library. It serves as a container for all the relevant data associated with a linear optimization problem. This includes variables, constraints, and the objective function."
   ]
  },
  {
   "cell_type": "code",
   "execution_count": null,
   "id": "d94292b1-8073-49a8-a2e9-a2c769145b2d",
   "metadata": {},
   "outputs": [],
   "source": [
    "import linopy\n",
    "\n",
    "m = linopy.Model()"
   ]
  },
  {
   "cell_type": "markdown",
   "id": "bf2b2258-f0f3-4118-ac39-6d902e1d61e3",
   "metadata": {},
   "source": [
    "This creates a new Model object, which you can then use to define your optimization problem."
   ]
  },
  {
   "cell_type": "markdown",
   "id": "f0f00003",
   "metadata": {},
   "source": [
    ":::{note}\n",
    "It is good practice to choose a short variable name (like `m`) to reduce the verbosity of your code.\n",
    ":::"
   ]
  },
  {
   "cell_type": "markdown",
   "id": "4844ce4c-4ba6-4dec-957a-69dce93c07f0",
   "metadata": {},
   "source": [
    "### Adding decision variables\n",
    "\n",
    "**Variables** are the unknowns of an optimisation problems and are intended to be given values by solving an optimisation problem. A variable can always be assigned with a lower and an upper bound. In our case, both `x` and `y` have a lower bound of zero (default is unbouded). In linopy, you can add variables to a `Model` using the `add_variables()` method:"
   ]
  },
  {
   "cell_type": "code",
   "execution_count": null,
   "id": "64b35f1c-5398-4eb3-9135-aafce270b79b",
   "metadata": {},
   "outputs": [],
   "source": [
    "x = m.add_variables(lower=0, name=\"x\")\n",
    "y = m.add_variables(lower=0, name=\"y\");"
   ]
  },
  {
   "cell_type": "markdown",
   "id": "57bd1e94-7ead-4c86-a590-f2c2998b5f92",
   "metadata": {},
   "source": [
    "`x` and `y` are linopy variables of the class `linopy.Variable`. Each of them contain all relevant information that define it. The `name` parameter is optional but can be useful for referencing the variables later."
   ]
  },
  {
   "cell_type": "code",
   "execution_count": null,
   "id": "19d4b5f5-b9ae-48f6-8ce6-cd4a418dba6b",
   "metadata": {},
   "outputs": [],
   "source": [
    "x"
   ]
  },
  {
   "cell_type": "code",
   "execution_count": null,
   "id": "f6c58398",
   "metadata": {},
   "outputs": [],
   "source": [
    "m.variables"
   ]
  },
  {
   "cell_type": "code",
   "execution_count": null,
   "id": "c7f01250",
   "metadata": {},
   "outputs": [],
   "source": [
    "m.variables[\"x\"]"
   ]
  },
  {
   "cell_type": "markdown",
   "id": "d07cc8d8-1ea6-47e2-9b84-5326948a602b",
   "metadata": {},
   "source": [
    "### Adding Constraints\n",
    "\n",
    "**Constraints** are equality or inequality expressions that define the *feasible* space of the decision variables. They consist of the left hand side (LHS) and the right hand side (RHS). The first constraint that we want to write down is $3x + 7y = 10$ which we write out exactly in the mathematical way:"
   ]
  },
  {
   "cell_type": "code",
   "execution_count": null,
   "id": "1df4589f-4c99-46b5-a530-63f99b4515cc",
   "metadata": {},
   "outputs": [],
   "source": [
    "3 * x + 7 * y >= 10"
   ]
  },
  {
   "cell_type": "markdown",
   "id": "2b7ddd9a-8601-4a06-9d40-b8760651bd2a",
   "metadata": {},
   "source": [
    "Note, we can also mix the constant and the variable expression, like this"
   ]
  },
  {
   "cell_type": "code",
   "execution_count": null,
   "id": "688e0f65-9198-49b2-915a-2131084224c1",
   "metadata": {},
   "outputs": [],
   "source": [
    "3 * x + 7 * y - 10 >= 0"
   ]
  },
  {
   "cell_type": "markdown",
   "id": "a45ca5fa-0696-4688-a1e2-16c8eb06644b",
   "metadata": {},
   "source": [
    "… and linopy will automatically take over the separation of variables expression on the LHS, and constant values on the RHS."
   ]
  },
  {
   "cell_type": "markdown",
   "id": "f18d18a3-671f-4190-9257-4541e6c88c61",
   "metadata": {},
   "source": [
    "The constraint is currently not assigned to the model. We assign it by calling the `add_constraints()` function:"
   ]
  },
  {
   "cell_type": "code",
   "execution_count": null,
   "id": "fa233f5c-38ec-4a5a-9008-502932df968d",
   "metadata": {},
   "outputs": [],
   "source": [
    "m.add_constraints(3 * x + 7 * y >= 10)\n",
    "m.add_constraints(5 * x + 2 * y >= 3);"
   ]
  },
  {
   "cell_type": "code",
   "execution_count": null,
   "id": "25c7a077",
   "metadata": {},
   "outputs": [],
   "source": [
    "m.constraints"
   ]
  },
  {
   "cell_type": "code",
   "execution_count": null,
   "id": "024a26c4",
   "metadata": {},
   "outputs": [],
   "source": [
    "m.constraints[\"con0\"]"
   ]
  },
  {
   "cell_type": "markdown",
   "id": "f7fc48a8-ab7e-4baf-93d2-ff907e543db1",
   "metadata": {},
   "source": [
    "### Adding the Objective \n",
    "\n",
    "The objective function defines what you want to optimize. It is a function of variables that a solver attempts to maximize or minimize. You can set the objective function of a `linopy.Model` using the `add_objective()` method. For our example that would be"
   ]
  },
  {
   "cell_type": "code",
   "execution_count": null,
   "id": "18c6e6ce-37f9-4527-83a4-e5764b67b34c",
   "metadata": {},
   "outputs": [],
   "source": [
    "m.add_objective(x + 2 * y, sense=\"min\")"
   ]
  },
  {
   "cell_type": "code",
   "execution_count": null,
   "id": "4040afc5",
   "metadata": {},
   "outputs": [],
   "source": [
    "m.objective"
   ]
  },
  {
   "cell_type": "markdown",
   "id": "014ba3b0-afa4-46bf-a84a-0553eef830a5",
   "metadata": {},
   "source": [
    "Note, we can either minimize or maximize in linopy. Per default, linopy applies `sense='min'` making it not necessary to explicitly define the optimization sense. In summary:"
   ]
  },
  {
   "cell_type": "code",
   "execution_count": null,
   "id": "a1e8788b",
   "metadata": {},
   "outputs": [],
   "source": [
    "m"
   ]
  },
  {
   "cell_type": "markdown",
   "id": "b8ec9c21-de8c-40a1-8d30-2e3ee3f6d7ed",
   "metadata": {},
   "source": [
    "### Solving the Model\n",
    "\n",
    "Once you've defined your `linopy.Model`  with variables, constraints, and an objective function, you can solve it using the `solve` method:"
   ]
  },
  {
   "cell_type": "code",
   "execution_count": null,
   "id": "712a0033-d027-478a-b8f2-201ec4ed1cc1",
   "metadata": {},
   "outputs": [],
   "source": [
    "m.solve()"
   ]
  },
  {
   "cell_type": "markdown",
   "id": "c314737f",
   "metadata": {},
   "source": [
    "Solvers are needed to compute solutions to the optimization models. There exists a large variety of solvers. In many cases, they specialise in certain problem types or solving algorithms, e.g. linear or nonlinear problems.\n",
    "\n",
    "- **open-source examples**: [CBC](https://www.coin-or.org/Cbc/), [GLPK](https://www.gnu.org/software/glpk/), [Ipopt](https://coin-or.github.io/Ipopt/), [HiGHS](https://highs.dev)\n",
    "- **commercial examples**: [Gurobi](https://www.gurobi.com/), [CPLEX](https://www.ibm.com/de-de/analytics/cplex-optimizer), [FICO Xpress](https://www.fico.com/en/products/fico-xpress-optimization)\n",
    "\n",
    "The open-source solvers are sufficient to handle meaningful linopy models with hundreds to several thousand variables and constraints. However, as applications get large or more complex, there may be a need to turn to a commercial solvers (which often provide free academic licenses).\n",
    "\n",
    "For this course, we use HiGHS, which is already in the course environment `esm-2024`."
   ]
  },
  {
   "cell_type": "markdown",
   "id": "ca69649b-0fa6-4ca6-a557-8eb913895b19",
   "metadata": {},
   "source": [
    "### Retrieving optimisation results\n",
    "\n",
    "The solution of the linear problem is assigned to the variables under `solution` in form of a `xarray.Dataset`."
   ]
  },
  {
   "cell_type": "code",
   "execution_count": null,
   "id": "1f28aa81-d16f-4b7e-9d8e-f661d4b8bcd8",
   "metadata": {},
   "outputs": [],
   "source": [
    "x.solution"
   ]
  },
  {
   "cell_type": "code",
   "execution_count": null,
   "id": "470e2d25-9386-438d-932e-113464907726",
   "metadata": {},
   "outputs": [],
   "source": [
    "y.solution"
   ]
  },
  {
   "cell_type": "markdown",
   "id": "5de5e02c",
   "metadata": {},
   "source": [
    "We can also read out the objective value:"
   ]
  },
  {
   "cell_type": "code",
   "execution_count": null,
   "id": "b30ceb74",
   "metadata": {},
   "outputs": [],
   "source": [
    "m.objective.value"
   ]
  },
  {
   "cell_type": "markdown",
   "id": "5f52e8fb",
   "metadata": {},
   "source": [
    "And the dual values (or shadow prices) of the model's constraints: "
   ]
  },
  {
   "cell_type": "code",
   "execution_count": null,
   "id": "f6604954",
   "metadata": {},
   "outputs": [],
   "source": [
    "m.dual[\"con0\"]"
   ]
  },
  {
   "cell_type": "markdown",
   "id": "34b0c100-b354-4e8c-8043-a45bfa78b999",
   "metadata": {},
   "source": [
    "Well done! You solved your first linopy model!"
   ]
  },
  {
   "cell_type": "markdown",
   "id": "8d87cf68-8655-4f04-b87c-ab1e670f2884",
   "metadata": {},
   "source": [
    "## Use Coordinates\n",
    "\n",
    "Now, the real power of the package comes into play! \n",
    "\n",
    "Linopy is structured around the concept that variables, and therefore expressions and constraints, have coordinates. That is, a `Variable` object actually contains multiple variables across dimensions, just as we know it from a `numpy` array or a `pandas.DataFrame`.\n",
    "\n",
    "Suppose the two variables `x` and `y` are now functions of time `t` and we would modify the problem according to: "
   ]
  },
  {
   "cell_type": "markdown",
   "id": "d40eb0b9-35ef-4867-b57c-dfca3b0da66c",
   "metadata": {},
   "source": [
    "Minimize:\n",
    "$$\\sum_t x_t + 2 y_t$$\n",
    "\n",
    "subject to:\n",
    "\n",
    "$$x_t \\ge 0 \\qquad \\forall t $$\n",
    "$$y_t \\ge 0 \\qquad \\forall t $$\n",
    "$$3x_t + 7y_t \\ge 10 t \\qquad \\forall t$$\n",
    "$$5x_t + 2y_t \\ge 3 t \\qquad \\forall t$$\n",
    "\n",
    "whereas `t` spans all the range from 0 to 10."
   ]
  },
  {
   "cell_type": "markdown",
   "id": "53c08a98-05aa-4c0b-a046-1d16215ce382",
   "metadata": {},
   "source": [
    "In order to formulate the new problem with linopy, we start again by initializing a model."
   ]
  },
  {
   "cell_type": "code",
   "execution_count": null,
   "id": "788956e7-1bc9-4298-85a1-9235486b8cad",
   "metadata": {},
   "outputs": [],
   "source": [
    "m = linopy.Model()"
   ]
  },
  {
   "cell_type": "markdown",
   "id": "9cf08174-0d0a-473c-8ee2-7799958aef0b",
   "metadata": {},
   "source": [
    "Again, we define `x` and `y` using the `add_variables()` function, but now we are adding a `coords` argument. This automatically creates optimization variables for all coordinates, in this case time-steps `t`."
   ]
  },
  {
   "cell_type": "code",
   "execution_count": null,
   "id": "d477e41c-a89f-4d3b-a1af-385820638a75",
   "metadata": {},
   "outputs": [],
   "source": [
    "import pandas as pd\n",
    "\n",
    "time = pd.Index(range(10), name=\"time\")\n",
    "\n",
    "x = m.add_variables(\n",
    "    lower=0,\n",
    "    coords=[time],\n",
    "    name=\"x\",\n",
    ")\n",
    "y = m.add_variables(lower=0, coords=[time], name=\"y\")"
   ]
  },
  {
   "cell_type": "code",
   "execution_count": null,
   "id": "b31a72ca",
   "metadata": {},
   "outputs": [],
   "source": [
    "x"
   ]
  },
  {
   "cell_type": "markdown",
   "id": "32dfa7f0-3f35-466d-8669-6134ca18a26d",
   "metadata": {},
   "source": [
    "Following the previous example, we write the constraints out using the syntax from above, while multiplying the RHS with `t`. Note that the coordinates from the LHS and the RSH have to match. \n",
    "\n",
    ":::{note}\n",
    "In the beginning, it is recommended to use explicit dimension names. In this way, things remain clear and no unexpected broadcasting (which we show later) will happen.\n",
    ":::"
   ]
  },
  {
   "cell_type": "code",
   "execution_count": null,
   "id": "00a64dec-26a5-4f80-97c0-de0fe00188a2",
   "metadata": {},
   "outputs": [],
   "source": [
    "factor = pd.Series(time, index=time)\n",
    "\n",
    "3 * x + 7 * y >= 10 * factor"
   ]
  },
  {
   "cell_type": "markdown",
   "id": "946c5674-d5f5-4b78-97d3-337e6de10f73",
   "metadata": {},
   "source": [
    "It always helps to write out the constraints before adding them to the model. Since they look good, let's assign them."
   ]
  },
  {
   "cell_type": "code",
   "execution_count": null,
   "id": "8d3a89e8-0b0e-480d-9cb8-f29931fb3559",
   "metadata": {},
   "outputs": [],
   "source": [
    "con1 = m.add_constraints(3 * x + 7 * y >= 10 * factor, name=\"con1\")\n",
    "con2 = m.add_constraints(5 * x + 2 * y >= 3 * factor, name=\"con2\")\n",
    "m"
   ]
  },
  {
   "cell_type": "markdown",
   "id": "ff3e5770-383f-4011-aed7-7de526e69c7c",
   "metadata": {},
   "source": [
    "Now, when it comes to the objective, we use the `sum` function of `linopy.LinearExpression`. This stacks all terms all terms of the `time` dimension and writes them into one big expression. "
   ]
  },
  {
   "cell_type": "code",
   "execution_count": null,
   "id": "9cbf16b4-99ed-4e33-9ea9-e8eff3503b05",
   "metadata": {},
   "outputs": [],
   "source": [
    "obj = (x + 2 * y).sum()\n"
   ]
  },
  {
   "cell_type": "code",
   "execution_count": null,
   "id": "075a8a0b",
   "metadata": {},
   "outputs": [],
   "source": [
    "obj"
   ]
  },
  {
   "cell_type": "code",
   "execution_count": null,
   "id": "8f4e2168",
   "metadata": {},
   "outputs": [],
   "source": [
    "m.add_objective(obj, overwrite=True)"
   ]
  },
  {
   "cell_type": "markdown",
   "id": "37da40ed-71f5-4c3c-825b-26e0e2da46e2",
   "metadata": {},
   "source": [
    "Then, we can solve:"
   ]
  },
  {
   "cell_type": "code",
   "execution_count": null,
   "id": "436f52a8",
   "metadata": {},
   "outputs": [],
   "source": [
    "m.solve()"
   ]
  },
  {
   "cell_type": "markdown",
   "id": "a5f4769a-98d0-446f-81cf-b41d7c4063e2",
   "metadata": {},
   "source": [
    "In order to inspect the solution. You can go via the variables, i.e. `y.solution` or via the `solution` aggregator of the model, which combines the solution of all variables."
   ]
  },
  {
   "cell_type": "code",
   "execution_count": null,
   "id": "33cdfad9-0ff3-4211-afaf-b0e27fa33d5a",
   "metadata": {},
   "outputs": [],
   "source": [
    "m.solution.to_dataframe()"
   ]
  },
  {
   "cell_type": "markdown",
   "id": "0c262072",
   "metadata": {},
   "source": [
    "Sometimes it can be helpful to plot the solution:"
   ]
  },
  {
   "cell_type": "code",
   "execution_count": null,
   "id": "5ba03b54",
   "metadata": {},
   "outputs": [],
   "source": [
    "m.solution.to_dataframe().plot(grid=True, ylabel=\"Optimal Value\");"
   ]
  },
  {
   "cell_type": "markdown",
   "id": "603aa77f-4a13-4e02-bf0c-196e3cdfcbf0",
   "metadata": {},
   "source": [
    "Alright! Now you learned how to set up linopy variables and expressions with coordinates. For more advanced `linopy` operations you can check out the [User Guide](https://linopy.readthedocs.io/en/latest/user-guide.html)."
   ]
  },
  {
   "cell_type": "markdown",
   "id": "f520ffce-6783-4c89-81f8-cc0c7822439c",
   "metadata": {},
   "source": [
    "## Electricity Market Examples"
   ]
  },
  {
   "cell_type": "markdown",
   "id": "b1bc668c-c37c-4939-8890-d4e945ba2739",
   "metadata": {},
   "source": [
    "### Single bidding zone, single period"
   ]
  },
  {
   "cell_type": "markdown",
   "id": "a2459e7a-d740-45dd-a834-bc098a5825cb",
   "metadata": {},
   "source": [
    "We want to minimise operational cost of an example electricity system representing South Africa subject to generator limits and meeting the load:\n",
    "\n",
    "\\begin{equation}\n",
    "    \\min_{g_s} \\sum_s o_s g_s\n",
    "  \\end{equation}\n",
    "  such that\n",
    "  \\begin{align}\n",
    "    g_s &\\leq G_s \\\\\n",
    "    g_s &\\geq 0 \\\\\n",
    "    \\sum_s g_s &= d\n",
    "  \\end{align}"
   ]
  },
  {
   "cell_type": "markdown",
   "id": "b5c0cb03-aa1b-47f0-92d7-b98fea75bc4d",
   "metadata": {},
   "source": [
    "We are given the following information on the South African electricity system:"
   ]
  },
  {
   "cell_type": "markdown",
   "id": "816b7ed4-fac6-45ee-8991-1057416f0983",
   "metadata": {},
   "source": [
    "Marginal costs in EUR/MWh"
   ]
  },
  {
   "cell_type": "code",
   "execution_count": null,
   "id": "30a08a5c-a63c-4c0e-9ec0-8fbbd2e26dbb",
   "metadata": {},
   "outputs": [],
   "source": [
    "marginal_costs = pd.Series(\n",
    "    [0, 30, 60, 80], index=[\"Wind\", \"Coal\", \"Gas\", \"Oil\"]\n",
    ")\n",
    "marginal_costs"
   ]
  },
  {
   "cell_type": "markdown",
   "id": "42b0c6e8-6699-4d9c-a958-727283e4ca0a",
   "metadata": {},
   "source": [
    "Power plant capacities in MW"
   ]
  },
  {
   "cell_type": "code",
   "execution_count": null,
   "id": "5864cf82-59bb-4ec2-9767-4739fd675637",
   "metadata": {},
   "outputs": [],
   "source": [
    "capacities = pd.Series(\n",
    "    [3000, 35000, 8000, 2000], index=[\"Wind\", \"Coal\", \"Gas\", \"Oil\"]\n",
    ")\n",
    "capacities"
   ]
  },
  {
   "cell_type": "markdown",
   "id": "fc235ee5-d77f-4c68-bfb8-85048393590e",
   "metadata": {},
   "source": [
    "Inelastic demand in MW"
   ]
  },
  {
   "cell_type": "code",
   "execution_count": null,
   "id": "9b018aa6-715e-4319-ae83-ce7a0fd3d890",
   "metadata": {},
   "outputs": [],
   "source": [
    "load = 42000"
   ]
  },
  {
   "cell_type": "markdown",
   "id": "b7177f81-88e0-42a0-afe1-64360856a2de",
   "metadata": {},
   "source": [
    "We now start building the model"
   ]
  },
  {
   "cell_type": "code",
   "execution_count": null,
   "id": "89d61ab1-078b-406d-b9db-1a6377843c79",
   "metadata": {},
   "outputs": [],
   "source": [
    "m = linopy.Model()"
   ]
  },
  {
   "cell_type": "markdown",
   "id": "aa66cf86-9836-421f-b507-343adc2d5c38",
   "metadata": {},
   "source": [
    "Let's define the dispatch variables `g` with the `lower` and `upper` bound:\n",
    "$$g_s \\leq G_s $$\n",
    "$$g_s \\geq 0 $$"
   ]
  },
  {
   "cell_type": "code",
   "execution_count": null,
   "id": "cd87f66b-e2f0-4676-966b-51c2f180efb1",
   "metadata": {},
   "outputs": [],
   "source": [
    "g = m.add_variables(\n",
    "    lower=0, upper=capacities, coords=[capacities.index], name=\"g\"\n",
    ")\n",
    "g"
   ]
  },
  {
   "cell_type": "markdown",
   "id": "7eceb706-c0b4-490e-ad65-e335793d4a68",
   "metadata": {},
   "source": [
    "And and the objective to minimize total operational costs:\n",
    "$$\\min_{g_s} \\sum_s o_s g_s$$"
   ]
  },
  {
   "cell_type": "code",
   "execution_count": null,
   "id": "55cfe8c4-9816-4375-8979-a136219a96fa",
   "metadata": {},
   "outputs": [],
   "source": [
    "m.add_objective(marginal_costs.values * g, sense=\"min\")\n",
    "m.objective"
   ]
  },
  {
   "cell_type": "markdown",
   "id": "61dfa4ce-d028-463e-a812-66e79ffb798b",
   "metadata": {},
   "source": [
    "Which is subject to: \n",
    "\n",
    "$$\\sum_s g_s = d$$"
   ]
  },
  {
   "cell_type": "code",
   "execution_count": null,
   "id": "c37f66f5-fce5-4e54-a122-56b992ed2f95",
   "metadata": {},
   "outputs": [],
   "source": [
    "m.add_constraints(g.sum() == load, name=\"energy_balance\")"
   ]
  },
  {
   "cell_type": "markdown",
   "id": "36ad37d3-5cbb-4097-9f9f-0440832359fa",
   "metadata": {},
   "source": [
    "Then, we can solve the model:"
   ]
  },
  {
   "cell_type": "code",
   "execution_count": null,
   "id": "1bd321b2-760f-48e4-b734-1c73daaf520d",
   "metadata": {},
   "outputs": [],
   "source": [
    "m.solve()"
   ]
  },
  {
   "cell_type": "markdown",
   "id": "f00e76dd-6831-469e-8a5c-f797a6b7b39c",
   "metadata": {},
   "source": [
    "This is the optimimal generator dispatch (MW)"
   ]
  },
  {
   "cell_type": "code",
   "execution_count": null,
   "id": "876e38fd-008a-4717-ab3b-0aadac8d41bc",
   "metadata": {},
   "outputs": [],
   "source": [
    "m.solution.to_dataframe()"
   ]
  },
  {
   "cell_type": "markdown",
   "id": "f77acf05-cf1e-48be-9318-4f4b33efa113",
   "metadata": {},
   "source": [
    "And the market clearing price we can read from the shadow price of the energy balance constraint (i.e. the added cost of increasing electricity demand by one unit):"
   ]
  },
  {
   "cell_type": "code",
   "execution_count": null,
   "id": "a5870398-3420-4443-aed4-ce407ea3ad2d",
   "metadata": {},
   "outputs": [],
   "source": [
    "m.dual[\"energy_balance\"]"
   ]
  },
  {
   "cell_type": "markdown",
   "id": "5cc105a5-7df0-4b76-90b7-85d8bafa2121",
   "metadata": {},
   "source": [
    "### Two bidding zones with transmission"
   ]
  },
  {
   "cell_type": "markdown",
   "id": "b1c5e8dc-21fd-4961-a2c5-4b6dae862efe",
   "metadata": {},
   "source": [
    "Let's add a spatial dimension, such that the optimisation problem is expanded to\n",
    "\\begin{equation}\n",
    "  \\min_{g_{i,s}, f_\\ell} \\sum_s o_{i,s} g_{i,s}\n",
    "\\end{equation}\n",
    "such that\n",
    "\\begin{align}\n",
    "  g_{i,s} &\\leq G_{i,s} \\\\\n",
    "  g_{i,s} &\\geq 0 \\\\\n",
    "  \\sum_s g_{i,s} - \\sum_\\ell K_{i\\ell} f_\\ell &= d_i & \\text{KCL} \\\\\n",
    "  |f_\\ell| &\\leq F_\\ell & \\text{line limits}  \\\\\n",
    "  \\sum_\\ell C_{\\ell c} x_\\ell f_\\ell &= 0 & \\text{KVL} \n",
    "\\end{align}\n",
    "\n",
    "In this example, we connect the previous South African electricity system with a hydro generation unit in Mozambique through a single transmission line. Note that because a single transmission line will not result in any cycles, we can neglect KVL in this case.\n",
    "\n",
    "We are given the following data (all in MW):"
   ]
  },
  {
   "cell_type": "code",
   "execution_count": null,
   "metadata": {},
   "outputs": [],
   "source": [
    "generators = [\"Coal\", \"Wind\", \"Gas\", \"Oil\", \"Hydro\"]\n",
    "countries = [\"South_Africa\", \"Mozambique\"]"
   ]
  },
  {
   "cell_type": "code",
   "execution_count": null,
   "id": "4aaaa1bd-112e-4502-92fe-6291c2998046",
   "metadata": {},
   "outputs": [],
   "source": [
    "capacities = pd.DataFrame(\n",
    "    {\n",
    "        \"Coal\": [35000, 0],\n",
    "        \"Wind\": [3000, 0],\n",
    "        \"Gas\": [8000, 0],\n",
    "        \"Oil\": [2000, 0],\n",
    "        \"Hydro\": [0, 1200],\n",
    "    },\n",
    "    index=countries,\n",
    ")\n",
    "capacities.index.name = \"countries\"\n",
    "capacities.columns.name = \"generators\"\n",
    "\n",
    "capacities"
   ]
  },
  {
   "cell_type": "code",
   "execution_count": null,
   "id": "8822d16f-1eab-4e7d-af3b-b791113629e0",
   "metadata": {},
   "outputs": [],
   "source": [
    "# variable costs in EUR/MWh\n",
    "marginal_costs = pd.Series([30, 0, 60, 80, 0], index=generators)\n",
    "marginal_costs.index.name = \"generators\"\n",
    "marginal_costs"
   ]
  },
  {
   "cell_type": "code",
   "execution_count": null,
   "id": "01214bbf-786c-4dcf-b3ea-179b5285e51d",
   "metadata": {},
   "outputs": [],
   "source": [
    "load = pd.Series([42000, 650], index=countries)\n",
    "load.index.name = \"countries\"\n",
    "load"
   ]
  },
  {
   "cell_type": "code",
   "execution_count": null,
   "id": "20b478e0-26e3-470b-82e6-ed0da0e0217f",
   "metadata": {},
   "outputs": [],
   "source": [
    "transmission = 500"
   ]
  },
  {
   "cell_type": "markdown",
   "id": "e46e0a36-486f-48a9-be71-647208aaa1f5",
   "metadata": {},
   "source": [
    "Let's start with a new model instance"
   ]
  },
  {
   "cell_type": "code",
   "execution_count": null,
   "id": "d2996e54-fd7e-4c99-b52d-02ec6c4ec2f1",
   "metadata": {},
   "outputs": [],
   "source": [
    "m = linopy.Model()"
   ]
  },
  {
   "cell_type": "markdown",
   "id": "436d75a0-8257-4c94-ae18-4462b899fbf5",
   "metadata": {},
   "source": [
    "Now we create dispatch variables, as before, with the `upper` and `lower` bound for each countries and generators."
   ]
  },
  {
   "cell_type": "code",
   "execution_count": null,
   "id": "83936e48",
   "metadata": {},
   "outputs": [],
   "source": [
    "capacities"
   ]
  },
  {
   "cell_type": "code",
   "execution_count": null,
   "id": "d548c6ae-ae63-4a24-84f4-60cdc0537953",
   "metadata": {},
   "outputs": [],
   "source": [
    "g = m.add_variables(lower=0, upper=capacities, name=\"g\")\n",
    "g"
   ]
  },
  {
   "cell_type": "markdown",
   "id": "8c60116f-5d1b-4cf6-b110-211f8d7bd28b",
   "metadata": {},
   "source": [
    "We now define the line limit for the transmission line, assuming that power flowing from Mozambique\tto South Africa is positive."
   ]
  },
  {
   "cell_type": "markdown",
   "id": "e5d1fc38-c2c9-4fcb-9306-4a077b1cacff",
   "metadata": {},
   "source": [
    "The line limit equation can be defined as   \n",
    "\\begin{align}\n",
    "|f_\\ell| &\\leq F_\\ell & \\text{line limits}\n",
    "\\end{align}"
   ]
  },
  {
   "cell_type": "code",
   "execution_count": null,
   "id": "44d964fb-df92-410d-8465-cb134a0e8f9e",
   "metadata": {},
   "outputs": [],
   "source": [
    "f = m.add_variables(lower=-transmission, upper=transmission, name=\"flow_MZ_SA\")\n",
    "f"
   ]
  },
  {
   "cell_type": "markdown",
   "id": "3a23ed0a-2d31-470b-a263-e1d4c1bde616",
   "metadata": {},
   "source": [
    "The energy balance constraint is replaced by KCL, where we take into account local generation as well as incoming or outgoing flows. The KCL equation can be defined as:\n",
    "\\begin{align}\n",
    "  \\sum_s g_{i,s} - \\sum_\\ell K_{i\\ell} f_\\ell &= d_i & \\text{KCL} \\\\\n",
    "\\end{align}\n",
    "\n",
    "We also need the incidence matrix $K_{i\\ell}$ of this network (here it's very simple!) and assume some direction for the flow variable. Here, we picked the orientation from South Africa to Mozambique. This means that if the values for the flow variable $f_\\ell$ are positive South Africa exports to Mozambique and vice versa if the variable takes negative values."
   ]
  },
  {
   "cell_type": "code",
   "execution_count": null,
   "id": "d4d7a22b-0b0d-43cc-bf15-658fa4e945ff",
   "metadata": {},
   "outputs": [],
   "source": [
    "for country in countries:\n",
    "    sign = -1 if country == \"Mozambique\" else 1  # minimal incidence matrix\n",
    "    m.add_constraints(\n",
    "        g.loc[country].sum() + sign * f == load[country],\n",
    "        name=f\"{country}_KCL\",\n",
    "    )"
   ]
  },
  {
   "cell_type": "code",
   "execution_count": null,
   "id": "b3b94f78",
   "metadata": {},
   "outputs": [],
   "source": [
    "m.constraints[\"Mozambique_KCL\"]"
   ]
  },
  {
   "cell_type": "markdown",
   "id": "f24c3c2a-f6f9-4cfd-9732-ecfab10bcb48",
   "metadata": {},
   "source": [
    "The objective can be written as:\n",
    "$$\\min_{g_{i,s}, f_\\ell} \\sum_s o_{i,s} g_{i,s}$$"
   ]
  },
  {
   "cell_type": "code",
   "execution_count": null,
   "id": "75132441-0386-45bf-8f16-e2a6659922aa",
   "metadata": {},
   "outputs": [],
   "source": [
    "obj = (g * marginal_costs).sum()\n",
    "obj"
   ]
  },
  {
   "cell_type": "code",
   "execution_count": null,
   "id": "d411da42-7782-40b8-829c-bff883fc2b4b",
   "metadata": {},
   "outputs": [],
   "source": [
    "m.add_objective(obj, sense=\"min\")"
   ]
  },
  {
   "cell_type": "markdown",
   "id": "277b43f9-1dd7-4f3e-a41e-7ad154e943ae",
   "metadata": {},
   "source": [
    "We now solve the model."
   ]
  },
  {
   "cell_type": "code",
   "execution_count": null,
   "id": "6e41147e-6771-4c04-a1f0-b9ebbe8b0edc",
   "metadata": {},
   "outputs": [],
   "source": [
    "m.solve()"
   ]
  },
  {
   "cell_type": "markdown",
   "id": "7b0462ef-e412-497b-a591-18409deb9c93",
   "metadata": {},
   "source": [
    "Now, we print the optimization results"
   ]
  },
  {
   "cell_type": "code",
   "execution_count": null,
   "id": "a163fa60",
   "metadata": {},
   "outputs": [],
   "source": [
    "m.objective.value"
   ]
  },
  {
   "cell_type": "code",
   "execution_count": null,
   "metadata": {},
   "outputs": [],
   "source": [
    "g.solution.to_dataframe()"
   ]
  },
  {
   "cell_type": "code",
   "execution_count": null,
   "id": "78afd5db",
   "metadata": {},
   "outputs": [],
   "source": [
    "m.constraints[\"South_Africa_KCL\"].dual"
   ]
  },
  {
   "cell_type": "code",
   "execution_count": null,
   "id": "331c75f6",
   "metadata": {},
   "outputs": [],
   "source": [
    "m.constraints[\"Mozambique_KCL\"].dual"
   ]
  },
  {
   "cell_type": "markdown",
   "id": "7cfc9c9e-e2ed-490c-8a05-7179e6bd1090",
   "metadata": {},
   "source": [
    "### Single bidding zone with several periods"
   ]
  },
  {
   "cell_type": "markdown",
   "id": "6e203478-4a7f-4970-9213-63932fc578c5",
   "metadata": {},
   "source": [
    "In this example, we consider multiple time periods (labelled [0,1,2,3]) to represent variable wind generation and changing load."
   ]
  },
  {
   "cell_type": "markdown",
   "id": "18cc95fd-7d29-4e68-b2f0-f60c43c715ed",
   "metadata": {},
   "source": [
    "\\begin{equation}\n",
    "  \\min_{g_{s,t}} \\sum_s o_{s} g_{s,t}\n",
    "\\end{equation}\n",
    "such that\n",
    "\\begin{align}\n",
    "  g_{s,t} &\\leq \\hat{g}_{s,t} G_{i,s} \\\\\n",
    "  g_{s,t} &\\geq 0 \\\\\n",
    "  \\sum_s g_{s,t} &= d_t\n",
    "\\end{align}"
   ]
  },
  {
   "cell_type": "markdown",
   "id": "fb4b6172-a8cb-439f-b15e-c484de6ef859",
   "metadata": {},
   "source": [
    "We are given the following data as before, just dropiing Mozambique:"
   ]
  },
  {
   "cell_type": "code",
   "execution_count": null,
   "id": "96c02713",
   "metadata": {},
   "outputs": [],
   "source": [
    "capacities = capacities.loc[\"South_Africa\"]"
   ]
  },
  {
   "cell_type": "code",
   "execution_count": null,
   "id": "2a52138e-be68-405a-9f83-b2771bdaf149",
   "metadata": {},
   "outputs": [],
   "source": [
    "time_index = pd.Index([0,1,2,3], name=\"time\")\n",
    "time_index"
   ]
  },
  {
   "cell_type": "code",
   "execution_count": null,
   "id": "ef2ca351-5382-4763-ab48-939ba579d622",
   "metadata": {},
   "outputs": [],
   "source": [
    "capacity_factors = pd.DataFrame(\n",
    "    {\n",
    "        \"Coal\": 4*[1],\n",
    "        \"Wind\": [0.3, 0.6, 0.4, 0.5],\n",
    "        \"Gas\": 4*[1],\n",
    "        \"Oil\": 4*[1],\n",
    "        \"Hydro\": 4*[1],\n",
    "    },\n",
    "    index=time_index,\n",
    "    columns=generators,\n",
    ")\n",
    "capacity_factors.index.name = \"time\"\n",
    "capacity_factors.columns.name = \"generators\"\n",
    "capacity_factors"
   ]
  },
  {
   "cell_type": "code",
   "execution_count": null,
   "id": "74658603-cb8f-4cef-9070-ff9b2ed28c78",
   "metadata": {},
   "outputs": [],
   "source": [
    "load = pd.Series(\n",
    "    [42000, 43000, 45000, 46000], index=time_index\n",
    ")\n",
    "load.index.name = \"time\""
   ]
  },
  {
   "cell_type": "markdown",
   "id": "c5e51151-1ff9-4012-898a-5ac93924b396",
   "metadata": {},
   "source": [
    "We now start building the model:"
   ]
  },
  {
   "cell_type": "code",
   "execution_count": null,
   "id": "46e65d7c-3113-43a3-a091-5f2f8bd3fdfe",
   "metadata": {},
   "outputs": [],
   "source": [
    "m = linopy.Model()"
   ]
  },
  {
   "cell_type": "markdown",
   "id": "39a799b0-81a1-47f3-8dd4-8905cdc1d016",
   "metadata": {},
   "source": [
    "Let's define the dispatch variables `g` with the `lower` and `upper` bound:\n",
    "  \\begin{align}\n",
    "    g_{s,t} &\\leq \\hat{g}_{s,t} G_{i,s} \\\\\n",
    "    g_{s,t} &\\geq 0 \\\\\n",
    "  \\end{align}"
   ]
  },
  {
   "cell_type": "code",
   "execution_count": null,
   "id": "54c6e92d-df1a-4d81-8d06-1c47ed1ca445",
   "metadata": {},
   "outputs": [],
   "source": [
    "g = m.add_variables(\n",
    "    lower=0, upper=capacities * capacity_factors, name=\"g\"\n",
    ")\n",
    "g"
   ]
  },
  {
   "cell_type": "markdown",
   "id": "6c7611d1-e77d-4b08-b8b3-50e3ec4ad91d",
   "metadata": {},
   "source": [
    "Then, we add the objective:\n",
    "\\begin{equation}\n",
    "  \\min_{g_{s,t}} \\sum_s o_{s} g_{s,t}\n",
    "\\end{equation}"
   ]
  },
  {
   "cell_type": "code",
   "execution_count": null,
   "id": "62ba1212-347d-4b04-901d-f0cae3167e50",
   "metadata": {},
   "outputs": [],
   "source": [
    "m.add_objective((g * marginal_costs).sum(), sense=\"min\")\n",
    "m.objective"
   ]
  },
  {
   "cell_type": "markdown",
   "id": "f402a97e-9ab7-401e-9e2c-b569e7da35c5",
   "metadata": {},
   "source": [
    "Which is subject to:\n",
    "\\begin{align}\n",
    "  \\sum_s g_{s,t} &= d_t\n",
    "\\end{align}"
   ]
  },
  {
   "cell_type": "code",
   "execution_count": null,
   "id": "cfc40d59-0780-422f-9c21-f3a59336a230",
   "metadata": {},
   "outputs": [],
   "source": [
    "m.add_constraints(\n",
    "    g.sum(\"generators\") == load,\n",
    "    name=\"energy_balance\",\n",
    ")"
   ]
  },
  {
   "cell_type": "markdown",
   "id": "f5997e56-a5b6-4ff7-bcf4-a4f4d5bcb10b",
   "metadata": {},
   "source": [
    "We now solve the model:"
   ]
  },
  {
   "cell_type": "code",
   "execution_count": null,
   "id": "f3b63ce4-d7c6-4b09-8e57-151c0f0040b6",
   "metadata": {},
   "outputs": [],
   "source": [
    "m.solve()"
   ]
  },
  {
   "cell_type": "markdown",
   "id": "16db569f-41c0-4522-9867-9542922116d6",
   "metadata": {},
   "source": [
    "We display the results. For ease of reading, we round the results to 2 decimals:"
   ]
  },
  {
   "cell_type": "code",
   "execution_count": null,
   "metadata": {},
   "outputs": [],
   "source": [
    "m.objective.value"
   ]
  },
  {
   "cell_type": "code",
   "execution_count": null,
   "id": "0bd273c4",
   "metadata": {},
   "outputs": [],
   "source": [
    "g.solution.round(2).to_dataframe().squeeze().unstack()"
   ]
  },
  {
   "cell_type": "code",
   "execution_count": null,
   "id": "9d78b612",
   "metadata": {},
   "outputs": [],
   "source": [
    "m.dual.to_dataframe()"
   ]
  },
  {
   "cell_type": "markdown",
   "id": "b5b9981c-73e0-41a3-a2ba-4d75a6ef2c25",
   "metadata": {},
   "source": [
    "### Single bidding zone with several periods and storage"
   ]
  },
  {
   "cell_type": "markdown",
   "id": "af49627f-9d2c-4542-bd8d-4a501b4059c5",
   "metadata": {},
   "source": [
    "Now, we want to expand the optimisation model with a storage unit to do price arbitrage to reduce oil consumption."
   ]
  },
  {
   "cell_type": "markdown",
   "id": "7882d6ab-3108-49c5-b904-6d55602c853d",
   "metadata": {},
   "source": [
    "We have been given the following characteristics of the storage:"
   ]
  },
  {
   "cell_type": "code",
   "execution_count": null,
   "id": "30b6d318-91e9-4074-b749-b2d1393e503e",
   "metadata": {},
   "outputs": [],
   "source": [
    "storage_energy = 6000  # MWh\n",
    "storage_power = 1000  # MW\n",
    "efficiency = 0.9  # discharge = charge\n",
    "standing_loss = 0.00001  # per hour"
   ]
  },
  {
   "cell_type": "code",
   "execution_count": null,
   "id": "596f621c-70e1-4bb4-8701-e706bbd756e3",
   "metadata": {},
   "outputs": [],
   "source": [
    "m"
   ]
  },
  {
   "cell_type": "markdown",
   "id": "087352e8-0e95-4120-a7b0-508ee148e034",
   "metadata": {},
   "source": [
    "To model a storage unit, we need three additional variables for the discharging and charging of the storage unit and for its state of charge (energy filling level). We can directly define the bounds of these variables in the variable definition:"
   ]
  },
  {
   "cell_type": "code",
   "execution_count": null,
   "id": "2d32118c-eeda-4ab4-8400-292aca5fa0ef",
   "metadata": {},
   "outputs": [],
   "source": [
    "battery_discharge = m.add_variables(\n",
    "    lower=0, upper=storage_power, coords=[time_index], name=\"battery_discharge\"\n",
    ")\n",
    "battery_charge = m.add_variables(\n",
    "    lower=0, upper=storage_power, coords=[time_index], name=\"battery_charge\"\n",
    ")\n",
    "battery_soc = m.add_variables(\n",
    "    lower=0, upper=storage_energy, coords=[time_index], name=\"battery_soc\"\n",
    ")"
   ]
  },
  {
   "cell_type": "markdown",
   "id": "e874f80b-7482-4313-8418-87b213fa0441",
   "metadata": {},
   "source": [
    "Then, we implement the storage consistency equations,\n",
    "\n",
    "$$e_{t} = (1-\\text{standing loss}) \\cdot e_{t-1} + \\eta \\cdot g_{charge, t} - \\frac{1}{\\eta} \\cdot g_{discharge, t}$$\n",
    "\n",
    "For the initial period, we set the state of charge to zero.\n",
    "\n",
    "$$e_{0} = 0$$"
   ]
  },
  {
   "cell_type": "code",
   "execution_count": null,
   "id": "37f57529-a84c-4553-86ee-180211a53af8",
   "metadata": {},
   "outputs": [],
   "source": [
    "m.add_constraints(battery_soc.loc[0] == 0, name=\"soc_initial\")"
   ]
  },
  {
   "cell_type": "code",
   "execution_count": null,
   "id": "2bad2277",
   "metadata": {},
   "outputs": [],
   "source": [
    "m.add_constraints(\n",
    "    battery_soc.loc[1:] == (1 - standing_loss) * battery_soc.shift(time=1).loc[1:] + efficiency * battery_charge.loc[1:] - 1 / efficiency * battery_discharge.loc[1:],\n",
    "    name=\"soc_consistency\",\n",
    ")"
   ]
  },
  {
   "cell_type": "markdown",
   "id": "726ff9ca-900f-47e9-9216-b79ad3202a99",
   "metadata": {},
   "source": [
    "And we also need to modify the energy balance to include the contributions of storage discharging and charging.\n",
    "\n",
    "For that, we should first remove the existing energy balance constraint, which we seek to overwrite."
   ]
  },
  {
   "cell_type": "code",
   "execution_count": null,
   "id": "e1f690ff-55d0-45ff-901e-58c8adb43c18",
   "metadata": {},
   "outputs": [],
   "source": [
    "m.remove_constraints(\"energy_balance\")"
   ]
  },
  {
   "cell_type": "code",
   "execution_count": null,
   "id": "7873dec7",
   "metadata": {},
   "outputs": [],
   "source": [
    "m.add_constraints(\n",
    "    g.sum(\"generators\") + battery_discharge - battery_charge == load,\n",
    "    name=\"energy_balance\",\n",
    ")"
   ]
  },
  {
   "cell_type": "markdown",
   "id": "e9769874-f052-4b88-88a7-5e3d4334e4b5",
   "metadata": {},
   "source": [
    "We now solve the model:"
   ]
  },
  {
   "cell_type": "code",
   "execution_count": null,
   "id": "5700dbf1-8ced-48f4-94b0-d991f5d1b4b0",
   "metadata": {},
   "outputs": [],
   "source": [
    "m.solve()"
   ]
  },
  {
   "cell_type": "markdown",
   "id": "80f712d8-b070-4eb3-9d3f-2e9ec560f9df",
   "metadata": {},
   "source": [
    "We display the results:"
   ]
  },
  {
   "cell_type": "code",
   "execution_count": null,
   "id": "b92c2f1e-113e-4dfc-9ec0-30c3ae680123",
   "metadata": {},
   "outputs": [],
   "source": [
    "m.objective.value"
   ]
  },
  {
   "cell_type": "code",
   "execution_count": null,
   "id": "413c8dab",
   "metadata": {},
   "outputs": [],
   "source": [
    "g.solution.to_dataframe().squeeze().unstack()"
   ]
  },
  {
   "cell_type": "code",
   "execution_count": null,
   "id": "ed4ffe65-82ac-4565-a11a-fa5d99f977f5",
   "metadata": {},
   "outputs": [],
   "source": [
    "battery_discharge.solution.to_dataframe()"
   ]
  },
  {
   "cell_type": "code",
   "execution_count": null,
   "id": "2ff75605-f715-4f1c-9b39-0e2b46d0072b",
   "metadata": {},
   "outputs": [],
   "source": [
    "battery_charge.solution.to_dataframe()"
   ]
  },
  {
   "cell_type": "code",
   "execution_count": null,
   "id": "41b539b7-1011-4fd9-b30b-b474c4e365cb",
   "metadata": {},
   "outputs": [],
   "source": [
    "battery_soc.solution.to_dataframe()"
   ]
  },
  {
   "cell_type": "markdown",
   "id": "3c3386c4-946f-4f8e-8582-18730f60be83",
   "metadata": {},
   "source": [
    "### Exercise"
   ]
  },
  {
   "cell_type": "markdown",
   "id": "c4d9eb93-073e-4725-957d-ebc2aa603b0c",
   "metadata": {},
   "source": [
    "- Using the conversion efficiencies and specific emissions from the lecture slides, add a constraint that limits the total emissions in the four periods to 50% of the unconstrained optimal solution. How does the optimal objective value and the generator dispatch change?\n",
    "\n",
    "- Reimplement the storage consistency constraint such that the initial state of charge is not zero but corresponds to the state of charge in the final period of the optimisation horizon.\n",
    "\n",
    "- What parameters of the storage unit would have to be changed to reduce the objective? What's the sensitivity?"
   ]
  },
  {
   "cell_type": "markdown",
   "id": "231d90d1",
   "metadata": {},
   "source": []
  },
  {
   "cell_type": "markdown",
   "id": "d97637fb",
   "metadata": {},
   "source": []
  }
 ],
 "metadata": {
  "kernelspec": {
   "display_name": "esm-2024",
   "language": "python",
   "name": "python3"
  },
  "language_info": {
   "codemirror_mode": {
    "name": "ipython",
    "version": 3
   },
   "file_extension": ".py",
   "mimetype": "text/x-python",
   "name": "python",
   "nbconvert_exporter": "python",
   "pygments_lexer": "ipython3",
   "version": "3.11.8"
  }
 },
 "nbformat": 4,
 "nbformat_minor": 5
}
